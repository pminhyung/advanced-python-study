{
 "cells": [
  {
   "cell_type": "markdown",
   "metadata": {},
   "source": [
    "## Story 12 Named Tuple"
   ]
  },
  {
   "cell_type": "markdown",
   "metadata": {},
   "source": [
    "### [Named Tuple의 이해와 작성]\n",
    "\n",
    "tuple 속 각각의 값에 대한 정보를 새겨놓기 위함"
   ]
  },
  {
   "cell_type": "code",
   "execution_count": 2,
   "metadata": {},
   "outputs": [
    {
     "name": "stdout",
     "output_type": "stream",
     "text": [
      "3 7\n",
      "3 7\n"
     ]
    }
   ],
   "source": [
    "from collections import namedtuple # collections 모듈의  namedtuple 호출\n",
    "\n",
    "Tri = namedtuple('Triangle', ['bottom', 'height']) \n",
    "# namedtuple class에 속한 'Triangle' class 만듦, 이 class 정보를 참조하는 Tri라는 객체생성\n",
    "# *****class도 객체이다!!*****\n",
    "\n",
    "t=Tri(3, 7) # namedtuple class 객체 생성\n",
    "\n",
    "print(t[0], t[1]) # 일반 tuple과 동일한 방법으로 접근 가능\n",
    "print(t.bottom, t.height) # 일반 tuple과 달리 이름으로 접근가능"
   ]
  },
  {
   "cell_type": "code",
   "execution_count": 3,
   "metadata": {},
   "outputs": [
    {
     "ename": "TypeError",
     "evalue": "'Triangle' object does not support item assignment",
     "output_type": "error",
     "traceback": [
      "\u001b[1;31m---------------------------------------------------------------------------\u001b[0m",
      "\u001b[1;31mTypeError\u001b[0m                                 Traceback (most recent call last)",
      "\u001b[1;32m<ipython-input-3-eb6972fe0df9>\u001b[0m in \u001b[0;36m<module>\u001b[1;34m\u001b[0m\n\u001b[1;32m----> 1\u001b[1;33m \u001b[0mt\u001b[0m\u001b[1;33m[\u001b[0m\u001b[1;36m0\u001b[0m\u001b[1;33m]\u001b[0m \u001b[1;33m=\u001b[0m \u001b[1;36m15\u001b[0m\u001b[1;33m\u001b[0m\u001b[1;33m\u001b[0m\u001b[0m\n\u001b[0m",
      "\u001b[1;31mTypeError\u001b[0m: 'Triangle' object does not support item assignment"
     ]
    }
   ],
   "source": [
    "t[0] = 15 # 'Triangle' 라는 class 이름은 오류창에서 의미가 있다"
   ]
  },
  {
   "cell_type": "code",
   "execution_count": null,
   "metadata": {},
   "outputs": [],
   "source": [
    "# 권장방법 - 변수와 클래스 이름이 같게되어 불필요한 혼동을 줄일 수 있다\n",
    "\n",
    "Tri = namedtuple('Tri', ['bottom', 'height'])\n",
    "Tri = namedtuple('Tri','bottom height') # 변수이름들을 나열로도 명시가능"
   ]
  },
  {
   "cell_type": "markdown",
   "metadata": {},
   "source": [
    "### [Named Tuple Unpacking]"
   ]
  },
  {
   "cell_type": "code",
   "execution_count": 4,
   "metadata": {},
   "outputs": [
    {
     "name": "stdout",
     "output_type": "stream",
     "text": [
      "12 79\n"
     ]
    }
   ],
   "source": [
    "# a, b = namedtuple()\n",
    "t = Tri(12, 79) # named tuple 객체 생성\n",
    "a, b = t # unpacking\n",
    "print(a, b)"
   ]
  },
  {
   "cell_type": "code",
   "execution_count": null,
   "metadata": {},
   "outputs": [],
   "source": [
    "# 함수에 값을 전달할 때도 *을 붙여서 unpacking 가능\n",
    "def show(n1, n2):\n",
    "    print(n1, n2)\n",
    "    \n",
    "t = Tri(3, 8)\n",
    "\n",
    "show(*t) # 값의 전달과정에서 unpacking: (3, 8) -> 3, 8"
   ]
  }
 ],
 "metadata": {
  "kernelspec": {
   "display_name": "Python 3",
   "language": "python",
   "name": "python3"
  },
  "language_info": {
   "codemirror_mode": {
    "name": "ipython",
    "version": 3
   },
   "file_extension": ".py",
   "mimetype": "text/x-python",
   "name": "python",
   "nbconvert_exporter": "python",
   "pygments_lexer": "ipython3",
   "version": "3.7.4"
  }
 },
 "nbformat": 4,
 "nbformat_minor": 4
}

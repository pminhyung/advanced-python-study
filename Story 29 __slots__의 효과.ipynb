{
 "cells": [
  {
   "cell_type": "markdown",
   "metadata": {},
   "source": [
    "## Story 29  _ _ slots _ _ 의 효과"
   ]
  },
  {
   "cell_type": "markdown",
   "metadata": {},
   "source": [
    "### [ _ _ dict _ _  의 단점과 그 해결책]"
   ]
  },
  {
   "cell_type": "markdown",
   "metadata": {},
   "source": [
    "_ _ dict _ _ 사용 이유 : '유연성'\n",
    "> 객체의 메모리 할당크기를 고정시키고,  \n",
    "> _ _ dict _ _ 를 이용하여 변수 추가, 수정, 삭제를 좀 더 용이하게 하기 위함(유연성 향상)"
   ]
  },
  {
   "cell_type": "markdown",
   "metadata": {},
   "source": [
    "_ _ dict _ _ 사용의 단점 : '변수 접근속도'  \n",
    "> 객체 내의 변수 등 값을 참조할 때 _ _ dict _ _ 라는 과정을 거치기 때문"
   ]
  },
  {
   "cell_type": "markdown",
   "metadata": {},
   "source": [
    "대부분의 경우 _ _ dict _ _ 를 통한 유연성 필요 X.  \n",
    "direct 참조를 위한 방법 : _ _ slots _ _"
   ]
  },
  {
   "cell_type": "code",
   "execution_count": 1,
   "metadata": {},
   "outputs": [
    {
     "name": "stdout",
     "output_type": "stream",
     "text": [
      "(1, 1, 1)\n",
      "(24, 17, 31)\n"
     ]
    }
   ],
   "source": [
    "# 보통의 class\n",
    "# : _ _ dict _ _ 존재 (변수 정보 추가수정삭제 가능)\n",
    "class Point3D:\n",
    "    def __init__(self, x, y, z):\n",
    "        self.x = x       # x 좌표\n",
    "        self.y = y       # y 좌표\n",
    "        self.z = z       # z 좌표\n",
    "    def __str__(self):\n",
    "        return '({0}, {1}, {2})'.format(self.x, self.y, self.z)\n",
    "\n",
    "\n",
    "def main():\n",
    "    p1 = Point3D(1, 1, 1)      # 3차원 좌표상의 한 점\n",
    "    p2 = Point3D(24, 17, 31)       # 3차원 좌표상의 한 점\n",
    "    print(p1)\n",
    "    print(p2)\n",
    "\n",
    "main()"
   ]
  },
  {
   "cell_type": "code",
   "execution_count": 2,
   "metadata": {},
   "outputs": [
    {
     "name": "stdout",
     "output_type": "stream",
     "text": [
      "(1, 1, 1)\n",
      "(24, 17, 31)\n"
     ]
    }
   ],
   "source": [
    "# _ _ slots _ _ 사용\n",
    "# : 변수 추가수정삭제 불가능, direct로 변수 접근 가능\n",
    "class Point3D:\n",
    "    __slots__ = ('x', 'y', 'z') # 변수 x, y, z로 고정 (불변)\n",
    "    \n",
    "    def __init__(self, x, y, z):\n",
    "        self.x = x       # x 좌표\n",
    "        self.y = y       # y 좌표\n",
    "        self.z = z       # z 좌표\n",
    "    def __str__(self):\n",
    "        return '({0}, {1}, {2})'.format(self.x, self.y, self.z)\n",
    "\n",
    "\n",
    "def main():\n",
    "    p1 = Point3D(1, 1, 1)      # 3차원 좌표상의 한 점\n",
    "    p2 = Point3D(24, 17, 31)       # 3차원 좌표상의 한 점\n",
    "    print(p1)\n",
    "    print(p2)\n",
    "\n",
    "main()"
   ]
  },
  {
   "cell_type": "markdown",
   "metadata": {},
   "source": [
    "### [ _ _ dict _ _ 있을 때와 _ _ slots _ _ 있을 때의 속도 차이]"
   ]
  },
  {
   "cell_type": "code",
   "execution_count": 3,
   "metadata": {},
   "outputs": [
    {
     "name": "stdout",
     "output_type": "stream",
     "text": [
      "24 17 31\n",
      "24 17 31\n"
     ]
    }
   ],
   "source": [
    "class Point3D:\n",
    "    def __init__(self, x, y, z):\n",
    "        self.x = x       # x 좌표\n",
    "        self.y = y       # y 좌표\n",
    "        self.z = z       # z 좌표\n",
    "    def __str__(self):\n",
    "        return '({0}, {1}, {2})'.format(self.x, self.y, self.z)\n",
    "\n",
    "\n",
    "def main():\n",
    "    p = Point3D(24, 17, 31)       # 3차원 좌표상의 한 점\n",
    "    print(p.x, p.y, p.z)\n",
    "    print(p.__dict__['x'], p.__dict__['y'], p.__dict__['z']) # 속도가 상대적으로 느릴 것이다\n",
    "\n",
    "main()"
   ]
  },
  {
   "cell_type": "code",
   "execution_count": 4,
   "metadata": {},
   "outputs": [
    {
     "name": "stdout",
     "output_type": "stream",
     "text": [
      "7.190000007994968e-05\n"
     ]
    }
   ],
   "source": [
    "# 수행속도 측정 방법 - timeit\n",
    "import timeit\n",
    "start = timeit.default_timer() # 시작시점의 수치\n",
    "stop = timeit.default_timer() # 종료 시점의 수치\n",
    "print(stop - start) # 수치 차이 => 시간 소요 확인"
   ]
  },
  {
   "cell_type": "code",
   "execution_count": 5,
   "metadata": {},
   "outputs": [
    {
     "name": "stdout",
     "output_type": "stream",
     "text": [
      "(9000001, 9000001, 9000001)\n",
      "6.788116500000001\n"
     ]
    }
   ],
   "source": [
    "#  _ _ dict _ _ 있을 때 수행속도 측정\n",
    "import timeit\n",
    "\n",
    "class Point3D:    \n",
    "    def __init__(self, x, y, z):\n",
    "        self.x = x       # x 좌표\n",
    "        self.y = y       # y 좌표\n",
    "        self.z = z       # z 좌표\n",
    "    def __str__(self):\n",
    "        return '({0}, {1}, {2})'.format(self.x, self.y, self.z)\n",
    "\n",
    "\n",
    "def main():\n",
    "    start = timeit.default_timer()\n",
    "    p = Point3D(1, 1, 1)\n",
    "    \n",
    "    for i in range(3000): # 3000번 x 3000번 X 3(x, y, z 변수 3개) = 27000000번 접근\n",
    "        for i in range(3000):\n",
    "            p.x += 1\n",
    "            p.y += 1\n",
    "            p.z += 1\n",
    "    print(p)\n",
    "\n",
    "    stop = timeit.default_timer()\n",
    "    print(stop - start)\n",
    "\n",
    "main()"
   ]
  },
  {
   "cell_type": "code",
   "execution_count": 6,
   "metadata": {},
   "outputs": [
    {
     "name": "stdout",
     "output_type": "stream",
     "text": [
      "(9000001, 9000001, 9000001)\n",
      "5.8234688000000006\n"
     ]
    }
   ],
   "source": [
    "#  _ _ slots _ _ 있을 때 수행속도 측정 : 더 적은 시간 소요\n",
    "import timeit\n",
    "\n",
    "class Point3D:\n",
    "    __slots__ = ('x', 'y', 'z')\n",
    "    \n",
    "    def __init__(self, x, y, z):\n",
    "        self.x = x       # x 좌표\n",
    "        self.y = y       # y 좌표\n",
    "        self.z = z       # z 좌표\n",
    "    def __str__(self):\n",
    "        return '({0}, {1}, {2})'.format(self.x, self.y, self.z)\n",
    "\n",
    "\n",
    "def main():\n",
    "    start = timeit.default_timer()\n",
    "    p = Point3D(1, 1, 1)\n",
    "\n",
    "    for i in range(3000):\n",
    "        for i in range(3000):\n",
    "            p.x += 1\n",
    "            p.y += 1\n",
    "            p.z += 1\n",
    "    print(p)\n",
    "\n",
    "    stop = timeit.default_timer()\n",
    "    print(stop - start)\n",
    "\n",
    "\n",
    "main()"
   ]
  },
  {
   "cell_type": "code",
   "execution_count": null,
   "metadata": {},
   "outputs": [],
   "source": []
  }
 ],
 "metadata": {
  "kernelspec": {
   "display_name": "Python 3",
   "language": "python",
   "name": "python3"
  },
  "language_info": {
   "codemirror_mode": {
    "name": "ipython",
    "version": 3
   },
   "file_extension": ".py",
   "mimetype": "text/x-python",
   "name": "python",
   "nbconvert_exporter": "python",
   "pygments_lexer": "ipython3",
   "version": "3.7.4"
  }
 },
 "nbformat": 4,
 "nbformat_minor": 4
}

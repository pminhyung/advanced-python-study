{
 "cells": [
  {
   "cell_type": "markdown",
   "metadata": {},
   "source": [
    "## Story 23 클래스와 객체의 본질 (매우 중요***)"
   ]
  },
  {
   "cell_type": "markdown",
   "metadata": {},
   "source": [
    "클래스: 객체를 만들기 위한 일종의 설계도, 클래스내에 들어갈 변수(데이터)와 메소드(기능)를 결정  \n",
    "  \n",
    "객체: 클래스를 기반으로 만들어진 실제 사물"
   ]
  },
  {
   "cell_type": "markdown",
   "metadata": {},
   "source": [
    "### [객체 안에 변수가 만들어지는 시점]"
   ]
  },
  {
   "cell_type": "markdown",
   "metadata": {},
   "source": [
    "### 결론:  (미리 말하자면)  \n",
    "' _ _ init _ _'을 통해서 '설계도에 해당하는 클래스를 바탕으로 만들어진 객체'에는 '변수'와 '메소드'가 담겨있다는 다른언어의 규칙이 파이썬에서도 동일하게 된다\n",
    "    \n",
    "그러나 원래는 다른언어와 달리,\n",
    "파이썬의 클래스내에 메소드는 필수이나, 변수정의는 그렇지 않다"
   ]
  },
  {
   "cell_type": "code",
   "execution_count": 2,
   "metadata": {},
   "outputs": [],
   "source": [
    "# 파이썬에서는 인스턴스 변수 i를 따로 지정하지 않아도 메소드를 통해 변수가 정의될 수 있다\n",
    "class Simple:\n",
    "    def seti(self, i): # seti 메소드 정의\n",
    "        self.i = i\n",
    "    def geti(self): # geti 메소드 정의\n",
    "        return self.i"
   ]
  },
  {
   "cell_type": "code",
   "execution_count": 3,
   "metadata": {},
   "outputs": [
    {
     "data": {
      "text/plain": [
       "200"
      ]
     },
     "execution_count": 3,
     "metadata": {},
     "output_type": "execute_result"
    }
   ],
   "source": [
    "# 파이썬에서의 클래스내 변수(i) 생성 시점\n",
    "s1 = Simple()\n",
    "s1.seti(200) # seti 메소드가 실행되고 인자 200이 전달되어야 객체 내에 변수 i가 생성된다\n",
    "s1.geti() "
   ]
  },
  {
   "cell_type": "code",
   "execution_count": 4,
   "metadata": {},
   "outputs": [
    {
     "ename": "AttributeError",
     "evalue": "'Simple' object has no attribute 'i'",
     "output_type": "error",
     "traceback": [
      "\u001b[1;31m---------------------------------------------------------------------------\u001b[0m",
      "\u001b[1;31mAttributeError\u001b[0m                            Traceback (most recent call last)",
      "\u001b[1;32m<ipython-input-4-2ed4ab8b9cb4>\u001b[0m in \u001b[0;36m<module>\u001b[1;34m\u001b[0m\n\u001b[0;32m      1\u001b[0m \u001b[1;31m# 따라서 geti()가 seti()보다 먼저 호출되면 에러 발생\u001b[0m\u001b[1;33m\u001b[0m\u001b[1;33m\u001b[0m\u001b[1;33m\u001b[0m\u001b[0m\n\u001b[0;32m      2\u001b[0m \u001b[0ms2\u001b[0m \u001b[1;33m=\u001b[0m \u001b[0mSimple\u001b[0m\u001b[1;33m(\u001b[0m\u001b[1;33m)\u001b[0m\u001b[1;33m\u001b[0m\u001b[1;33m\u001b[0m\u001b[0m\n\u001b[1;32m----> 3\u001b[1;33m \u001b[0ms2\u001b[0m\u001b[1;33m.\u001b[0m\u001b[0mgeti\u001b[0m\u001b[1;33m(\u001b[0m\u001b[1;33m)\u001b[0m\u001b[1;33m\u001b[0m\u001b[1;33m\u001b[0m\u001b[0m\n\u001b[0m",
      "\u001b[1;32m<ipython-input-2-d30ebb8cab2b>\u001b[0m in \u001b[0;36mgeti\u001b[1;34m(self)\u001b[0m\n\u001b[0;32m      4\u001b[0m         \u001b[0mself\u001b[0m\u001b[1;33m.\u001b[0m\u001b[0mi\u001b[0m \u001b[1;33m=\u001b[0m \u001b[0mi\u001b[0m\u001b[1;33m\u001b[0m\u001b[1;33m\u001b[0m\u001b[0m\n\u001b[0;32m      5\u001b[0m     \u001b[1;32mdef\u001b[0m \u001b[0mgeti\u001b[0m\u001b[1;33m(\u001b[0m\u001b[0mself\u001b[0m\u001b[1;33m)\u001b[0m\u001b[1;33m:\u001b[0m \u001b[1;31m# geti 메소드 정의\u001b[0m\u001b[1;33m\u001b[0m\u001b[1;33m\u001b[0m\u001b[0m\n\u001b[1;32m----> 6\u001b[1;33m         \u001b[1;32mreturn\u001b[0m \u001b[0mself\u001b[0m\u001b[1;33m.\u001b[0m\u001b[0mi\u001b[0m\u001b[1;33m\u001b[0m\u001b[1;33m\u001b[0m\u001b[0m\n\u001b[0m",
      "\u001b[1;31mAttributeError\u001b[0m: 'Simple' object has no attribute 'i'"
     ]
    }
   ],
   "source": [
    "# 따라서 geti()가 seti()보다 먼저 호출되면 에러 발생\n",
    "s2 = Simple()\n",
    "s2.geti()"
   ]
  },
  {
   "cell_type": "code",
   "execution_count": 6,
   "metadata": {},
   "outputs": [],
   "source": [
    "# 클래스 생성의 모범 예제\n",
    "class Simple:\n",
    "    def __init__(self):\n",
    "        self.i = 0 # 변수 초기화, 이 순간에 변수 i 생성\n",
    "    def seti(self, i):\n",
    "        self.i = i\n",
    "    def geti(self):\n",
    "        return self.i\n",
    "\n",
    "# __init__사용: 모든 인스턴스변수 초기화해주어 필요 인스턴스변수들을 한눈에 볼 수 있게 함\n",
    "# 프로그래머가 메소드를 모두 살피며 필요 인스턴스변수를 번거롭게 찾을 필요가 없음\n",
    "\n",
    "# __init__ 통해서 실행되는 그 시점에 필요 인스턴스변수들이 모두생성되고, 프로그래머는 확인할 수 있다"
   ]
  },
  {
   "cell_type": "code",
   "execution_count": 7,
   "metadata": {},
   "outputs": [
    {
     "data": {
      "text/plain": [
       "0"
      ]
     },
     "execution_count": 7,
     "metadata": {},
     "output_type": "execute_result"
    }
   ],
   "source": [
    "s = Simple() # __init__덕분에 i가 생성됐으므로 에러발생X\n",
    "s.geti()"
   ]
  },
  {
   "cell_type": "markdown",
   "metadata": {},
   "source": [
    "### 결론:  \n",
    "'__init__'을 통해서 '설계도에 해당하는 클래스를 바탕으로 만들어진 객체'에는 '변수'와 '메소드'가 담겨있다는 다른언어의 규칙이 파이썬에서도 동일하게 된다"
   ]
  },
  {
   "cell_type": "markdown",
   "metadata": {},
   "source": [
    "### [객체에 변수와 메소드 붙였다 떼었다 해보기] - 파이썬의 유연성\n",
    "  \n",
    "'파이썬의 객체에는 변수와 메소드를 붙이기도 하고 떼기도 할 수 있다'"
   ]
  },
  {
   "cell_type": "code",
   "execution_count": 10,
   "metadata": {},
   "outputs": [
    {
     "data": {
      "text/plain": [
       "27"
      ]
     },
     "execution_count": 10,
     "metadata": {},
     "output_type": "execute_result"
    }
   ],
   "source": [
    "# 클래스 '변수'를 객체에서 정의하기\n",
    "class SoSimple:\n",
    "    def geti(self):\n",
    "        return self.i\n",
    "    \n",
    "ss = SoSimple()\n",
    "ss.i = 27 # 이 순간 변수 ss에 담긴 객체에 i라는 변수가 생긴다\n",
    "ss.geti() # ss에 담긴 객체에 i가 생겼으므로 geti 메소드 호출가능"
   ]
  },
  {
   "cell_type": "code",
   "execution_count": 11,
   "metadata": {},
   "outputs": [
    {
     "name": "stdout",
     "output_type": "stream",
     "text": [
      "hi~\n"
     ]
    }
   ],
   "source": [
    "# 클래스 '메소드'를 객체에서 정의하기\n",
    "ss.hello = lambda : print('hi~') # hello 메소드 추가\n",
    "ss.hello()"
   ]
  },
  {
   "cell_type": "code",
   "execution_count": 12,
   "metadata": {},
   "outputs": [
    {
     "ename": "AttributeError",
     "evalue": "'SoSimple' object has no attribute 'i'",
     "output_type": "error",
     "traceback": [
      "\u001b[1;31m---------------------------------------------------------------------------\u001b[0m",
      "\u001b[1;31mAttributeError\u001b[0m                            Traceback (most recent call last)",
      "\u001b[1;32m<ipython-input-12-45a72453c7ac>\u001b[0m in \u001b[0;36m<module>\u001b[1;34m\u001b[0m\n\u001b[0;32m      2\u001b[0m \u001b[1;32mdel\u001b[0m \u001b[0mss\u001b[0m\u001b[1;33m.\u001b[0m\u001b[0mi\u001b[0m \u001b[1;31m# ss에 담긴 객체에서 변수 i 삭제\u001b[0m\u001b[1;33m\u001b[0m\u001b[1;33m\u001b[0m\u001b[0m\n\u001b[0;32m      3\u001b[0m \u001b[1;32mdel\u001b[0m \u001b[0mss\u001b[0m\u001b[1;33m.\u001b[0m\u001b[0mhello\u001b[0m \u001b[1;31m# ss에 담긴 객체에서 메소드 hello 삭제\u001b[0m\u001b[1;33m\u001b[0m\u001b[1;33m\u001b[0m\u001b[0m\n\u001b[1;32m----> 4\u001b[1;33m \u001b[0mss\u001b[0m\u001b[1;33m.\u001b[0m\u001b[0mgeti\u001b[0m\u001b[1;33m(\u001b[0m\u001b[1;33m)\u001b[0m\u001b[1;33m\u001b[0m\u001b[1;33m\u001b[0m\u001b[0m\n\u001b[0m",
      "\u001b[1;32m<ipython-input-10-6f668cbdeb13>\u001b[0m in \u001b[0;36mgeti\u001b[1;34m(self)\u001b[0m\n\u001b[0;32m      1\u001b[0m \u001b[1;32mclass\u001b[0m \u001b[0mSoSimple\u001b[0m\u001b[1;33m:\u001b[0m\u001b[1;33m\u001b[0m\u001b[1;33m\u001b[0m\u001b[0m\n\u001b[0;32m      2\u001b[0m     \u001b[1;32mdef\u001b[0m \u001b[0mgeti\u001b[0m\u001b[1;33m(\u001b[0m\u001b[0mself\u001b[0m\u001b[1;33m)\u001b[0m\u001b[1;33m:\u001b[0m\u001b[1;33m\u001b[0m\u001b[1;33m\u001b[0m\u001b[0m\n\u001b[1;32m----> 3\u001b[1;33m         \u001b[1;32mreturn\u001b[0m \u001b[0mself\u001b[0m\u001b[1;33m.\u001b[0m\u001b[0mi\u001b[0m\u001b[1;33m\u001b[0m\u001b[1;33m\u001b[0m\u001b[0m\n\u001b[0m\u001b[0;32m      4\u001b[0m \u001b[0mss\u001b[0m \u001b[1;33m=\u001b[0m \u001b[0mSoSimple\u001b[0m\u001b[1;33m(\u001b[0m\u001b[1;33m)\u001b[0m\u001b[1;33m\u001b[0m\u001b[1;33m\u001b[0m\u001b[0m\n\u001b[0;32m      5\u001b[0m \u001b[0mss\u001b[0m\u001b[1;33m.\u001b[0m\u001b[0mi\u001b[0m \u001b[1;33m=\u001b[0m \u001b[1;36m27\u001b[0m\u001b[1;33m\u001b[0m\u001b[1;33m\u001b[0m\u001b[0m\n",
      "\u001b[1;31mAttributeError\u001b[0m: 'SoSimple' object has no attribute 'i'"
     ]
    }
   ],
   "source": [
    "# 객체에 담긴 클래스의 '메소드와 변수' 삭제\n",
    "del ss.i # ss에 담긴 객체에서 변수 i 삭제\n",
    "del ss.hello # ss에 담긴 객체에서 메소드 hello 삭제\n",
    "ss.geti() # i가 삭제되었기 때문에 에러 발생"
   ]
  },
  {
   "cell_type": "markdown",
   "metadata": {},
   "source": [
    "### [클래스에 변수 추가하기] : \n",
    "  \n",
    "앞에서는 객체에 '변수'와 '메소드'를 추가해보았다  \n",
    "이번에는 클래스에 '변수' 추가 - 그러나 클래스기반 객체들에는 해당 변수 저장 X\n",
    "  \n",
    "- (1) 클래스에 속하는 변수를 만들 수 있다, 이유는 클래스도 객체이기 때문이다.\n",
    "- (2) 클래스가 가진 변수를 객체는 가지지 않는다  \n",
    "(그러나 객체에서 해당 변수 접근시, 기반 클래스로 가서 찾아 출력한다)"
   ]
  },
  {
   "cell_type": "code",
   "execution_count": null,
   "metadata": {},
   "outputs": [],
   "source": [
    "# (1) 클래스에 속하는 변수를 만들 수 있다, 이유는 클래스도 객체이기 때문이다.\n",
    "class Simple:\n",
    "    def __init__(self, i):\n",
    "        self.i = i # 변수 초기화, 이 순간에 변수 i 생성\n",
    "    def geti(self):\n",
    "        return self.i\n",
    "\n",
    "Simple.n = 7 # Simple 클래스에 변수 n을 추가하고 7로 초기화. 그러나 클래스의 객체에 n이 생기지는 않는다\n",
    "Simple.n"
   ]
  },
  {
   "cell_type": "markdown",
   "metadata": {},
   "source": [
    "그런데 클래스는 객체와 달리 설계도일 뿐인데 어떻게 변수추가가 가능한가?  \n",
    "### -> 파이썬의 클래스는 클래스이자 객체이다 (유연하다)"
   ]
  },
  {
   "cell_type": "code",
   "execution_count": null,
   "metadata": {},
   "outputs": [],
   "source": [
    "# (2) 클래스가 가진 변수를 객체는 가지지 않는다\n",
    "# 클래스의 객체에는 n이 생기지 않는다고 했는데 왜 s1.n, s2.n이 출력될까?\n",
    "s1 = Simple(3)\n",
    "s2 = Simple(5)\n",
    "\n",
    "print(s1.n, s1.geti(), sep = ', ')\n",
    "print(s2.n, s2.geti(), sep = ', ')\n",
    "\n",
    "# 파이썬은 s1, s2에 n이 없기 때문에 이들의 기반이 되는 클래스 Simple로 가서 n을 찾는다"
   ]
  },
  {
   "cell_type": "markdown",
   "metadata": {},
   "source": [
    "결론:  \n",
    "    - 클래스에 속하는 변수를 만들 수 있다, 이유는 클래스도 객체이기 때문이다.  \n",
    "    - 객체에 '찾는 변수'가 없으면 해당 객체의 클래스로 찾아가서 그 변수를 찾는다"
   ]
  },
  {
   "cell_type": "markdown",
   "metadata": {},
   "source": [
    "### [파이썬에서는 클래스도 객체]"
   ]
  },
  {
   "cell_type": "code",
   "execution_count": 17,
   "metadata": {},
   "outputs": [
    {
     "data": {
      "text/plain": [
       "type"
      ]
     },
     "execution_count": 17,
     "metadata": {},
     "output_type": "execute_result"
    }
   ],
   "source": [
    "type(type) # class type"
   ]
  },
  {
   "cell_type": "code",
   "execution_count": 18,
   "metadata": {},
   "outputs": [
    {
     "data": {
      "text/plain": [
       "list"
      ]
     },
     "execution_count": 18,
     "metadata": {},
     "output_type": "execute_result"
    }
   ],
   "source": [
    "type([1, 2]) # class list"
   ]
  },
  {
   "cell_type": "code",
   "execution_count": 19,
   "metadata": {},
   "outputs": [
    {
     "data": {
      "text/plain": [
       "type"
      ]
     },
     "execution_count": 19,
     "metadata": {},
     "output_type": "execute_result"
    }
   ],
   "source": [
    "type(list) # list는 클래스이자 type클래스의 객체이다 (클래스이자 객체 - 유연성)"
   ]
  },
  {
   "cell_type": "code",
   "execution_count": 20,
   "metadata": {},
   "outputs": [
    {
     "data": {
      "text/plain": [
       "type"
      ]
     },
     "execution_count": 20,
     "metadata": {},
     "output_type": "execute_result"
    }
   ],
   "source": [
    "# 프로그래머가 정의한 클래스 또한 클래스이자 객체(type class의)이다\n",
    "class Simple:\n",
    "    pass # 텅 빈 클래스 만드는 법\n",
    "\n",
    "type(Simple)"
   ]
  },
  {
   "cell_type": "code",
   "execution_count": null,
   "metadata": {},
   "outputs": [],
   "source": [
    "# 변수에 클래스를 담을 수 있는 것도 클래스가 객체이기 때문이다\n",
    "\n",
    "class Simple:\n",
    "    pass\n",
    "\n",
    "simple2 = Simple # 변수 simple2에 클래스 Simple 담음\n",
    "\n",
    "# s1 = Simple(), s2 = Simple() 이라면, Simple 클래스의 rc = 2 이고 s1, s2로 접근 가능하다\n",
    "# 마찬가지로 Simple클래스 몸체에도 Simple, Simple2라는 이름으로 접근할 수 있다 (객체이기 때문) \n",
    "\n",
    "s1 = Simple() # Simple클래스로 객체 생성, 클래스가 객체이기 때문에 가능\n",
    "s2 = Simple2() # 변수 Simple2로 객체 생성"
   ]
  },
  {
   "cell_type": "markdown",
   "metadata": {},
   "source": [
    "결론:   \n",
    "    - 클래스도 객체이다  \n",
    "    - 클래스는 type이라는 클래스의 객체이다  \n",
    "    (파이썬의 클래스가 객체이기 때문에 객체를 대상으로 할 수 있는 일들이 클래스를 대상으로 이루어질 수 있다, 변수에 클래스를 담을 수 있는 것도 클래스가 객체이기 때문이다)"
   ]
  }
 ],
 "metadata": {
  "kernelspec": {
   "display_name": "Python 3",
   "language": "python",
   "name": "python3"
  },
  "language_info": {
   "codemirror_mode": {
    "name": "ipython",
    "version": 3
   },
   "file_extension": ".py",
   "mimetype": "text/x-python",
   "name": "python",
   "nbconvert_exporter": "python",
   "pygments_lexer": "ipython3",
   "version": "3.7.4"
  }
 },
 "nbformat": 4,
 "nbformat_minor": 4
}

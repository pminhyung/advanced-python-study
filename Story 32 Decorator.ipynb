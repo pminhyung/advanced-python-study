{
 "cells": [
  {
   "cell_type": "markdown",
   "metadata": {},
   "source": [
    "## Story 32 Decorator"
   ]
  },
  {
   "cell_type": "markdown",
   "metadata": {},
   "source": [
    "### [데코레이터에 대한 이해] : 원래에 기능 추가"
   ]
  },
  {
   "cell_type": "code",
   "execution_count": 2,
   "metadata": {},
   "outputs": [
    {
     "name": "stdout",
     "output_type": "stream",
     "text": [
      "^_^\n"
     ]
    }
   ],
   "source": [
    "def smile():\n",
    "    print(\"^_^\")\n",
    "    \n",
    "def confused():\n",
    "    print(\"@_@\")\n",
    "\n",
    "smile()"
   ]
  },
  {
   "cell_type": "code",
   "execution_count": 3,
   "metadata": {},
   "outputs": [
    {
     "name": "stdout",
     "output_type": "stream",
     "text": [
      "@_@\n"
     ]
    }
   ],
   "source": [
    "confused()"
   ]
  },
  {
   "cell_type": "code",
   "execution_count": 4,
   "metadata": {},
   "outputs": [
    {
     "name": "stdout",
     "output_type": "stream",
     "text": [
      "emoticon!\n",
      "^_^\n",
      "emoticon!\n"
     ]
    }
   ],
   "source": [
    "# decorator 개념을 보여주는 예제\n",
    "def deco(func): # decorator func.\n",
    "    def df():\n",
    "        print('emoticon!') # 추가된 기능\n",
    "        func() # 원래의 기능\n",
    "        print('emoticon!') # 추가된 기능\n",
    "    return df # 보강된 기능의 함수 반환\n",
    "\n",
    "smile = deco(smile) # deco(smile) 반환 결과를 smile에 저장 -> 'smile'의 참조 객체가 변경됨(보강된 smile로)\n",
    "smile()          # 기능이 보강된 smile 함수 호출"
   ]
  },
  {
   "cell_type": "markdown",
   "metadata": {},
   "source": [
    "**Decorator : 기능이 추가된 새로운 함수를 만들고 이 함수를 반환한다**"
   ]
  },
  {
   "cell_type": "markdown",
   "metadata": {},
   "source": [
    "### [전달 인자가 있는 함수 기반의 decorator]"
   ]
  },
  {
   "cell_type": "code",
   "execution_count": 5,
   "metadata": {},
   "outputs": [
    {
     "data": {
      "text/plain": [
       "7"
      ]
     },
     "execution_count": 5,
     "metadata": {},
     "output_type": "execute_result"
    }
   ],
   "source": [
    "def adder2(n1, n2): # 전달 인자가 2개인 함수\n",
    "    return n1 + n2\n",
    "\n",
    "def adder3(n1, n2, n3): # 전달 인자가 3개인 함수\n",
    "    return n1 + n2 + n3\n",
    "\n",
    "adder2(3, 4)"
   ]
  },
  {
   "cell_type": "code",
   "execution_count": 7,
   "metadata": {},
   "outputs": [
    {
     "data": {
      "text/plain": [
       "15"
      ]
     },
     "execution_count": 7,
     "metadata": {},
     "output_type": "execute_result"
    }
   ],
   "source": [
    "adder3(3, 5, 7)"
   ]
  },
  {
   "cell_type": "code",
   "execution_count": null,
   "metadata": {},
   "outputs": [],
   "source": [
    "def adder_deco(func): # decorator func.\n",
    "    def ad(*args): # 여러개의 args를 tuple로 packing\n",
    "        print(*args, sep = ' + ', end = ' ')\n",
    "        print('= {0}'.format(func(*args))) # func에 unpacking하여 전달\n",
    "    return ad\n",
    "\n",
    "adder2 = adder_deco(adder2)\n",
    "adder2(3, 4)\n",
    "\n",
    "adder3 = adder_deco(adder3)\n",
    "adder3(1, 2, 3)"
   ]
  },
  {
   "cell_type": "markdown",
   "metadata": {},
   "source": [
    "### [@ 기반으로]"
   ]
  },
  {
   "cell_type": "code",
   "execution_count": null,
   "metadata": {},
   "outputs": [],
   "source": [
    "def deco(func): # decorator func.\n",
    "    def df():\n",
    "        print('emoticon!') \n",
    "        func() \n",
    "        print('emoticon!') \n",
    "    return df \n",
    "\n",
    "smile = deco(smile) # 보강된 smile를 'smile'에 다시 담아줌 => '@' 사용\n",
    "smile()   "
   ]
  },
  {
   "cell_type": "code",
   "execution_count": 8,
   "metadata": {},
   "outputs": [
    {
     "name": "stdout",
     "output_type": "stream",
     "text": [
      "emoticon!\n",
      "^_^\n",
      "emoticon!\n"
     ]
    }
   ],
   "source": [
    "# @ deco 사용  \n",
    "def deco(func): # decorator func.\n",
    "    def df():\n",
    "        print('emoticon!') \n",
    "        func() \n",
    "        print('emoticon!') \n",
    "    return df \n",
    "\n",
    "@deco\n",
    "def smile():\n",
    "    print(\"^_^\")\n",
    "\n",
    "smile()"
   ]
  },
  {
   "cell_type": "code",
   "execution_count": 9,
   "metadata": {},
   "outputs": [
    {
     "name": "stdout",
     "output_type": "stream",
     "text": [
      "3 + 4 = 7\n",
      "3 + 5 + 7 = 15\n"
     ]
    }
   ],
   "source": [
    "def adder_deco(func):       # decorator func.\n",
    "    def ad(*args):\n",
    "        print(*args, sep = ' + ', end = ' ')\n",
    "        print(\"= {0}\".format(func(*args)))\n",
    "    return ad\n",
    "\n",
    "\n",
    "@adder_deco            # 아래 함수(adder2)를 decorator(adder_deco)에 통과시켜라\n",
    "def adder2(n1, n2):       # 전달 인자가 두 개인 함수\n",
    "    return n1 + n2\n",
    "\n",
    "@adder_deco\n",
    "def adder3(n1, n2, n3):       # 전달 인자가 세 개인 함수\n",
    "    return n1 + n2 + n3\n",
    "\n",
    "\n",
    "def main():\n",
    "    adder2(3, 4)\n",
    "    adder3(3, 5, 7)\n",
    "\n",
    "main()"
   ]
  },
  {
   "cell_type": "markdown",
   "metadata": {},
   "source": [
    "### [decorator 함수 2개 이상 통과하기] : 가까운 것 먼저 통과"
   ]
  },
  {
   "cell_type": "code",
   "execution_count": null,
   "metadata": {},
   "outputs": [],
   "source": [
    "@deco1\n",
    "@deco2\n",
    "def simple():\n",
    "    print('simple')\n",
    "    \n",
    "simple = deco1(deco2(simple)) # 이렇게 표현할 수 있다"
   ]
  },
  {
   "cell_type": "code",
   "execution_count": 10,
   "metadata": {},
   "outputs": [
    {
     "name": "stdout",
     "output_type": "stream",
     "text": [
      "deco1\n",
      "deco2\n",
      "simple\n"
     ]
    }
   ],
   "source": [
    "def deco1(func):       # decorator 1\n",
    "    def inner():\n",
    "        print('deco1')\n",
    "        func()\n",
    "    return inner\n",
    "\n",
    "def deco2(func):       # decorator 2\n",
    "    def inner():\n",
    "        print('deco2')\n",
    "        func()\n",
    "    return inner\n",
    "\n",
    "@deco1\n",
    "@deco2\n",
    "def simple():\n",
    "    print('simple')\n",
    "\n",
    "\n",
    "def main():\n",
    "    simple()\n",
    "\n",
    "main()"
   ]
  },
  {
   "cell_type": "code",
   "execution_count": null,
   "metadata": {},
   "outputs": [],
   "source": []
  }
 ],
 "metadata": {
  "kernelspec": {
   "display_name": "Python 3",
   "language": "python",
   "name": "python3"
  },
  "language_info": {
   "codemirror_mode": {
    "name": "ipython",
    "version": 3
   },
   "file_extension": ".py",
   "mimetype": "text/x-python",
   "name": "python",
   "nbconvert_exporter": "python",
   "pygments_lexer": "ipython3",
   "version": "3.7.4"
  }
 },
 "nbformat": 4,
 "nbformat_minor": 4
}

{
 "cells": [
  {
   "cell_type": "markdown",
   "metadata": {},
   "source": [
    "## Story 15 함수 호출과 매개변수 선언에 있어서 Asterisk의 사용 규칙"
   ]
  },
  {
   "cell_type": "code",
   "execution_count": null,
   "metadata": {},
   "outputs": [],
   "source": [
    "# *과 **"
   ]
  },
  {
   "cell_type": "markdown",
   "metadata": {},
   "source": [
    "### [iterable 객체와 매개변수]"
   ]
  },
  {
   "cell_type": "code",
   "execution_count": null,
   "metadata": {},
   "outputs": [],
   "source": [
    "# tuple packing / unpacking에서 \n",
    "\n",
    "func(*iterable) # '푼다'의 기능\n",
    "def func(*args) # '묶는다'의 기능"
   ]
  },
  {
   "cell_type": "code",
   "execution_count": 2,
   "metadata": {},
   "outputs": [
    {
     "name": "stdout",
     "output_type": "stream",
     "text": [
      "1, 2, 3\n"
     ]
    }
   ],
   "source": [
    "# func(*iterable) - '푼다'의 기능\n",
    "def who(a, b, c):\n",
    "    print(a, b, c, sep = ', ')\n",
    "\n",
    "who(*[1, 2, 3])\n",
    "# who(*(0.1, 0.2, 0.3))\n",
    "# who(*'abc')"
   ]
  },
  {
   "cell_type": "code",
   "execution_count": 4,
   "metadata": {},
   "outputs": [
    {
     "name": "stdout",
     "output_type": "stream",
     "text": [
      "a, b, c\n"
     ]
    }
   ],
   "source": [
    "# func(*iterable), func(**iterable) - dict\n",
    "d = dict(a = 1, b = 2, c = 3)\n",
    "who(*d) # 이렇듯 *를 붙이면 키가 매개변수에 전달된다"
   ]
  },
  {
   "cell_type": "code",
   "execution_count": 5,
   "metadata": {},
   "outputs": [
    {
     "name": "stdout",
     "output_type": "stream",
     "text": [
      "1, 2, 3\n"
     ]
    }
   ],
   "source": [
    "who(**d) # 이렇듯 **를 붙이면 값이 매개변수에 전달된다"
   ]
  },
  {
   "cell_type": "code",
   "execution_count": 6,
   "metadata": {},
   "outputs": [
    {
     "name": "stdout",
     "output_type": "stream",
     "text": [
      "('a', 1), ('b', 2), ('c', 3)\n"
     ]
    }
   ],
   "source": [
    "# func(*iterable) - tuple\n",
    "def who(a, b, c):\n",
    "    print(a, b, c, sep = ', ')\n",
    "    \n",
    "d = dict(a = 1, b = 2, c = 3)\n",
    "who(*d.items()) # view 객체를 얻는다"
   ]
  },
  {
   "cell_type": "code",
   "execution_count": 7,
   "metadata": {},
   "outputs": [
    {
     "name": "stdout",
     "output_type": "stream",
     "text": [
      "(1, 2)\n"
     ]
    }
   ],
   "source": [
    "# def func(*args) - tuple로 '묶는다'\n",
    "def func(*args):\n",
    "    print(args) # args는 tuple\n",
    "    \n",
    "func(1,2) # 1과 2가 tuple로 묶여서 전달 "
   ]
  },
  {
   "cell_type": "code",
   "execution_count": null,
   "metadata": {},
   "outputs": [],
   "source": [
    "# def func(**args) - dict로 '묶는다'\n",
    "func(a = 1, b = 2, c = 3) # {'a' : 1, 'b' : 2, 'c' : 3} 생성되어 args에 전달"
   ]
  },
  {
   "cell_type": "code",
   "execution_count": 10,
   "metadata": {},
   "outputs": [
    {
     "name": "stdout",
     "output_type": "stream",
     "text": [
      "(1,)\n",
      "{'a': 1}\n"
     ]
    }
   ],
   "source": [
    "# def func(*args), def func(**args)\n",
    "def func(*args1, **args2):\n",
    "    print(args1) # args1은 tuple\n",
    "    print(args2) # args2는 dict\n",
    "\n",
    "func(1, a = 1)"
   ]
  },
  {
   "cell_type": "code",
   "execution_count": 11,
   "metadata": {},
   "outputs": [
    {
     "name": "stdout",
     "output_type": "stream",
     "text": [
      "(1, 2)\n",
      "{'a': 1, 'b': 2}\n"
     ]
    }
   ],
   "source": [
    "func(1, 2, a = 1, b = 2) \n",
    "# tuple로 묶을 수 있는 1, 2 는 *args 적용\n",
    "# dict로 묶을 수 있는 3, 4 는 **args 적용"
   ]
  },
  {
   "cell_type": "code",
   "execution_count": 12,
   "metadata": {},
   "outputs": [
    {
     "name": "stdout",
     "output_type": "stream",
     "text": [
      "()\n",
      "{}\n"
     ]
    }
   ],
   "source": [
    "func()"
   ]
  }
 ],
 "metadata": {
  "kernelspec": {
   "display_name": "Python 3",
   "language": "python",
   "name": "python3"
  },
  "language_info": {
   "codemirror_mode": {
    "name": "ipython",
    "version": 3
   },
   "file_extension": ".py",
   "mimetype": "text/x-python",
   "name": "python",
   "nbconvert_exporter": "python",
   "pygments_lexer": "ipython3",
   "version": "3.7.4"
  }
 },
 "nbformat": 4,
 "nbformat_minor": 4
}

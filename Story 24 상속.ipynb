{
 "cells": [
  {
   "cell_type": "markdown",
   "metadata": {},
   "source": [
    "### Story 24 상속"
   ]
  },
  {
   "cell_type": "markdown",
   "metadata": {},
   "source": [
    "상속에 대한 이해는 사용보다는 이해의 목적이 클 것이다"
   ]
  },
  {
   "cell_type": "markdown",
   "metadata": {},
   "source": [
    "class A (fun()) -----> class Z (fun() + 메소드 추가)  \n",
    ": classZ가 classA를 상속한다  \n",
    "  \n",
    "A class  \n",
    "     ^  \n",
    "     |  \n",
    "     |  \n",
    "Z class (A class를 상속한다)"
   ]
  },
  {
   "cell_type": "markdown",
   "metadata": {},
   "source": [
    "(A class, Z class) : (부모, 자식), (슈퍼, 서브), (상위, 하위) 클래스"
   ]
  },
  {
   "cell_type": "code",
   "execution_count": 1,
   "metadata": {},
   "outputs": [
    {
     "name": "stdout",
     "output_type": "stream",
     "text": [
      "so fast!!!\n",
      "so high!!!\n"
     ]
    }
   ],
   "source": [
    "# 자식 class는 부모 class의 메소드와 추가된 메소드를 모두 사용 가능 (1)\n",
    "class Father:\n",
    "    def run(self):\n",
    "        print(\"so fast!!!\")\n",
    "\n",
    "class Son(Father):\n",
    "    def jump(self):\n",
    "        print(\"so high!!!\")\n",
    "\n",
    "def main():\n",
    "    s = Son()\n",
    "    s.run()\n",
    "    s.jump()\n",
    "\n",
    "main()"
   ]
  },
  {
   "cell_type": "code",
   "execution_count": 4,
   "metadata": {},
   "outputs": [
    {
     "name": "stdout",
     "output_type": "stream",
     "text": [
      "so fast!!!\n",
      "so deep!!\n",
      "so high!!!\n"
     ]
    }
   ],
   "source": [
    "# 두 개 이상 class 상속 가능\n",
    "class Father:\n",
    "    def run(self):\n",
    "        print(\"so fast!!!\")\n",
    "\n",
    "class Mother:\n",
    "    def dive(self):\n",
    "        print(\"so deep!!\")\n",
    "\n",
    "class Son(Father, Mother): # 부모 class 표시\n",
    "    def jump(self):\n",
    "        print(\"so high!!!\")\n",
    "\n",
    "def main():\n",
    "    s = Son() # 아들 객체 생성\n",
    "    s.run() # 부모class의 메소드 모두 사용가능\n",
    "    s.dive()\n",
    "    s.jump() # 아들이 추가로 가진 메소드\n",
    "\n",
    "main()"
   ]
  },
  {
   "cell_type": "markdown",
   "metadata": {},
   "source": [
    "### [method overriding과 super]"
   ]
  },
  {
   "cell_type": "code",
   "execution_count": 3,
   "metadata": {},
   "outputs": [
    {
     "name": "stdout",
     "output_type": "stream",
     "text": [
      "so fast, son style\n"
     ]
    }
   ],
   "source": [
    "# 자식class가 부모class가 가진 메소드를 덮어썼다 - method overriding\n",
    "# method overriding : method 기능보강을 위함\n",
    "class Father:\n",
    "    def run(self):\n",
    "        print(\"so fast, dad style\")\n",
    "\n",
    "class Son(Father):\n",
    "    def run(self):\n",
    "        print(\"so fast, son style\")\n",
    "\n",
    "def main():\n",
    "    s = Son()\n",
    "    s.run() # method overriding으로 Son class의 run() 호출\n",
    "\n",
    "main()"
   ]
  },
  {
   "cell_type": "code",
   "execution_count": 2,
   "metadata": {},
   "outputs": [
    {
     "name": "stdout",
     "output_type": "stream",
     "text": [
      "so fast, son style\n",
      "so fast, dad style\n"
     ]
    }
   ],
   "source": [
    "class Father:\n",
    "    def run(self):\n",
    "        print(\"so fast, dad style\")\n",
    "\n",
    "class Son(Father):\n",
    "    def run(self):\n",
    "        print(\"so fast, son style\")\n",
    "\n",
    "    def run2(self):\n",
    "        super().run() # method overriding 전, 부모 class가 원래 가진 method 호출\n",
    "\n",
    "def main():\n",
    "    s = Son()\n",
    "    s.run() # method overriding된 자식 class의 run() 호출\n",
    "    s.run2() # 부모 class의 run() 호출\n",
    "\n",
    "main()"
   ]
  },
  {
   "cell_type": "markdown",
   "metadata": {},
   "source": [
    "### [ _ _ init _ _ ] method overriding"
   ]
  },
  {
   "cell_type": "code",
   "execution_count": null,
   "metadata": {},
   "outputs": [],
   "source": [
    "# 자식 class는 부모 class의 변수를 초기화할 의무가 있다 (super().__init__() 실행의무)\n",
    "# 이러한 의무를 실행하게끔 자식 class의 __init__를 설계해야한다\n",
    "\n",
    "# 매우 중요한 예제! (상속, method overriding, __init__ overriding 포함)\n",
    "class Car:\n",
    "    def __init__(self, id, f):\n",
    "        self.id = id       \n",
    "        self.fuel = f      \n",
    "\n",
    "    def drive(self):\n",
    "        self.fuel -= 10     \n",
    "\n",
    "    def add_fuel(self, f):  \n",
    "        self.fuel += f\n",
    "\n",
    "    def show_info(self):\n",
    "        print(\"id:\", self.id)\n",
    "        print(\"fuel:\", self.fuel)\n",
    "\n",
    "class Truck(Car): # Car를 상속하면, Car의 변수 또한 관리해야한다 (super.__init__() 실행의무)\n",
    "    def __init__(self, id, f, c):\n",
    "        super().__init__(id, f)\n",
    "        self.cargo = c\n",
    "\n",
    "    def add_cargo(self, c):\n",
    "        self.cargo += c\n",
    "\n",
    "    def show_info(self):       # 부모 class(car class)의 메소드(show_info()) 기능 보강의 예\n",
    "        super().show_info()\n",
    "        print(\"cargo:\", self.cargo)\n",
    "\n",
    "\n",
    "def main():\n",
    "    t = Truck(\"42럭5959\", 0, 0)\n",
    "    t.add_fuel(100)\n",
    "    t.add_cargo(50)\n",
    "    t.drive()\n",
    "    t.show_info()\n",
    "\n",
    "main()\n"
   ]
  }
 ],
 "metadata": {
  "kernelspec": {
   "display_name": "Python 3",
   "language": "python",
   "name": "python3"
  },
  "language_info": {
   "codemirror_mode": {
    "name": "ipython",
    "version": 3
   },
   "file_extension": ".py",
   "mimetype": "text/x-python",
   "name": "python",
   "nbconvert_exporter": "python",
   "pygments_lexer": "ipython3",
   "version": "3.7.4"
  }
 },
 "nbformat": 4,
 "nbformat_minor": 4
}

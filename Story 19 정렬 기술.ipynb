{
 "cells": [
  {
   "cell_type": "markdown",
   "metadata": {},
   "source": [
    "## Story 19 정렬 기술"
   ]
  },
  {
   "cell_type": "markdown",
   "metadata": {},
   "source": [
    "### [list - sort]"
   ]
  },
  {
   "cell_type": "code",
   "execution_count": 2,
   "metadata": {},
   "outputs": [
    {
     "data": {
      "text/plain": [
       "[1, 2, 3, 4]"
      ]
     },
     "execution_count": 2,
     "metadata": {},
     "output_type": "execute_result"
    }
   ],
   "source": [
    "li = [3, 1, 4, 2]\n",
    "li.sort() # reverse = True 추가시 내림차순\n",
    "li"
   ]
  },
  {
   "cell_type": "markdown",
   "metadata": {},
   "source": [
    "### [tuples in list]"
   ]
  },
  {
   "cell_type": "code",
   "execution_count": 3,
   "metadata": {},
   "outputs": [
    {
     "data": {
      "text/plain": [
       "[('Lee', 12), ('Park', 29), ('Yoon', 33)]"
      ]
     },
     "execution_count": 3,
     "metadata": {},
     "output_type": "execute_result"
    }
   ],
   "source": [
    "# sort by 'key'\n",
    "ns = [('Yoon', 33), ('Lee', 12), ('Park', 29)]\n",
    "\n",
    "def age(t):\n",
    "    return t[1] # 나이 반환하는 함수\n",
    "\n",
    "ns.sort(key = age) # sort: ns의 원소모두 age에 전달, 내림차순시 ', reverse = True' 추가\n",
    "ns"
   ]
  },
  {
   "cell_type": "code",
   "execution_count": 4,
   "metadata": {},
   "outputs": [
    {
     "data": {
      "text/plain": [
       "[('Lee', 12), ('Park', 29), ('Yoon', 33)]"
      ]
     },
     "execution_count": 4,
     "metadata": {},
     "output_type": "execute_result"
    }
   ],
   "source": [
    "ns = [('Yoon', 33), ('Lee', 12), ('Park', 29)] \n",
    "def name(t):\n",
    "    return t[0]\n",
    "ns.sort(key = name)\n",
    "ns"
   ]
  },
  {
   "cell_type": "code",
   "execution_count": null,
   "metadata": {},
   "outputs": [],
   "source": [
    "# sort by 'key' - lambda 사용(1)\n",
    "ns = [('Yoon', 33), ('Lee', 12), ('Park', 29)] \n",
    "ns.sort(key = lambda t: t[1], reverse = True)\n",
    "ns"
   ]
  },
  {
   "cell_type": "code",
   "execution_count": 8,
   "metadata": {},
   "outputs": [
    {
     "data": {
      "text/plain": [
       "[(2, 9), (0, 5), (3, 1)]"
      ]
     },
     "execution_count": 8,
     "metadata": {},
     "output_type": "execute_result"
    }
   ],
   "source": [
    "# sort by 'key' - lambda 사용(2)\n",
    "nums = [(3, 1), (2, 9), (0, 5)]\n",
    "nums.sort(key = lambda t: t[0] + t[1], reverse = True) # 합이 큰 순서대로 정렬\n",
    "nums"
   ]
  },
  {
   "cell_type": "code",
   "execution_count": 6,
   "metadata": {},
   "outputs": [
    {
     "data": {
      "text/plain": [
       "['Yoon', 'Julia', 'Steven']"
      ]
     },
     "execution_count": 6,
     "metadata": {},
     "output_type": "execute_result"
    }
   ],
   "source": [
    "# using 'len'\n",
    "names = ['Julia', 'Yoon', 'Steven']\n",
    "names.sort(key = len) # 4, 5, 6\n",
    "names"
   ]
  },
  {
   "cell_type": "markdown",
   "metadata": {},
   "source": [
    "### [sorted] - sort와 달리 새로운 객체생성(원본유지) \n",
    "- 새로운 객체를 생성하기 때문에 iterable 객체면 모두 전달 가능  \n",
    "  \n",
    "sort: list에 내장된 method  \n",
    "sorted: 분리된 함수(function)"
   ]
  },
  {
   "cell_type": "code",
   "execution_count": 10,
   "metadata": {},
   "outputs": [
    {
     "name": "stdout",
     "output_type": "stream",
     "text": [
      "[('Yoon', 33), ('Lee', 12), ('Park', 29)]\n",
      "[('Yoon', 33), ('Park', 29), ('Lee', 12)]\n"
     ]
    }
   ],
   "source": [
    "# sorted: 새로운 객체생성하기 때문에 immutable객체도 사용가능\n",
    "org = [('Yoon', 33), ('Lee', 12), ('Park', 29)] \n",
    "cpy = sorted(org, key = lambda t: t[1], reverse = True)\n",
    "print(org)\n",
    "print(cpy)\n",
    "\n",
    "# tuple: sort는 사용불가(immutable), sorted 사용가능"
   ]
  },
  {
   "cell_type": "code",
   "execution_count": 11,
   "metadata": {},
   "outputs": [
    {
     "data": {
      "text/plain": [
       "[1, 2, 3]"
      ]
     },
     "execution_count": 11,
     "metadata": {},
     "output_type": "execute_result"
    }
   ],
   "source": [
    "# tuple + sorted\n",
    "org = (3, 1, 2)\n",
    "cpy = sorted(org) # 기본적으로 list 반환\n",
    "cpy"
   ]
  },
  {
   "cell_type": "code",
   "execution_count": 14,
   "metadata": {},
   "outputs": [
    {
     "data": {
      "text/plain": [
       "('197', '214', '321')"
      ]
     },
     "execution_count": 14,
     "metadata": {},
     "output_type": "execute_result"
    }
   ],
   "source": [
    "# string + sorted\n",
    "org = ('321', '214', '197')\n",
    "cpy = tuple(sorted(org, key = lambda s: int(s[0])))\n",
    "cpy"
   ]
  }
 ],
 "metadata": {
  "kernelspec": {
   "display_name": "Python 3",
   "language": "python",
   "name": "python3"
  },
  "language_info": {
   "codemirror_mode": {
    "name": "ipython",
    "version": 3
   },
   "file_extension": ".py",
   "mimetype": "text/x-python",
   "name": "python",
   "nbconvert_exporter": "python",
   "pygments_lexer": "ipython3",
   "version": "3.7.4"
  }
 },
 "nbformat": 4,
 "nbformat_minor": 4
}

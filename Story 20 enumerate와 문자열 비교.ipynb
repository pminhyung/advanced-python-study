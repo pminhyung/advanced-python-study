{
 "cells": [
  {
   "cell_type": "markdown",
   "metadata": {},
   "source": [
    "## Story 20 enumerate와 문자열 비교"
   ]
  },
  {
   "cell_type": "markdown",
   "metadata": {},
   "source": [
    "### [문자열비교]"
   ]
  },
  {
   "cell_type": "code",
   "execution_count": null,
   "metadata": {},
   "outputs": [],
   "source": [
    "'A' < 'Z'\n",
    "'AA' < 'AZ'\n",
    "'AA' < 'AAA' # 동일하다면 하나라도 긴 것이 더 크다\n",
    "'A' < 'a'"
   ]
  },
  {
   "cell_type": "code",
   "execution_count": null,
   "metadata": {},
   "outputs": [],
   "source": [
    "'가' < '나'\n",
    "'가' < '구'\n",
    "'가가' < '가나'\n",
    "'하하' < '하하하'"
   ]
  },
  {
   "cell_type": "markdown",
   "metadata": {},
   "source": [
    "### [enumerate]: \n",
    "- enmuerate 객체라는 'iterator 객체'를 생성\n",
    "- 0부터 numbering (startnum changeable) - 2nd arg\n",
    "- numbering된 tuple 반환"
   ]
  },
  {
   "cell_type": "code",
   "execution_count": 2,
   "metadata": {},
   "outputs": [
    {
     "data": {
      "text/plain": [
       "{1: '김현주', 2: '박선주', 3: '윤나은', 4: '이지선', 5: '장현지'}"
      ]
     },
     "execution_count": 2,
     "metadata": {},
     "output_type": "execute_result"
    }
   ],
   "source": [
    "names = ['윤나은', '김현주', '장현지', '이지선', '박선주']\n",
    "dnames = {k : v for k, v in enumerate(sorted(names), 1)} # 1부터 시작\n",
    "dnames"
   ]
  }
 ],
 "metadata": {
  "kernelspec": {
   "display_name": "Python 3",
   "language": "python",
   "name": "python3"
  },
  "language_info": {
   "codemirror_mode": {
    "name": "ipython",
    "version": 3
   },
   "file_extension": ".py",
   "mimetype": "text/x-python",
   "name": "python",
   "nbconvert_exporter": "python",
   "pygments_lexer": "ipython3",
   "version": "3.7.4"
  }
 },
 "nbformat": 4,
 "nbformat_minor": 4
}

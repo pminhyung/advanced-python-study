{
 "cells": [
  {
   "cell_type": "markdown",
   "metadata": {},
   "source": [
    "## Story 25 isinstance 함수와 object 클래스"
   ]
  },
  {
   "cell_type": "markdown",
   "metadata": {},
   "source": [
    "### [isinstance(object, classinfo) 함수]"
   ]
  },
  {
   "cell_type": "markdown",
   "metadata": {},
   "source": [
    "> isinstance(object, classinfo): object가 classinfo의 객체인가? True, False 반환"
   ]
  },
  {
   "cell_type": "code",
   "execution_count": 1,
   "metadata": {},
   "outputs": [
    {
     "name": "stdout",
     "output_type": "stream",
     "text": [
      "True\n",
      "True\n"
     ]
    }
   ],
   "source": [
    "class Simple:\n",
    "    pass\n",
    "\n",
    "s = Simple()\n",
    "print(isinstance(s, Simple)) # s가 Simple class의 객체인가?\n",
    "print(isinstance([1, 2], list)) # [1, 2]가 list class의 객체인가?"
   ]
  },
  {
   "cell_type": "code",
   "execution_count": null,
   "metadata": {},
   "outputs": [],
   "source": [
    "# 상속관계가 복잡할 때는?\n",
    "# isinstance(객체, 클래스): 객체가 해당 클래스의 객체이거나 (or) 해당클래스를 상속하는 클래스의 객체인가? T/F\n",
    "class Fruit:\n",
    "    pass\n",
    "\n",
    "class Apple(Fruit): # Fruit을 상속하는 Apple\n",
    "    pass\n",
    "\n",
    "class SuperApple(Apple): # Apple을 상속하는 SuperApple\n",
    "    pass\n",
    "\n",
    "sa = SuperApple()\n",
    "print(isinstance(sa, SuperApple))\n",
    "print(isinstance(sa, Apple))\n",
    "print(isinstance(sa, Fruit))\n",
    "\n",
    "# SuperApple -> Apple (직접상속)\n",
    "# SuperApple -> Fruit (간점상속)\n",
    "# 직접상속, 간접상속 모두 상속 O"
   ]
  },
  {
   "cell_type": "markdown",
   "metadata": {},
   "source": [
    "### [Object Class] : 파이썬의 모든 class는 object class를 직접 또는 간접 상속  \n",
    " - 어떤 class가 상속하는 특정 class 존재 시 object class를 직접 상속 \n",
    " - 상속하는 class가 없다면 object class 직접 상속\n",
    " - object class의 메소드를 사용가능"
   ]
  },
  {
   "cell_type": "code",
   "execution_count": 5,
   "metadata": {},
   "outputs": [
    {
     "name": "stdout",
     "output_type": "stream",
     "text": [
      "True\n",
      "True\n"
     ]
    }
   ],
   "source": [
    "class Simple(): # 아무것도 상속하지 않는다면 object class를 상속하게 된다\n",
    "    pass\n",
    "\n",
    "# class Simple(object) # 이것과 같다\n",
    "#    pass \n",
    "\n",
    "print(isinstance(Simple(), object))\n",
    "print(isinstance([1, 2], object))"
   ]
  },
  {
   "cell_type": "code",
   "execution_count": 6,
   "metadata": {},
   "outputs": [
    {
     "data": {
      "text/plain": [
       "True"
      ]
     },
     "execution_count": 6,
     "metadata": {},
     "output_type": "execute_result"
    }
   ],
   "source": [
    "# issubclass(자식 class, 부모 class): class끼리 상속 물을 때\n",
    "class A: # 아무것도 상속하지 않으므로 object 클래스 상속\n",
    "    pass\n",
    "\n",
    "class Z(A): # Z는 A를 상속, Z는 object 클래스를 간접상속\n",
    "    pass\n",
    "\n",
    "issubclass(Z, A) # Z class는 A class를 상속하는가?"
   ]
  },
  {
   "cell_type": "code",
   "execution_count": 7,
   "metadata": {},
   "outputs": [
    {
     "data": {
      "text/plain": [
       "True"
      ]
     },
     "execution_count": 7,
     "metadata": {},
     "output_type": "execute_result"
    }
   ],
   "source": [
    "issubclass(type, object) # type 대신 모든 class가 와도 object클래스에 대해 True 반환"
   ]
  },
  {
   "cell_type": "code",
   "execution_count": 8,
   "metadata": {},
   "outputs": [
    {
     "data": {
      "text/plain": [
       "['__class__',\n",
       " '__delattr__',\n",
       " '__dir__',\n",
       " '__doc__',\n",
       " '__eq__',\n",
       " '__format__',\n",
       " '__ge__',\n",
       " '__getattribute__',\n",
       " '__gt__',\n",
       " '__hash__',\n",
       " '__init__',\n",
       " '__init_subclass__',\n",
       " '__le__',\n",
       " '__lt__',\n",
       " '__ne__',\n",
       " '__new__',\n",
       " '__reduce__',\n",
       " '__reduce_ex__',\n",
       " '__repr__',\n",
       " '__setattr__',\n",
       " '__sizeof__',\n",
       " '__str__',\n",
       " '__subclasshook__']"
      ]
     },
     "execution_count": 8,
     "metadata": {},
     "output_type": "execute_result"
    }
   ],
   "source": [
    "# 우리가 정의했던 class의 special method는 부모class인 object 클래스의 메소드였고, 이를 overriding 한 것이였다\n",
    "dir(object) # 대표적인 overriding 되는 special method의 예: __init__"
   ]
  }
 ],
 "metadata": {
  "kernelspec": {
   "display_name": "Python 3",
   "language": "python",
   "name": "python3"
  },
  "language_info": {
   "codemirror_mode": {
    "name": "ipython",
    "version": 3
   },
   "file_extension": ".py",
   "mimetype": "text/x-python",
   "name": "python",
   "nbconvert_exporter": "python",
   "pygments_lexer": "ipython3",
   "version": "3.7.4"
  }
 },
 "nbformat": 4,
 "nbformat_minor": 4
}

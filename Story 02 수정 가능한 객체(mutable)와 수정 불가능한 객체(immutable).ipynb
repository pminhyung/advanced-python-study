{
 "cells": [
  {
   "cell_type": "markdown",
   "metadata": {},
   "source": [
    "# Story 02 수정 가능한 객체(mutable)와 수정 불가능한 객체(immutable)  \n",
    "  \n",
    "ex) list vs tuple"
   ]
  },
  {
   "cell_type": "markdown",
   "metadata": {},
   "source": [
    "### (1) list의 경우:"
   ]
  },
  {
   "cell_type": "code",
   "execution_count": 5,
   "metadata": {},
   "outputs": [
    {
     "data": {
      "text/plain": [
       "2741513452296"
      ]
     },
     "execution_count": 5,
     "metadata": {},
     "output_type": "execute_result"
    }
   ],
   "source": [
    "r=[1,2]\n",
    "id(r)"
   ]
  },
  {
   "cell_type": "code",
   "execution_count": 6,
   "metadata": {},
   "outputs": [
    {
     "name": "stdout",
     "output_type": "stream",
     "text": [
      "[1, 2, 3, 4] 2741513452296\n"
     ]
    }
   ],
   "source": [
    "r+=[3,4]\n",
    "print(r,id(r)) # 메모리주소 변경X -> mutable 객체이기 때문"
   ]
  },
  {
   "cell_type": "markdown",
   "metadata": {},
   "source": [
    "### (2) tuple의 경우:"
   ]
  },
  {
   "cell_type": "code",
   "execution_count": 3,
   "metadata": {},
   "outputs": [
    {
     "data": {
      "text/plain": [
       "2741511638216"
      ]
     },
     "execution_count": 3,
     "metadata": {},
     "output_type": "execute_result"
    }
   ],
   "source": [
    "t=(1,2)\n",
    "id(t)"
   ]
  },
  {
   "cell_type": "code",
   "execution_count": 4,
   "metadata": {},
   "outputs": [
    {
     "data": {
      "text/plain": [
       "2741513673528"
      ]
     },
     "execution_count": 4,
     "metadata": {},
     "output_type": "execute_result"
    }
   ],
   "source": [
    "t+=(3,4) \n",
    "# (1,2,3,4)라는 새로운 값을 만들고 t가 참조하게 만든다 -> 메모리주소변경 0\n",
    "# 기존의 (1,2)는 rc=1 -> rc=0으로 바뀌고 곧 소멸된다\n",
    "\n",
    "id(t) # immutable 객체이기 때문"
   ]
  },
  {
   "cell_type": "markdown",
   "metadata": {},
   "source": [
    "### [성격에 따라 달라지는 함수의 정의]|"
   ]
  },
  {
   "cell_type": "markdown",
   "metadata": {},
   "source": [
    "### (1)-1 list를 함수인자로 넣을 때 -> 결과에 값추가O (mutable)"
   ]
  },
  {
   "cell_type": "code",
   "execution_count": 8,
   "metadata": {},
   "outputs": [
    {
     "data": {
      "text/plain": [
       "[1, 2, 3, 4]"
      ]
     },
     "execution_count": 8,
     "metadata": {},
     "output_type": "execute_result"
    }
   ],
   "source": [
    "def add_last(m,n):\n",
    "    m+=n # m에 n의 내용을 추가한다\n",
    "\n",
    "r=[1,2] \n",
    "add_last(r,[3,4]) # [1,2]의 값에 r, m(add_last)이 참조 -> rc=2\n",
    "r"
   ]
  },
  {
   "cell_type": "markdown",
   "metadata": {},
   "source": [
    "### (1)-2 tuple을 함수인자로 넣을 때 -> 결과에 값추가X (immutable)"
   ]
  },
  {
   "cell_type": "code",
   "execution_count": 12,
   "metadata": {},
   "outputs": [
    {
     "data": {
      "text/plain": [
       "(1, 3)"
      ]
     },
     "execution_count": 12,
     "metadata": {},
     "output_type": "execute_result"
    }
   ],
   "source": [
    "t=(1,3)\n",
    "add_last(t,(5,7))\n",
    "# (1,3)을 t와 m이 참조하는데 내용추가는 일어나지만 새로운값으로 만들어져 m이 참조한다\n",
    "# t는 내용추가된 값을 참조하지 않는다\n",
    "\n",
    "t"
   ]
  },
  {
   "cell_type": "markdown",
   "metadata": {},
   "source": [
    "### (1)-3 그렇다면 tuple에 값을 추가한 결과를 얻는 함수를 짜려면??"
   ]
  },
  {
   "cell_type": "code",
   "execution_count": null,
   "metadata": {},
   "outputs": [],
   "source": [
    "def add_tuple2(t1,t2):\n",
    "    t1+=t2 # 새로운 튜플이 t1에 저장된다\n",
    "    return t1 # 새로 만들어진 튜플을 반환\n",
    "\n",
    "tp=(1,3)\n",
    "tp=add_tuple(tp,(5,7)) # t1(함수연산 후)과 tp의 참조내용이 달랐지만 t1의 내용을 tp가 참조하도록 한다\n",
    "tp"
   ]
  },
  {
   "cell_type": "markdown",
   "metadata": {},
   "source": [
    "### (2) 원본이 수정되고 안되는 함수의 차이"
   ]
  },
  {
   "cell_type": "code",
   "execution_count": 17,
   "metadata": {},
   "outputs": [
    {
     "name": "stdout",
     "output_type": "stream",
     "text": [
      "1, 5\n"
     ]
    },
    {
     "data": {
      "text/plain": [
       "[1, 3, 4, 5]"
      ]
     },
     "execution_count": 17,
     "metadata": {},
     "output_type": "execute_result"
    }
   ],
   "source": [
    "def min_max(d): # 맨 큰값, 작은값을 반환\n",
    "    d.sort() # 리스트를 오름차순으로 정렬\n",
    "    print(d[0],d[-1],sep=', ') # 맨 앞의 값과 마지막 값을 출력\n",
    "\n",
    "l=[3,1,5,4]\n",
    "min_max(l)\n",
    "l # 원본의 순서가 변경됨(함수의 sort()가 원인)"
   ]
  },
  {
   "cell_type": "code",
   "execution_count": 18,
   "metadata": {},
   "outputs": [
    {
     "name": "stdout",
     "output_type": "stream",
     "text": [
      "1, 5\n"
     ]
    },
    {
     "data": {
      "text/plain": [
       "[3, 1, 5, 4]"
      ]
     },
     "execution_count": 18,
     "metadata": {},
     "output_type": "execute_result"
    }
   ],
   "source": [
    "def min_max2(d): # d와 l이 모두 [3,1,5,4]를 참조한다\n",
    "    d=list(d) # 그 중 d는 list(d)를 참조하게 변경되었다- 복사본과 같음 (l만 원래의 [3,1,5,4]를 참조)\n",
    "    d.sort() # 원본이 아닌 복사본을 정렬한다\n",
    "    print(d[0],d[-1],sep=', ') # 맨 앞의 값과 마지막 값을 출력\n",
    "\n",
    "l=[3,1,5,4]\n",
    "min_max(l)\n",
    "l # 원본이 수정되지 않음"
   ]
  }
 ],
 "metadata": {
  "kernelspec": {
   "display_name": "Python 3",
   "language": "python",
   "name": "python3"
  },
  "language_info": {
   "codemirror_mode": {
    "name": "ipython",
    "version": 3
   },
   "file_extension": ".py",
   "mimetype": "text/x-python",
   "name": "python",
   "nbconvert_exporter": "python",
   "pygments_lexer": "ipython3",
   "version": "3.7.4"
  }
 },
 "nbformat": 4,
 "nbformat_minor": 4
}

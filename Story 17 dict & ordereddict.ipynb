{
 "cells": [
  {
   "cell_type": "markdown",
   "metadata": {},
   "source": [
    "## Story 17 Dict & OrderedDict"
   ]
  },
  {
   "cell_type": "markdown",
   "metadata": {},
   "source": [
    "dict 저장순서를 기억하기 시작했다(python 3.7~)  \n",
    "but dict에 대한 저장순서를 기억하지 않는 구조라는 관점은 변함이 없다"
   ]
  },
  {
   "cell_type": "markdown",
   "metadata": {},
   "source": [
    "### [dict의 저장순서(정보)가 필요할 때? OrderedDict를 사용!]"
   ]
  },
  {
   "cell_type": "code",
   "execution_count": 1,
   "metadata": {},
   "outputs": [
    {
     "data": {
      "text/plain": [
       "OrderedDict([('a', 1), ('b', 2), ('c', 3)])"
      ]
     },
     "execution_count": 1,
     "metadata": {},
     "output_type": "execute_result"
    }
   ],
   "source": [
    "from collections import OrderedDict\n",
    "od = OrderedDict()\n",
    "od['a'] = 1 # 일반dict와 생성방법 동일\n",
    "od['b'] = 2\n",
    "od['c'] = 3\n",
    "od"
   ]
  },
  {
   "cell_type": "code",
   "execution_count": 2,
   "metadata": {},
   "outputs": [
    {
     "name": "stdout",
     "output_type": "stream",
     "text": [
      "('a', 1)\n",
      "('b', 2)\n",
      "('c', 3)\n"
     ]
    }
   ],
   "source": [
    "for kv in od.items():\n",
    "    print(kv)"
   ]
  },
  {
   "cell_type": "code",
   "execution_count": 7,
   "metadata": {},
   "outputs": [
    {
     "data": {
      "text/plain": [
       "True"
      ]
     },
     "execution_count": 7,
     "metadata": {},
     "output_type": "execute_result"
    }
   ],
   "source": [
    "# 일반 dict: 저장순서 저장 X\n",
    "d1 = dict(a = 1, b = 2, c = 3)\n",
    "d2 = dict(c = 3, a = 1, b = 2)\n",
    "d1 == d2"
   ]
  },
  {
   "cell_type": "code",
   "execution_count": 6,
   "metadata": {},
   "outputs": [
    {
     "data": {
      "text/plain": [
       "False"
      ]
     },
     "execution_count": 6,
     "metadata": {},
     "output_type": "execute_result"
    }
   ],
   "source": [
    "# ordereddict dict: 저장순서 저장 O\n",
    "from collections import OrderedDict\n",
    "od1 = OrderedDict(a = 1, b = 2, c = 3)\n",
    "od2 = OrderedDict(c = 3, a = 1, b = 2)\n",
    "od1 == od2"
   ]
  },
  {
   "cell_type": "code",
   "execution_count": 8,
   "metadata": {},
   "outputs": [
    {
     "name": "stdout",
     "output_type": "stream",
     "text": [
      "('a', 1) ('c', 3) ('b', 2) "
     ]
    }
   ],
   "source": [
    "# ordereddict\n",
    "from collections import OrderedDict\n",
    "od = OrderedDict(a = 1, b = 2, c = 3)\n",
    "od.move_to_end('b') # key 'b'와 value를 맨 뒤로 이동\n",
    "for kv in od.items():\n",
    "    print(kv, end = ' ')"
   ]
  },
  {
   "cell_type": "code",
   "execution_count": 9,
   "metadata": {},
   "outputs": [
    {
     "name": "stdout",
     "output_type": "stream",
     "text": [
      "('b', 2) ('a', 1) ('c', 3) "
     ]
    }
   ],
   "source": [
    "od.move_to_end('b', last = False) # last = False: 맨뒤가 아닌 맨앞으로 보냄\n",
    "for kv in od.items():\n",
    "    print(kv, end = ' ')"
   ]
  },
  {
   "cell_type": "code",
   "execution_count": null,
   "metadata": {},
   "outputs": [],
   "source": []
  }
 ],
 "metadata": {
  "kernelspec": {
   "display_name": "Python 3",
   "language": "python",
   "name": "python3"
  },
  "language_info": {
   "codemirror_mode": {
    "name": "ipython",
    "version": 3
   },
   "file_extension": ".py",
   "mimetype": "text/x-python",
   "name": "python",
   "nbconvert_exporter": "python",
   "pygments_lexer": "ipython3",
   "version": "3.7.4"
  }
 },
 "nbformat": 4,
 "nbformat_minor": 4
}

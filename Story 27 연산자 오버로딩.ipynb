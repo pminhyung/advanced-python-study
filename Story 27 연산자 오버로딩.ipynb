{
 "cells": [
  {
   "cell_type": "markdown",
   "metadata": {},
   "source": [
    "## Story 27 연산자 오버로딩"
   ]
  },
  {
   "cell_type": "markdown",
   "metadata": {},
   "source": [
    "특정 연산자를 통해 약속된 special method가 호출됨"
   ]
  },
  {
   "cell_type": "code",
   "execution_count": 9,
   "metadata": {},
   "outputs": [
    {
     "name": "stdout",
     "output_type": "stream",
     "text": [
      "__add__\n",
      "__sub__\n",
      "__call__\n",
      "James01:150\n"
     ]
    }
   ],
   "source": [
    "class Account:     # 계좌 클래스\n",
    "    def __init__(self, aid, abl):\n",
    "        self.aid = aid       # 계좌 번호\n",
    "        self.abl = abl       # 계좌 잔액\n",
    "        \n",
    "    def __add__(self, m):    # 입금\n",
    "        self.abl += m\n",
    "        print('__add__')\n",
    "\n",
    "    def __sub__(self, m):     # 인출\n",
    "        self.abl -= m\n",
    "        print('__sub__')\n",
    "\n",
    "    def __call__(self):      # 계좌 상황을 문자열로 반환\n",
    "        print('__call__')\n",
    "        return str(self.aid) + ':' + str(self.abl)\n",
    "\n",
    "\n",
    "def main():\n",
    "    acnt = Account('James01', 100)     # 계좌 개설\n",
    "    acnt + 100     # 100원 입금, acnt.__add__(100) \n",
    "    \n",
    "    acnt - 50      # 50원 인출, acnt.__sub__(50)\n",
    "    \n",
    "    print(acnt())  # print(acnt.__call__())\n",
    "\n",
    "main()"
   ]
  },
  {
   "cell_type": "markdown",
   "metadata": {},
   "source": [
    "### [적절한 형태로의 +, - 연산자 오버로딩]"
   ]
  },
  {
   "cell_type": "markdown",
   "metadata": {},
   "source": [
    "위의 예제의 문제점 :\n",
    "> - acnt + 100이 새로운 객체로 생성되어야하는데 acnt += 100 과 같은 연산이 이루어져 acnt의 값이 바뀌었다  \n",
    "> - 즉, 논리적으로 맞지 않는다 (acnt + 100 =/= acnt += 100)\n",
    "  \n",
    "마지막 부분에서 보완할 예정"
   ]
  },
  {
   "cell_type": "code",
   "execution_count": 1,
   "metadata": {},
   "outputs": [
    {
     "data": {
      "text/plain": [
       "8"
      ]
     },
     "execution_count": 1,
     "metadata": {},
     "output_type": "execute_result"
    }
   ],
   "source": [
    "# + 연산시 피연산자인 n1, n2의 값은 변하지 않는다\n",
    "n1 = 3\n",
    "n2 = 5\n",
    "n1 + n2\n",
    "\n",
    "# 3 + 2 : 3.__add__(2)"
   ]
  },
  {
   "cell_type": "code",
   "execution_count": 8,
   "metadata": {},
   "outputs": [
    {
     "name": "stdout",
     "output_type": "stream",
     "text": [
      "Vector(3, 3)\n",
      "Vector(7, 7)\n",
      "Vector(10, 10)\n"
     ]
    }
   ],
   "source": [
    "# + 연산자를 올바르게 이용한 예제\n",
    "class Vector:     \n",
    "    def __init__(self, x, y):\n",
    "        self.x = x       \n",
    "        self.y = y       \n",
    "        \n",
    "    def __add__(self, o):    # 벡터의 덧셈 연산\n",
    "        return Vector(self.x + o.x, self.y + o.y)\n",
    " \n",
    "    def __call__(self):      # 벡터 정보를 문자열로 반환\n",
    "        return 'Vector({0}, {1})'.format(self.x, self.y)\n",
    "\n",
    "\n",
    "def main():\n",
    "    v1 = Vector(3, 3)\n",
    "    v2 = Vector(7, 7)\n",
    "    v3 = v1 + v2 # 새로운 Vector 객체 생성되어 v3에 저장\n",
    "    print(v1()) # __call__ 호출 결과로 반환되는 문자열 출력\n",
    "    print(v2()) \n",
    "    print(v3())\n",
    "\n",
    "main()"
   ]
  },
  {
   "cell_type": "markdown",
   "metadata": {},
   "source": [
    "### [_ _ str _ _ 의 정의]  \n",
    "_ _ str _ _ : 객체 정보 출력"
   ]
  },
  {
   "cell_type": "code",
   "execution_count": 3,
   "metadata": {},
   "outputs": [
    {
     "name": "stdout",
     "output_type": "stream",
     "text": [
      "<__main__.Simple object at 0x00000169B063D948>\n"
     ]
    }
   ],
   "source": [
    "class Simple:\n",
    "    def __init__(self, i):\n",
    "        self.i = i\n",
    "        \n",
    "s = Simple(10) # 10이 저장된 Simple 객체 생성\n",
    "print(s) # print()는 (상속 class 없을 때 자동상속) object 클래스의 __str__ 메소드 호출"
   ]
  },
  {
   "cell_type": "code",
   "execution_count": 7,
   "metadata": {},
   "outputs": [
    {
     "name": "stdout",
     "output_type": "stream",
     "text": [
      "Simple(10)\n"
     ]
    }
   ],
   "source": [
    "# object 클래스의 __str__ method overriding\n",
    "class Simple:\n",
    "    def __init__(self, i):\n",
    "        self.i = i\n",
    "    def __str__(self)  : # object 클래스의 __str__ method overriding\n",
    "        return 'Simple({0})'.format(self.i) # 'Simple(20)' 형태의 문자열 생성 및 반환\n",
    "\n",
    "s = Simple(10) # 10이 저장된 Simple 객체 생성\n",
    "print(s)"
   ]
  },
  {
   "cell_type": "code",
   "execution_count": 5,
   "metadata": {},
   "outputs": [
    {
     "name": "stdout",
     "output_type": "stream",
     "text": [
      "Vector(3, 3)\n",
      "Vector(7, 7)\n",
      "Vector(10, 10)\n"
     ]
    }
   ],
   "source": [
    "# __call__에 정의했던 객체정보출력 기능을 => __str__에 정의\n",
    "class Vector:     \n",
    "    def __init__(self, x, y):\n",
    "        self.x = x       \n",
    "        self.y = y       \n",
    "        \n",
    "    def __add__(self, o):    # 벡터의 덧셈 연산\n",
    "        return Vector(self.x + o.x, self.y + o.y)\n",
    " \n",
    "    def __str__(self):      # 벡터 정보를 문자열로 반환\n",
    "        return 'Vector({0}, {1})'.format(self.x, self.y)\n",
    "\n",
    "\n",
    "def main():\n",
    "    v1 = Vector(3, 3)\n",
    "    v2 = Vector(7, 7)\n",
    "    v3 = v1 + v2\n",
    "    print(v1)\n",
    "    print(v2)\n",
    "    print(v3)\n",
    "\n",
    "main()"
   ]
  },
  {
   "cell_type": "markdown",
   "metadata": {},
   "source": [
    "### [in-place 형태(+=, -=...)의 연산자 오버로딩]  \n",
    "- '+' : _ _ add _ _\n",
    "- '+=' : _ _ iadd _ _\n",
    "  \n",
    "class 내에 _ _ add _ _ , _ _ iadd _ _ 가 같이 정의되어 있을 때 '+', '+=' 연산이 각각 정의된 것임을 예상할 수 있다"
   ]
  },
  {
   "cell_type": "markdown",
   "metadata": {},
   "source": [
    "#### Class에  _ _ iadd _ _ 가 정의되어 있지 않다면?  \n",
    "v1 += v2  \n",
    "-> v1 = v1 + v2  \n",
    "-> v1 = v1.__add__(v2)"
   ]
  },
  {
   "cell_type": "code",
   "execution_count": 10,
   "metadata": {},
   "outputs": [
    {
     "data": {
      "text/plain": [
       "140730451534352"
      ]
     },
     "execution_count": 10,
     "metadata": {},
     "output_type": "execute_result"
    }
   ],
   "source": [
    "# 정수, 문자열은 immutable 객체이므로 inplace 연산이 불가 (새로 저장해야)\n",
    "n = 5\n",
    "id(n)"
   ]
  },
  {
   "cell_type": "code",
   "execution_count": 11,
   "metadata": {},
   "outputs": [
    {
     "data": {
      "text/plain": [
       "140730451534384"
      ]
     },
     "execution_count": 11,
     "metadata": {},
     "output_type": "execute_result"
    }
   ],
   "source": [
    "n += 1\n",
    "id(n) # 새로 만들어져서 주소값이 다르다"
   ]
  },
  {
   "cell_type": "code",
   "execution_count": 12,
   "metadata": {},
   "outputs": [
    {
     "data": {
      "text/plain": [
       "1553441348424"
      ]
     },
     "execution_count": 12,
     "metadata": {},
     "output_type": "execute_result"
    }
   ],
   "source": [
    "# mutable 객체는 inplace 연산 가능하고 주소값이 동일\n",
    "# list\n",
    "n = [1, 2]\n",
    "id(n)"
   ]
  },
  {
   "cell_type": "code",
   "execution_count": 13,
   "metadata": {},
   "outputs": [
    {
     "data": {
      "text/plain": [
       "1553441348424"
      ]
     },
     "execution_count": 13,
     "metadata": {},
     "output_type": "execute_result"
    }
   ],
   "source": [
    "n += [3]\n",
    "id(n)"
   ]
  },
  {
   "cell_type": "markdown",
   "metadata": {},
   "source": [
    "'+' : _ _ add _ _ 오버로딩  \n",
    "'+=' : _ _ iadd _ _ 오버로딩"
   ]
  },
  {
   "cell_type": "code",
   "execution_count": 14,
   "metadata": {},
   "outputs": [
    {
     "name": "stdout",
     "output_type": "stream",
     "text": [
      "Vector(2, 2) 1553442861576\n",
      "Vector(9, 9) 1553442861576\n"
     ]
    }
   ],
   "source": [
    "# Vector Class에 __add__, __iadd__ 오버로딩\n",
    "class Vector:     \n",
    "    def __init__(self, x, y):\n",
    "        self.x = x       \n",
    "        self.y = y       \n",
    "        \n",
    "    def __add__(self, o):    # 벡터의 + 연산\n",
    "        return Vector(self.x + o.x, self.y + o.y)\n",
    "\n",
    "    def __iadd__(self, o):    # 벡터의 += 연산\n",
    "        self.x += o.x\n",
    "        self.y += o.y\n",
    "        return self \n",
    "    # 예) n1.__iadd__(n2)에서 return self면 실행주체인 n1(self) 반환\n",
    " \n",
    "    def __str__(self):      # 벡터 정보를 문자열로 반환\n",
    "        return 'Vector({0}, {1})'.format(self.x, self.y)\n",
    "\n",
    "\n",
    "def main():\n",
    "    v1 = Vector(2, 2)\n",
    "    v2 = Vector(7, 7)\n",
    "\n",
    "    print(v1, id(v1))     # v1과 v1에 저장된 객체의 주소 정보 출력\n",
    "    v1 += v2       # v1 = v1.__iadd__(v2)\n",
    "    print(v1, id(v1))     # v1과 v1에 저장된 객체의 주소 정보 출력\n",
    "\n",
    "main()\n",
    "\n",
    "# v1 += v2 : v1 = v1.__iadd__(v2)\n",
    "# self를 반환하지 않으면 연산 후 v1은 빈 객체가 될 수 있다\n",
    "# __iadd__와 같은 inplace연산시 return self는 필수이다!"
   ]
  },
  {
   "cell_type": "markdown",
   "metadata": {},
   "source": [
    "### [Account 클래스 보완]\n",
    "- +와 - 연산보다 +=, -= 연산이 입금과 출금을 표현하기에 적절하다고 판단된다\n",
    "- _ _ iadd _ _ 와 _ _ isub _ _ 를 오버로딩한다"
   ]
  },
  {
   "cell_type": "code",
   "execution_count": 15,
   "metadata": {},
   "outputs": [
    {
     "name": "stdout",
     "output_type": "stream",
     "text": [
      "James01, 230\n",
      "James01, 180\n"
     ]
    }
   ],
   "source": [
    "class Account:     # 계좌 클래스\n",
    "    def __init__(self, aid, abl):\n",
    "        self.aid = aid       # 계좌 번호\n",
    "        self.abl = abl       # 계좌 잔액\n",
    "       \n",
    "    def __iadd__(self, m):       # 입금. +=연산에 대한 오버로딩\n",
    "        self.abl += m\n",
    "        return self\n",
    "\n",
    "    def __isub__(self, m):       # 출금, -=연산에 대한 오버로딩\n",
    "        self.abl -= m\n",
    "        return self\n",
    "\n",
    "    def __str__(self):      # 계좌 상황을 문자열로 반환\n",
    "        return '{0}, {1}'.format(self.aid, self.abl)\n",
    "\n",
    "\n",
    "def main():\n",
    "    acnt = Account('James01', 100)     # 계좌 개설\n",
    "    acnt += 130     # 130원 입금\n",
    "    print(acnt)\n",
    "    acnt -= 50      # 50원 출금\n",
    "    print(acnt)\n",
    "\n",
    "main()"
   ]
  },
  {
   "cell_type": "code",
   "execution_count": null,
   "metadata": {},
   "outputs": [],
   "source": []
  }
 ],
 "metadata": {
  "kernelspec": {
   "display_name": "Python 3",
   "language": "python",
   "name": "python3"
  },
  "language_info": {
   "codemirror_mode": {
    "name": "ipython",
    "version": 3
   },
   "file_extension": ".py",
   "mimetype": "text/x-python",
   "name": "python",
   "nbconvert_exporter": "python",
   "pygments_lexer": "ipython3",
   "version": "3.7.4"
  }
 },
 "nbformat": 4,
 "nbformat_minor": 4
}

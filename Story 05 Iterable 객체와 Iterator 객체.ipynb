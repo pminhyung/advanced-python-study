{
 "cells": [
  {
   "cell_type": "markdown",
   "metadata": {},
   "source": [
    "# Story 05 Iterable 객체와 Iterator 객체"
   ]
  },
  {
   "cell_type": "markdown",
   "metadata": {},
   "source": [
    "### [iterable객체와 iterator 객체]"
   ]
  },
  {
   "cell_type": "code",
   "execution_count": 1,
   "metadata": {},
   "outputs": [
    {
     "name": "stdout",
     "output_type": "stream",
     "text": [
      "1 2 3 4 "
     ]
    }
   ],
   "source": [
    "# iterable 객체만 이용가능한 'for loop'\n",
    "ds = [1,2,3,4]\n",
    "\n",
    "for i in ds:\n",
    "    print(i, end=' ')"
   ]
  },
  {
   "cell_type": "markdown",
   "metadata": {},
   "source": [
    "iterable 객체란?  \n",
    "-> iter() 함수에 인자로 전달 가능한 객체  \n",
    "ex) 리스트, 튜플, 문자열 등  \n",
    "  \n",
    "iterator 객체란?  \n",
    "-> iter() 함수가 생성해서 반환하는 객체  \n",
    "(iterable 객체에 적용된 'next'버튼을 가진 리모컨과 같다  )\n",
    "  \n",
    "next(iterable 객체)를 실행할 때마다 iterable 객체의 값이 하나씩 반환된다  \n",
    "모두 반환시 StopIteration 예외 발생\n",
    "\n",
    "'iterable 객체를 대상으로 iter함수를 호출해서 iterator 객체를 만든다'"
   ]
  },
  {
   "cell_type": "code",
   "execution_count": 2,
   "metadata": {},
   "outputs": [
    {
     "data": {
      "text/plain": [
       "1"
      ]
     },
     "execution_count": 2,
     "metadata": {},
     "output_type": "execute_result"
    }
   ],
   "source": [
    "ds = [1,2,3,4]\n",
    "ir = iter(ds) # iterator 객체를 얻는 방법\n",
    "next(ir) # iterator 객체를 통해 값을 하나 꺼내는 방법, 첫 번째 값 반환"
   ]
  },
  {
   "cell_type": "code",
   "execution_count": 3,
   "metadata": {},
   "outputs": [
    {
     "data": {
      "text/plain": [
       "2"
      ]
     },
     "execution_count": 3,
     "metadata": {},
     "output_type": "execute_result"
    }
   ],
   "source": [
    "next(ir)"
   ]
  },
  {
   "cell_type": "code",
   "execution_count": 4,
   "metadata": {},
   "outputs": [
    {
     "data": {
      "text/plain": [
       "3"
      ]
     },
     "execution_count": 4,
     "metadata": {},
     "output_type": "execute_result"
    }
   ],
   "source": [
    "next(ir)"
   ]
  },
  {
   "cell_type": "code",
   "execution_count": 5,
   "metadata": {},
   "outputs": [
    {
     "data": {
      "text/plain": [
       "4"
      ]
     },
     "execution_count": 5,
     "metadata": {},
     "output_type": "execute_result"
    }
   ],
   "source": [
    "next(ir)"
   ]
  },
  {
   "cell_type": "markdown",
   "metadata": {},
   "source": [
    "### [스페셜 메소드(Special Method)]"
   ]
  },
  {
   "cell_type": "code",
   "execution_count": 11,
   "metadata": {},
   "outputs": [
    {
     "data": {
      "text/plain": [
       "1"
      ]
     },
     "execution_count": 11,
     "metadata": {},
     "output_type": "execute_result"
    }
   ],
   "source": [
    "ds = [1, 2, 3]\n",
    "ir= ds.__iter__() # iter 함수 호출의 실제 모습\n",
    "ir.__next__() # next 함수 호출의 실제 모습"
   ]
  },
  {
   "cell_type": "code",
   "execution_count": 12,
   "metadata": {},
   "outputs": [
    {
     "data": {
      "text/plain": [
       "2"
      ]
     },
     "execution_count": 12,
     "metadata": {},
     "output_type": "execute_result"
    }
   ],
   "source": [
    "ir.__next__()"
   ]
  },
  {
   "cell_type": "markdown",
   "metadata": {},
   "source": [
    "ir=iter(ds) => ir=ds.__iter__()  \n",
    "next(ir) => ir.__next__()  \n",
    "  \n",
    "- 사용자 함수 사용이 파이썬 인터프리터에 의해 실제 __iter__, __next__ 메소드 호출로 이어짐  \n",
    "  \n",
    "이렇듯 직접 호출하지 않아도 파이썬 인터프리터에 의해 호출되는 메소드를 '스페셜메소드(Special Method)라고 한다  \n",
    "  \n",
    "  \n",
    "'리스트의 __iter__ 메소드 호출을 통해서 iterator 객체를 얻게 된다'  \n",
    "'iterator 객체의 __next__ 메소드 호출을 통해서 값을 하나씩 얻게 된다'"
   ]
  },
  {
   "cell_type": "code",
   "execution_count": 9,
   "metadata": {},
   "outputs": [
    {
     "name": "stdout",
     "output_type": "stream",
     "text": [
      "1 2 3 "
     ]
    }
   ],
   "source": [
    "# iterator 객체는 동시에 iterable한 객체가 될 수 있다(for문 사용 가능, 또다른 iter()함수의 인자 가능)\n",
    "ir = iter([1,2,3]) # ir에 저장되는 것은 iterator 객체\n",
    "for i in ir: # for루프에 iterator 객체를 가져다 두었다.\n",
    "    print(i, end=' ')\n",
    "\n",
    "# iterator객체가 iter()함수의 인자로 들어간다면 'iterable한 객체'이기도 한다고 정의할 수 있다"
   ]
  },
  {
   "cell_type": "markdown",
   "metadata": {},
   "source": [
    "### [iterable 객체의 종류와 확인 방법]"
   ]
  },
  {
   "cell_type": "code",
   "execution_count": 13,
   "metadata": {},
   "outputs": [
    {
     "data": {
      "text/plain": [
       "'one'"
      ]
     },
     "execution_count": 13,
     "metadata": {},
     "output_type": "execute_result"
    }
   ],
   "source": [
    "# iterable - 튜플(tuple)\n",
    "td = ('one', 'two', 'three')\n",
    "ir=iter(td) # 튜플을 대상으로 iterator 객체 반환을 명령\n",
    "next(ir) # iterator 객체를 통해 튜플에 저장된 첫 번째 값을 얻음"
   ]
  },
  {
   "cell_type": "code",
   "execution_count": 14,
   "metadata": {},
   "outputs": [
    {
     "data": {
      "text/plain": [
       "'two'"
      ]
     },
     "execution_count": 14,
     "metadata": {},
     "output_type": "execute_result"
    }
   ],
   "source": [
    "next(ir) # 두 번째 값을 얻음"
   ]
  },
  {
   "cell_type": "code",
   "execution_count": 15,
   "metadata": {},
   "outputs": [
    {
     "data": {
      "text/plain": [
       "'three'"
      ]
     },
     "execution_count": 15,
     "metadata": {},
     "output_type": "execute_result"
    }
   ],
   "source": [
    "next(ir) # 세 번째 값을 얻음"
   ]
  },
  {
   "cell_type": "code",
   "execution_count": 16,
   "metadata": {},
   "outputs": [
    {
     "data": {
      "text/plain": [
       "'i'"
      ]
     },
     "execution_count": 16,
     "metadata": {},
     "output_type": "execute_result"
    }
   ],
   "source": [
    "# iterable - 문자열(string)\n",
    "s='iteration'\n",
    "ir = iter(s)\n",
    "next(ir)"
   ]
  },
  {
   "cell_type": "code",
   "execution_count": 17,
   "metadata": {},
   "outputs": [
    {
     "data": {
      "text/plain": [
       "'t'"
      ]
     },
     "execution_count": 17,
     "metadata": {},
     "output_type": "execute_result"
    }
   ],
   "source": [
    "next(ir)"
   ]
  },
  {
   "cell_type": "code",
   "execution_count": 18,
   "metadata": {},
   "outputs": [
    {
     "data": {
      "text/plain": [
       "'e'"
      ]
     },
     "execution_count": 18,
     "metadata": {},
     "output_type": "execute_result"
    }
   ],
   "source": [
    "next(ir)"
   ]
  },
  {
   "cell_type": "code",
   "execution_count": 20,
   "metadata": {},
   "outputs": [
    {
     "name": "stdout",
     "output_type": "stream",
     "text": [
      "['__add__', '__class__', '__contains__', '__delattr__', '__delitem__', '__dir__', '__doc__', '__eq__', '__format__', '__ge__', '__getattribute__', '__getitem__', '__gt__', '__hash__', '__iadd__', '__imul__', '__init__', '__init_subclass__', '__iter__', '__le__', '__len__', '__lt__', '__mul__', '__ne__', '__new__', '__reduce__', '__reduce_ex__', '__repr__', '__reversed__', '__rmul__', '__setattr__', '__setitem__', '__sizeof__', '__str__', '__subclasshook__', 'append', 'clear', 'copy', 'count', 'extend', 'index', 'insert', 'pop', 'remove', 'reverse', 'sort']\n"
     ]
    }
   ],
   "source": [
    "# iterator 객체 확인방법 - dir()\n",
    "print(dir([1,2]))"
   ]
  },
  {
   "cell_type": "code",
   "execution_count": 21,
   "metadata": {},
   "outputs": [
    {
     "data": {
      "text/plain": [
       "True"
      ]
     },
     "execution_count": 21,
     "metadata": {},
     "output_type": "execute_result"
    }
   ],
   "source": [
    "hasattr([1,2], '__iter__') # 리스트에 __iter__ 함수가 있는지 바로 T/F로 확인가능"
   ]
  },
  {
   "cell_type": "markdown",
   "metadata": {},
   "source": [
    "### [for loop 원리 이해]"
   ]
  },
  {
   "cell_type": "code",
   "execution_count": null,
   "metadata": {},
   "outputs": [],
   "source": [
    "# for loop 작동 원리(iterable객체만 가능)\n",
    "ir= iter([1,2,3]) # iterator 객체를 얻는다.\n",
    "while True:\n",
    "    try:\n",
    "        i=next(ir) # iterator객체를 통해서 값을 하나씩 꺼낸다.\n",
    "        print(i, end=' ')\n",
    "    except StopIteration: # 더이상 꺼낼것이 없으면,\n",
    "        break # 이 루프를 탈출한다."
   ]
  },
  {
   "cell_type": "code",
   "execution_count": 10,
   "metadata": {},
   "outputs": [
    {
     "name": "stdout",
     "output_type": "stream",
     "text": [
      "True\n",
      "2492632535944\n",
      "2492632535944\n"
     ]
    }
   ],
   "source": [
    "# 이때 iter(iterator객체) 는 리모콘속에 리모콘 객체이므로 결과값은 인자로 들어간 iterator객체를 그대로 반환한다\n",
    "\n",
    "ir1 = iter([1,2,3]) # 리스트의 iterator 객체를 얻음\n",
    "ir2 = iter(ir1) # iterator 객체를 전달하면서 다시 iterator 객체를 얻음\n",
    "print(ir1 is ir2) # ir1과 ir2가 참조하는 객체는 같은 객체이다.\n",
    "print(id(ir1)) # ir1이 참조하는 객체의 위치정보 확인\n",
    "print(id(ir2)) # ir2이 참조하는 객체의 위치정보 확인"
   ]
  },
  {
   "cell_type": "markdown",
   "metadata": {},
   "source": [
    "### **iterable 객체**와 **iterator 객체** 모두 for loop 반복 대상이 될 수 있다  \n",
    "  \n",
    "### iterable 객체가 와야하는 위치에 **iterator 객체**가 올 수도 있다"
   ]
  },
  {
   "cell_type": "code",
   "execution_count": null,
   "metadata": {},
   "outputs": [],
   "source": []
  }
 ],
 "metadata": {
  "kernelspec": {
   "display_name": "Python 3",
   "language": "python",
   "name": "python3"
  },
  "language_info": {
   "codemirror_mode": {
    "name": "ipython",
    "version": 3
   },
   "file_extension": ".py",
   "mimetype": "text/x-python",
   "name": "python",
   "nbconvert_exporter": "python",
   "pygments_lexer": "ipython3",
   "version": "3.7.4"
  }
 },
 "nbformat": 4,
 "nbformat_minor": 4
}

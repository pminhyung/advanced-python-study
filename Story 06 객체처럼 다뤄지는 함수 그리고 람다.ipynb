{
 "cells": [
  {
   "cell_type": "markdown",
   "metadata": {},
   "source": [
    "# Story 06 객체처럼 다뤄지는 함수 그리고 람다"
   ]
  },
  {
   "cell_type": "markdown",
   "metadata": {},
   "source": [
    "### [파이썬에서는 함수도 객체이다]"
   ]
  },
  {
   "cell_type": "code",
   "execution_count": 2,
   "metadata": {},
   "outputs": [
    {
     "data": {
      "text/plain": [
       "float"
      ]
     },
     "execution_count": 2,
     "metadata": {},
     "output_type": "execute_result"
    }
   ],
   "source": [
    "# 객체의 예 - 실수\n",
    "x=3.0 # 실수 3.0\n",
    "type(x) # x는 float형 클래스의 객체이다.\n",
    "\n",
    "# 3.0이라는 값을 float형 클래스의 그릇에 담고 'x'가 이를 참조하도록 함"
   ]
  },
  {
   "cell_type": "code",
   "execution_count": 3,
   "metadata": {},
   "outputs": [
    {
     "data": {
      "text/plain": [
       "True"
      ]
     },
     "execution_count": 3,
     "metadata": {},
     "output_type": "execute_result"
    }
   ],
   "source": [
    "x.is_integer() # 소수점 이하에 값이 있는지 묻는 메소드 호출"
   ]
  },
  {
   "cell_type": "code",
   "execution_count": 4,
   "metadata": {},
   "outputs": [
    {
     "name": "stdout",
     "output_type": "stream",
     "text": [
      "<class 'function'>\n",
      "<class 'function'>\n"
     ]
    }
   ],
   "source": [
    "# 객체의 예 - 함수\n",
    "def func1(n): # 매개변수가 있고 값을 반환하는 함수\n",
    "    return n\n",
    "def func2(n): # 매개변수가 없고 값의 반환도 없는 함수\n",
    "    print('hello')\n",
    "    \n",
    "print(type(func1)) # func1, func2는 function클래스의 객체이다\n",
    "print(type(func2))\n",
    "\n",
    "# return n, print('hello')를 function 클래스 그릇에 담고, 'func1', 'func2'가 각각 이들을 참조하게 함"
   ]
  },
  {
   "cell_type": "code",
   "execution_count": 12,
   "metadata": {},
   "outputs": [
    {
     "name": "stdout",
     "output_type": "stream",
     "text": [
      "hello\n"
     ]
    }
   ],
   "source": [
    "def say1():\n",
    "    print('hello')\n",
    "    \n",
    "def say2():\n",
    "    print('hi~')\n",
    "    \n",
    "def caller(fct):\n",
    "    fct() # fct를 통해 전달된 함수를 호출,  print('hi~')와 print('hello')의 rc=2(fct, say1)\n",
    "        \n",
    "caller(say1)  # say1 함수를 caller에 전달(say1이 객체이기 때문에 가능)"
   ]
  },
  {
   "cell_type": "code",
   "execution_count": 11,
   "metadata": {},
   "outputs": [
    {
     "name": "stdout",
     "output_type": "stream",
     "text": [
      "hi~\n"
     ]
    }
   ],
   "source": [
    "caller(say2) # say2 함수를 caller에 전달"
   ]
  },
  {
   "cell_type": "code",
   "execution_count": 13,
   "metadata": {},
   "outputs": [
    {
     "data": {
      "text/plain": [
       "16"
      ]
     },
     "execution_count": 13,
     "metadata": {},
     "output_type": "execute_result"
    }
   ],
   "source": [
    "# 함수가 객체가 된다라는 것의 또다른 의미 - 함수내에 함수를 만들어 이를 반환 가능\n",
    "def fct_fac(n):\n",
    "    def exp(x): # 함수 내에서 정의된, x의 n제곱을 반환하는 함수\n",
    "        return x ** n\n",
    "    return exp # 위에서 정의한 함수 exp를 반환한다.\n",
    "\n",
    "f2 = fct_fac(2) # f2는 제곱을 계산해서 반환하는 함수를 참조한다.\n",
    "f3 = fct_fac(3) # f3는 세제곱을 계산해서 반환하는 함수를 참조한다.\n",
    "\n",
    "f2(4) # fct_fac(2)(4) => 2는 n에 들어가 exp(x)가 정의되고, exp(4)를 반환"
   ]
  },
  {
   "cell_type": "code",
   "execution_count": 14,
   "metadata": {},
   "outputs": [
    {
     "data": {
      "text/plain": [
       "64"
      ]
     },
     "execution_count": 14,
     "metadata": {},
     "output_type": "execute_result"
    }
   ],
   "source": [
    "f3(4)"
   ]
  },
  {
   "cell_type": "markdown",
   "metadata": {},
   "source": [
    "### [lambda 함수]"
   ]
  },
  {
   "cell_type": "code",
   "execution_count": 15,
   "metadata": {},
   "outputs": [
    {
     "name": "stdout",
     "output_type": "stream",
     "text": [
      "hi~\n"
     ]
    }
   ],
   "source": [
    "def show(s):\n",
    "    print(s)\n",
    "ref = show # show함수를 ref가 참조하게 한다. 함수가 객체라 가능!\n",
    "ref('hi~') # ref로 show 함수를 호출\n",
    "\n",
    "# 람다함수로 표현할 시,\n",
    "ref = lambda s: print(s) # (:)왼쪽은 매개변수, 오른쪽은 함수 몸체\n",
    "ref('hi~')\n",
    "\n",
    "# 함수몸체와 매개변수가 객체에 만들어지지만 변수할당이 없다면 함수이름이 없어 호출 불가능하다"
   ]
  },
  {
   "cell_type": "code",
   "execution_count": 16,
   "metadata": {},
   "outputs": [
    {
     "data": {
      "text/plain": [
       "7"
      ]
     },
     "execution_count": 16,
     "metadata": {},
     "output_type": "execute_result"
    }
   ],
   "source": [
    "# 반환값 앞에 return을 적지 않는다!\n",
    "f1 = lambda n1, n2: n1 + n2\n",
    "f1(3,4)"
   ]
  },
  {
   "cell_type": "code",
   "execution_count": 17,
   "metadata": {},
   "outputs": [
    {
     "data": {
      "text/plain": [
       "6"
      ]
     },
     "execution_count": 17,
     "metadata": {},
     "output_type": "execute_result"
    }
   ],
   "source": [
    "# 람다함수에 또다른함수(len()) 사용가능\n",
    "f2 = lambda s: len(s)\n",
    "f2('simple')"
   ]
  },
  {
   "cell_type": "code",
   "execution_count": null,
   "metadata": {},
   "outputs": [],
   "source": [
    "# 매개변수가 없어도 된다\n",
    "f3 = lambda : print('yes~')"
   ]
  },
  {
   "cell_type": "code",
   "execution_count": 18,
   "metadata": {},
   "outputs": [],
   "source": [
    "def fct_fac(n):\n",
    "    def exp(x): # 함수 내에서 정의된, x의 n제곱을 반환하는 함수\n",
    "        return x ** n\n",
    "    return exp\n",
    "\n",
    "def fct_fac_lambda(n): # fct_fac의 람다 버전\n",
    "    return lambda x: x ** n\n",
    "\n",
    "f2=fct_fac_lambda(2)\n",
    "f3=fct_fac_lambda(3)"
   ]
  },
  {
   "cell_type": "code",
   "execution_count": 19,
   "metadata": {},
   "outputs": [
    {
     "data": {
      "text/plain": [
       "16"
      ]
     },
     "execution_count": 19,
     "metadata": {},
     "output_type": "execute_result"
    }
   ],
   "source": [
    "f2(4)"
   ]
  },
  {
   "cell_type": "code",
   "execution_count": 20,
   "metadata": {},
   "outputs": [
    {
     "data": {
      "text/plain": [
       "64"
      ]
     },
     "execution_count": 20,
     "metadata": {},
     "output_type": "execute_result"
    }
   ],
   "source": [
    "f3(4)"
   ]
  }
 ],
 "metadata": {
  "kernelspec": {
   "display_name": "Python 3",
   "language": "python",
   "name": "python3"
  },
  "language_info": {
   "codemirror_mode": {
    "name": "ipython",
    "version": 3
   },
   "file_extension": ".py",
   "mimetype": "text/x-python",
   "name": "python",
   "nbconvert_exporter": "python",
   "pygments_lexer": "ipython3",
   "version": "3.7.4"
  }
 },
 "nbformat": 4,
 "nbformat_minor": 4
}

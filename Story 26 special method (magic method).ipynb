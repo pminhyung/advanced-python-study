{
 "cells": [
  {
   "cell_type": "markdown",
   "metadata": {},
   "source": [
    "## Story 26 special method (magic method)"
   ]
  },
  {
   "cell_type": "markdown",
   "metadata": {},
   "source": [
    "> _ _ name _ _ 과 같은 형태의 이름을 가지며, 파이썬에 의해 호출되는 메소드  \n",
    "> A.fct() : A. _ _ fct _ _ () 실행  \n",
    "> 호출 시점이 약속된 method:\n",
    ">> - ( ) : _ _ call _ _  \n",
    "- print( ) : _ _ str _ _   \n",
    "- 객체생성시 자동 : _ _ init _ _"
   ]
  },
  {
   "cell_type": "markdown",
   "metadata": {},
   "source": [
    "iter(s) : s. _ _ iter _ _ () 실행"
   ]
  },
  {
   "cell_type": "code",
   "execution_count": 2,
   "metadata": {},
   "outputs": [
    {
     "name": "stdout",
     "output_type": "stream",
     "text": [
      "1 2 3 "
     ]
    },
    {
     "data": {
      "text/plain": [
       "'(1, 2, 3)'"
      ]
     },
     "execution_count": 2,
     "metadata": {},
     "output_type": "execute_result"
    }
   ],
   "source": [
    "t = (1, 2, 3)\n",
    "\n",
    "len(t) # t.__len__()\n",
    "\n",
    "itr = iter(t) # itr = t.__iter__()\n",
    "for i in itr:\n",
    "    print(i, end = ' ')\n",
    "\n",
    "s = str(t) # s = t.__str__()\n",
    "s"
   ]
  },
  {
   "cell_type": "markdown",
   "metadata": {},
   "source": [
    "### [class에 special method 정의하기]"
   ]
  },
  {
   "cell_type": "code",
   "execution_count": 7,
   "metadata": {},
   "outputs": [
    {
     "name": "stdout",
     "output_type": "stream",
     "text": [
      "7\n",
      "Vehicle number : 4325\n"
     ]
    }
   ],
   "source": [
    "class Car:\n",
    "    def __init__(self, id):\n",
    "        self.id = id       # 차량 번호\n",
    "\n",
    "\n",
    "    def __len__(self):\n",
    "        return len(self.id)      # 차량 번호의 길이가 반환됨\n",
    "\n",
    "    def __str__(self):\n",
    "        return 'Vehicle number : ' + self.id[-1:-5:-1] # 뒤 4자리 숫자반환\n",
    "\n",
    "\n",
    "def main():\n",
    "    c = Car(\"32러5234\")\n",
    "    print(len(c)) # c.__len__()\n",
    "    print(str(c)) # c.__str__()\n",
    "\n",
    "main()"
   ]
  },
  {
   "cell_type": "markdown",
   "metadata": {},
   "source": [
    "### [iterable 객체 만들기]  \n",
    "> - 어떤 객체가  _ _ iter _ _ 을 가진다면 iter()의 인자로 들어갈 수 있으므로 iterable 객체이다  \n",
    "> - 어떤 객체가  _ _ next _ _ 를 가진다면 next()의 인자로 들어갈 수 있으므로 iterator 객체이다  \n",
    "> - iterator 객체 또한 iter() 인자가 된다면 iterable 객체가 될 수 있다 (이 때, next(iter('iterator객체')) 는 'iterator객체'를 반환한다)"
   ]
  },
  {
   "cell_type": "code",
   "execution_count": 8,
   "metadata": {},
   "outputs": [
    {
     "name": "stdout",
     "output_type": "stream",
     "text": [
      "3 2 러 5 2 3 4 "
     ]
    }
   ],
   "source": [
    "# __iter__() 정의해보자 => iterable 객체로 만든다\n",
    "# __iter__()은 iterator 객체를 return 해야한다\n",
    "# return ? => return iter(arg) - iterator 객체\n",
    "class Car:\n",
    "    def __init__(self, id):\n",
    "        self.id = id       # 차량 번호\n",
    "\n",
    "\n",
    "    def __iter__(self):\n",
    "        return iter(self.id) # iterator 객체를 return 해야함\n",
    "\n",
    "\n",
    "def main():\n",
    "    c = Car(\"32러5234\")\n",
    "    for i in c: # Car 객체가 iterable 객체라는 증거 : for loop 사용가능\n",
    "        print(i, end = ' ')\n",
    "    \n",
    "\n",
    "main()\n",
    "\n",
    "# Car 객체가 사실 완전한 iterator 객체가 되기위해서는 원래 __next__가 정의되어야 함\n",
    "# 즉 이 예제에서는 __iter__의 반환되어야할 iterator 객체를 직접 정의하지 않고(__next__를 정의하여야 함),\n",
    "# 부모 class에게 상속한 메소드 iter()함수를 이용하여 iterator객체를 반환하도록 하였음"
   ]
  },
  {
   "cell_type": "markdown",
   "metadata": {},
   "source": [
    "### [iterator 객체 만들기]  "
   ]
  },
  {
   "cell_type": "markdown",
   "metadata": {},
   "source": [
    "_ _ next _ _ 정의하기\n",
    "> 조건(1) : 가지고 있는 값을 하나씩 반환  \n",
    "> 조건(2) : 더 이상 반환할 값이 없는 경우 StopIteration 예외 발생"
   ]
  },
  {
   "cell_type": "code",
   "execution_count": 11,
   "metadata": {},
   "outputs": [
    {
     "name": "stdout",
     "output_type": "stream",
     "text": [
      "1 2 3 4 5 "
     ]
    }
   ],
   "source": [
    "class Coll:\n",
    "    def __init__(self, d):\n",
    "        self.ds = d       \n",
    "        self.cc = 0       # next 호출 횟수 : iterator 객체로 만들기 위해 필요한 변수\n",
    "        \n",
    "    def __next__(self):\n",
    "        if len(self.ds) <= self.cc:\n",
    "            raise StopIteration\n",
    "\n",
    "        self.cc += 1\n",
    "        return self.ds[self.cc - 1]\n",
    "\n",
    "\n",
    "def main():\n",
    "    co = Coll([1, 2, 3, 4, 5])    # 튜플 및 문자열도 전달할 수 있음\n",
    "\n",
    "    while True:\n",
    "        try:\n",
    "            i = next(co)      # iterator 객체를 통해서 하나씩 꺼낸다.\n",
    "            print(i, end = ' ')\n",
    "        except StopIteration:      # 더 이상 꺼낼 객체가 없으면,\n",
    "            break      # 이 루프를 탈출한다.\n",
    "    \n",
    "\n",
    "main()\n",
    "\n",
    "# Car 객체가 iterable 객체가 되기위해서는 원래 __iter__가 정의되어야 함"
   ]
  },
  {
   "cell_type": "markdown",
   "metadata": {},
   "source": [
    "### [iterator 객체 이자 iterable 객체인 객체 만들기]"
   ]
  },
  {
   "cell_type": "markdown",
   "metadata": {},
   "source": [
    "앞의 예제들은 'iterable 객체를 인자로 전달하면서 iter 함수를 호출하면 iterator 객체가 반환된다' 을 만족하지 않는다\n",
    "  \n",
    "  - 'iterable 객체만들기'에서는 __next__ 함수를 정의하지 않았고\n",
    "  - 'iterator 객체만들기'에서는 __iter__ 함수를 정의하지 않았다"
   ]
  },
  {
   "cell_type": "code",
   "execution_count": 12,
   "metadata": {},
   "outputs": [
    {
     "name": "stdout",
     "output_type": "stream",
     "text": [
      "1 2 3 4 5 1 2 3 4 5 "
     ]
    }
   ],
   "source": [
    "class Coll2:\n",
    "    def __init__(self, d):\n",
    "        self.ds = d\n",
    "        \n",
    "    def __next__(self):\n",
    "        if len(self.ds) <= self.cc:\n",
    "            raise StopIteration\n",
    "\n",
    "        self.cc += 1\n",
    "        return self.ds[self.cc - 1]\n",
    "\n",
    "    def __iter__(self):  # 객체는 __iter__()의 인자가 되므로 iterable 객체가 된다\n",
    "        self.cc = 0      # next 호출 횟수 초기화\n",
    "        return self      # __iter__(객체)로 반환된 '객체'가 iterator객체가 되도록 __next__를 직접 정의하였다\n",
    "\n",
    "\n",
    "def main():\n",
    "    co = Coll2([1, 2, 3, 4, 5])\n",
    "\n",
    "    for i in co:\n",
    "        print(i, end = ' ')\n",
    "        \n",
    "    for i in co:\n",
    "        print(i, end = ' ')\n",
    "\n",
    "main()"
   ]
  },
  {
   "cell_type": "code",
   "execution_count": null,
   "metadata": {},
   "outputs": [],
   "source": []
  }
 ],
 "metadata": {
  "kernelspec": {
   "display_name": "Python 3",
   "language": "python",
   "name": "python3"
  },
  "language_info": {
   "codemirror_mode": {
    "name": "ipython",
    "version": 3
   },
   "file_extension": ".py",
   "mimetype": "text/x-python",
   "name": "python",
   "nbconvert_exporter": "python",
   "pygments_lexer": "ipython3",
   "version": "3.7.4"
  }
 },
 "nbformat": 4,
 "nbformat_minor": 4
}

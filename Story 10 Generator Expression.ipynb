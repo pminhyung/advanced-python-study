{
 "cells": [
  {
   "cell_type": "markdown",
   "metadata": {},
   "source": [
    "## Story 10 Generator Expression"
   ]
  },
  {
   "cell_type": "code",
   "execution_count": 1,
   "metadata": {},
   "outputs": [
    {
     "name": "stdout",
     "output_type": "stream",
     "text": [
      "2 4 6 8 10 12 14 16 18 "
     ]
    }
   ],
   "source": [
    "# 일반함수 사용\n",
    "def show_all(s): # iterable 객체를 전달하면서 이 함수 호출\n",
    "    for i in s:\n",
    "        print(i, end = ' ')\n",
    "\n",
    "st = [2 * i for i in range(1, 10)]  # 구구단 2단을 전부 저장한 리스트 생성\n",
    "show_all(st) # 위에서 정의한 show_all 호출"
   ]
  },
  {
   "cell_type": "code",
   "execution_count": 2,
   "metadata": {},
   "outputs": [
    {
     "name": "stdout",
     "output_type": "stream",
     "text": [
      "2 4 6 8 10 12 14 16 18 "
     ]
    }
   ],
   "source": [
    "# generator function 사용 - 함수 재사용시 유용\n",
    "def times2(): # generator 함수 정의\n",
    "    for i in range(1,10):\n",
    "        yield 2 * i\n",
    "\n",
    "g=times2() # generator 객체 생성\n",
    "show_all(g) # 위에서 정의한 show_all 호출"
   ]
  },
  {
   "cell_type": "code",
   "execution_count": 3,
   "metadata": {},
   "outputs": [
    {
     "data": {
      "text/plain": [
       "2"
      ]
     },
     "execution_count": 3,
     "metadata": {},
     "output_type": "execute_result"
    }
   ],
   "source": [
    "# generator expression 사용 - 일회용 사용시 생성이 더 간편\n",
    "g=(2 * i for i in range(1, 10))\n",
    "next(g)\n",
    "# list comprehension에서 리스트[]를 소괄호()로만 바꾸어주면 generator expression이 된다\n",
    "# 매우 간편\n",
    "# tuple comprehension(x)"
   ]
  },
  {
   "cell_type": "code",
   "execution_count": 5,
   "metadata": {},
   "outputs": [
    {
     "name": "stdout",
     "output_type": "stream",
     "text": [
      "two\n"
     ]
    },
    {
     "data": {
      "text/plain": [
       "2"
      ]
     },
     "execution_count": 5,
     "metadata": {},
     "output_type": "execute_result"
    }
   ],
   "source": [
    "# generator expression에 func을 사용할 때\n",
    "# next 실행해야 call 됨 (generator 특성)\n",
    "def two():\n",
    "    print('two') # two 함수 호출 시에 two라는 문자열 출력\n",
    "    return 2\n",
    "\n",
    "g = (two() * i for i in range(1, 10)) # 이때 two 함수 호출 안됨\n",
    "next(g) # next를 실행한 이 시점에 two 함수 한번 호출 - print('two')를 보면 알 수 있다"
   ]
  },
  {
   "cell_type": "markdown",
   "metadata": {},
   "source": [
    "### generator expression 직접 전달하기  \n",
    "  \n",
    "function을 call 할 때 generator expression을 argument로 바로 전달할 수 있다"
   ]
  },
  {
   "cell_type": "code",
   "execution_count": 6,
   "metadata": {},
   "outputs": [
    {
     "name": "stdout",
     "output_type": "stream",
     "text": [
      "2 4 6 8 10 12 14 16 18 "
     ]
    }
   ],
   "source": [
    "def show_all(s): \n",
    "    for i in s:\n",
    "        print(i, end = ' ')\n",
    "\n",
    "show_all((2 * i for i in range(1, 10))) # func( (generator expression) )"
   ]
  },
  {
   "cell_type": "code",
   "execution_count": null,
   "metadata": {},
   "outputs": [],
   "source": [
    "# 이 때는 소괄호()를 생략할 수 있다\n",
    "show_all(2 * i for i in range(1, 10)) # func( generator expression )"
   ]
  }
 ],
 "metadata": {
  "kernelspec": {
   "display_name": "Python 3",
   "language": "python",
   "name": "python3"
  },
  "language_info": {
   "codemirror_mode": {
    "name": "ipython",
    "version": 3
   },
   "file_extension": ".py",
   "mimetype": "text/x-python",
   "name": "python",
   "nbconvert_exporter": "python",
   "pygments_lexer": "ipython3",
   "version": "3.7.4"
  }
 },
 "nbformat": 4,
 "nbformat_minor": 4
}

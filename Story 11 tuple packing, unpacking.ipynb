{
 "cells": [
  {
   "cell_type": "markdown",
   "metadata": {},
   "source": [
    "## Story 11 Tuple Packing, Unpacking"
   ]
  },
  {
   "cell_type": "markdown",
   "metadata": {},
   "source": [
    "'*'  \n",
    "\n",
    "거의 모든 경우 Packing  \n",
    "  \n",
    "함수 호출 인자 앞에 붙을 경우 Unpacking"
   ]
  },
  {
   "cell_type": "markdown",
   "metadata": {},
   "source": [
    "packing, unpacking은 '명령' 보다는 '상황'개념으로 이해해라"
   ]
  },
  {
   "cell_type": "markdown",
   "metadata": {},
   "source": [
    "## '묶는다'의 기능 "
   ]
  },
  {
   "cell_type": "code",
   "execution_count": 4,
   "metadata": {},
   "outputs": [
    {
     "data": {
      "text/plain": [
       "(23, 12)"
      ]
     },
     "execution_count": 4,
     "metadata": {},
     "output_type": "execute_result"
    }
   ],
   "source": [
    "# tuple packing\n",
    "tri_two = 23, 12\n",
    "tri_two"
   ]
  },
  {
   "cell_type": "code",
   "execution_count": 3,
   "metadata": {},
   "outputs": [
    {
     "name": "stdout",
     "output_type": "stream",
     "text": [
      "12 25\n"
     ]
    }
   ],
   "source": [
    "# tuple unpacking\n",
    "tri_three = (12, 25)\n",
    "bt, ht = tri_three\n",
    "print(bt, ht)"
   ]
  },
  {
   "cell_type": "code",
   "execution_count": 5,
   "metadata": {},
   "outputs": [
    {
     "data": {
      "text/plain": [
       "[3, 4, 5]"
      ]
     },
     "execution_count": 5,
     "metadata": {},
     "output_type": "execute_result"
    }
   ],
   "source": [
    "# 여러 변수에 할당 시 *(묶는다)사용: packing - 결과가 list 이다!\n",
    "nums = (1, 2, 3, 4, 5)\n",
    "n1, n2, *others = nums # 둘 이상의 값을 리스트로 묶을 때 *를 사용한다.\n",
    "others"
   ]
  },
  {
   "cell_type": "code",
   "execution_count": 6,
   "metadata": {},
   "outputs": [
    {
     "data": {
      "text/plain": [
       "[2, 3, 4]"
      ]
     },
     "execution_count": 6,
     "metadata": {},
     "output_type": "execute_result"
    }
   ],
   "source": [
    "# 여러 변수에 할당 시 *(묶는다)사용 - 처음, 중간, 끝에 모두가능\n",
    "nums = (1, 2, 3, 4, 5)\n",
    "first, *others, last = nums # 둘 이상의 값을 리스트로 묶을 때 *를 사용한다.\n",
    "others"
   ]
  },
  {
   "cell_type": "markdown",
   "metadata": {},
   "source": [
    "### [함수 호출 및 반환 과정에서의 packing / unpacking]"
   ]
  },
  {
   "cell_type": "code",
   "execution_count": 7,
   "metadata": {},
   "outputs": [
    {
     "data": {
      "text/plain": [
       "(1, 2, 3, 4, 5)"
      ]
     },
     "execution_count": 7,
     "metadata": {},
     "output_type": "execute_result"
    }
   ],
   "source": [
    "# 함수 반환값을 packing하여 할당\n",
    "def ret_nums():\n",
    "    return 1, 2, 3, 4, 5 #  함수는 한번에 하나의 값만 반환할 수 있다\n",
    "\n",
    "nums = ret_nums()\n",
    "nums # 튜플로 묶어서 하나의 값으로 반환한다"
   ]
  },
  {
   "cell_type": "code",
   "execution_count": 10,
   "metadata": {},
   "outputs": [
    {
     "data": {
      "text/plain": [
       "[2, 3, 4, 5]"
      ]
     },
     "execution_count": 10,
     "metadata": {},
     "output_type": "execute_result"
    }
   ],
   "source": [
    "# 함수 반환값을 할당 시 '*'(묶는다) 사용\n",
    "n, *others = ret_nums() # 반환되는 값이 unpacking되어 변수들에 저장\n",
    "others # list로 묶인다"
   ]
  },
  {
   "cell_type": "code",
   "execution_count": 11,
   "metadata": {},
   "outputs": [
    {
     "name": "stdout",
     "output_type": "stream",
     "text": [
      "1, 2, (3, 4)\n"
     ]
    }
   ],
   "source": [
    "# 함수정의 시 매개변수에 *(묶는다) 사용 (1)\n",
    "def show_nums(n1, n2, *other): # 세번째 이후 값들은 tuple로 묶여 other에 전달\n",
    "    print(n1, n2, other, sep = ', ')\n",
    "    \n",
    "show_nums(1, 2, 3, 4)"
   ]
  },
  {
   "cell_type": "code",
   "execution_count": 12,
   "metadata": {},
   "outputs": [
    {
     "name": "stdout",
     "output_type": "stream",
     "text": [
      "1, 2, (3, 4, 5)\n"
     ]
    }
   ],
   "source": [
    "show_nums(1, 2, 3, 4, 5)"
   ]
  },
  {
   "cell_type": "code",
   "execution_count": 14,
   "metadata": {},
   "outputs": [
    {
     "data": {
      "text/plain": [
       "15"
      ]
     },
     "execution_count": 14,
     "metadata": {},
     "output_type": "execute_result"
    }
   ],
   "source": [
    "# 함수정의 시 매개변수에 *(묶는다) 사용 (2)\n",
    "def sum(*nums):\n",
    "    s = 0\n",
    "    for i in nums:\n",
    "        s += i\n",
    "    return s\n",
    "\n",
    "sum(1, 2, 3, 4, 5)"
   ]
  },
  {
   "cell_type": "markdown",
   "metadata": {},
   "source": [
    "## '푼다'의 기능"
   ]
  },
  {
   "cell_type": "code",
   "execution_count": 15,
   "metadata": {},
   "outputs": [
    {
     "name": "stdout",
     "output_type": "stream",
     "text": [
      "Yoon, 22, 180\n"
     ]
    }
   ],
   "source": [
    "# fucn(*args) - function을 call할 때 매개변수(arg)앞에 '*'이 들어가면 '푼다' 기능!\n",
    "def show_man(name, age, height):\n",
    "    print(name, age, height, sep = ', ')\n",
    "p = ('Yoon', 22, 180) # 180cm의 22세 Yoon군\n",
    "\n",
    "show_man(*p) # p에 담긴 값을 풀어서 각각의 매개변수에 전달!"
   ]
  },
  {
   "cell_type": "code",
   "execution_count": null,
   "metadata": {},
   "outputs": [],
   "source": [
    "# unpacking 할 때 동일한 구조 형태의 변수를 선언하라!(1)\n",
    "t = (1, 2, (3, 4)) # 튜플 안에 튜플이 있다.\n",
    "a, b, (c, d) = t # 튜플 ㅇ나의 값의 구조와 동일한 형태로 변수를 선언한다.\n",
    "print(a, b, c, d, sep = ', ')"
   ]
  },
  {
   "cell_type": "code",
   "execution_count": 16,
   "metadata": {},
   "outputs": [
    {
     "name": "stdout",
     "output_type": "stream",
     "text": [
      "Hong 178\n"
     ]
    }
   ],
   "source": [
    "# unpacking 할 때 동일한 구조 형태의 변수를 선언하라! (2)\n",
    "p = 'Hong', (32, 178), '010-1234-56xx', 'Korea'\n",
    "na, (ag, he), ph, ad = p\n",
    "print(na, he)"
   ]
  },
  {
   "cell_type": "code",
   "execution_count": null,
   "metadata": {},
   "outputs": [],
   "source": [
    "# 의미없는 변수에 _로 할당하는 것도 하나의 관례다(해석시 도움)\n",
    "p = 'Hong', (32, 178), '010-1234-56xx', 'Korea'\n",
    "na, (_, he), _, _ = p\n",
    "print(na, he)"
   ]
  },
  {
   "cell_type": "markdown",
   "metadata": {},
   "source": [
    "### [for loop 에서 unpacking]"
   ]
  },
  {
   "cell_type": "code",
   "execution_count": 17,
   "metadata": {},
   "outputs": [
    {
     "name": "stdout",
     "output_type": "stream",
     "text": [
      "Lee, 172\n",
      "Jung, 182\n",
      "Yoon, 179\n"
     ]
    }
   ],
   "source": [
    "ps = [('Lee', 172), ('Jung', 182), ('Yoon', 179)] # list에 담긴 tuple\n",
    "# ps = (['Lee', 172], ['Jung', 182], ['Yoon', 179]) # tuple에 담긴 list도 같다\n",
    "\n",
    "\n",
    "for n, h in ps: # for loop은 세번 돈다\n",
    "    print(n, h, sep = ', ')\n"
   ]
  },
  {
   "cell_type": "code",
   "execution_count": null,
   "metadata": {},
   "outputs": [],
   "source": []
  }
 ],
 "metadata": {
  "kernelspec": {
   "display_name": "Python 3",
   "language": "python",
   "name": "python3"
  },
  "language_info": {
   "codemirror_mode": {
    "name": "ipython",
    "version": 3
   },
   "file_extension": ".py",
   "mimetype": "text/x-python",
   "name": "python",
   "nbconvert_exporter": "python",
   "pygments_lexer": "ipython3",
   "version": "3.7.4"
  }
 },
 "nbformat": 4,
 "nbformat_minor": 4
}

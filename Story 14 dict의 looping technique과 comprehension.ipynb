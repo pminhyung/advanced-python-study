{
 "cells": [
  {
   "cell_type": "markdown",
   "metadata": {},
   "source": [
    "## Story 14 Dict의 Looping Technique과 Comprehension"
   ]
  },
  {
   "cell_type": "markdown",
   "metadata": {},
   "source": [
    "### [Dict의 Looping Technique]"
   ]
  },
  {
   "cell_type": "code",
   "execution_count": 1,
   "metadata": {},
   "outputs": [
    {
     "name": "stdout",
     "output_type": "stream",
     "text": [
      "1, 2, 3, "
     ]
    }
   ],
   "source": [
    "d = dict(a = 1, b = 2, c = 3)\n",
    "for k in d: # k에는 키가 담긴다.\n",
    "    print(d[k], end = ', ')"
   ]
  },
  {
   "cell_type": "code",
   "execution_count": null,
   "metadata": {},
   "outputs": [],
   "source": [
    "# Dict의 for loop을 위한 3가지 메소드 - keys(), values(), items()\n",
    "dict.keys() # 키들 참조\n",
    "dict.values() # 값들 참조\n",
    "dict.items() # 키와 값을 tuple 형태로 참조\n",
    "\n",
    "# 이 세가지 메소드는 'view객체'를 반환한다\n",
    "# view 객체는 iterable 객체이다"
   ]
  },
  {
   "cell_type": "code",
   "execution_count": 4,
   "metadata": {},
   "outputs": [
    {
     "name": "stdout",
     "output_type": "stream",
     "text": [
      "a, b, c, "
     ]
    }
   ],
   "source": [
    "# d.keys()\n",
    "d = dict(a = 1, b = 2, c = 3)\n",
    "for key in d.keys(): # d.keys()는 iterable함을 의미, \n",
    "    print(key, end = ', ')"
   ]
  },
  {
   "cell_type": "code",
   "execution_count": 6,
   "metadata": {},
   "outputs": [
    {
     "name": "stdout",
     "output_type": "stream",
     "text": [
      "1, 2, 3, "
     ]
    }
   ],
   "source": [
    "# d.values()\n",
    "d = dict(a = 1, b = 2, c = 3)\n",
    "for value in d.values(): # d.keys()는 iterable함을 의미, \n",
    "    print(value, end = ', ')"
   ]
  },
  {
   "cell_type": "code",
   "execution_count": 7,
   "metadata": {},
   "outputs": [
    {
     "name": "stdout",
     "output_type": "stream",
     "text": [
      "('a', 1), ('b', 2), ('c', 3), "
     ]
    }
   ],
   "source": [
    "# d.items() - key와 value를 tuple로 묶어 반환\n",
    "d = dict(a = 1, b = 2, c = 3)\n",
    "for item in d.items(): # d.keys()는 iterable함을 의미, \n",
    "    print(item, end = ', ')"
   ]
  },
  {
   "cell_type": "code",
   "execution_count": 9,
   "metadata": {},
   "outputs": [
    {
     "name": "stdout",
     "output_type": "stream",
     "text": [
      "a, 1\n",
      "b, 2\n",
      "c, 3\n"
     ]
    }
   ],
   "source": [
    "d = dict(a = 1, b = 2, c = 3)\n",
    "for key, value in d.items(): # k와 v에 값을 저장하며 tuple unpacking\n",
    "    print(key, value, sep = ', ')"
   ]
  },
  {
   "cell_type": "markdown",
   "metadata": {},
   "source": [
    "### [View가 바라보는 현재 상태의 Dict]"
   ]
  },
  {
   "cell_type": "code",
   "execution_count": 11,
   "metadata": {},
   "outputs": [
    {
     "name": "stdout",
     "output_type": "stream",
     "text": [
      "('a', 1), ('b', 2), ('c', 3), ('a', 4), ('b', 0), ('c', 3), "
     ]
    }
   ],
   "source": [
    "# View객체는 참조 대상을 바라보는 모니터일 뿐이다(값이 바뀌면 그대로 반영)\n",
    "d = dict(a = 1, b = 2, c = 3)\n",
    "vo = d.items() # view 객체를 얻음\n",
    "for kv in vo:\n",
    "    print(kv, end = ', ')\n",
    "\n",
    "d['a'] += 3 # dict 수정\n",
    "d['b'] -= 2 # dict 수정\n",
    "for kv in vo: # 수정사항이 view객체에 반영됨\n",
    "    print(kv, end = ', ')"
   ]
  },
  {
   "cell_type": "markdown",
   "metadata": {},
   "source": [
    "### [Dict Comprehension]"
   ]
  },
  {
   "cell_type": "code",
   "execution_count": 12,
   "metadata": {},
   "outputs": [
    {
     "name": "stdout",
     "output_type": "stream",
     "text": [
      "{'a': 1, 'b': 2, 'c': 3}\n",
      "{'a': 2, 'b': 4, 'c': 6}\n",
      "{'a': 4, 'b': 8, 'c': 12}\n"
     ]
    }
   ],
   "source": [
    "d1 = dict(a = 1, b = 2, c = 3)\n",
    "d2 = {k : v*2 for k, v in d1.items()} # d1의 값을 두 배 늘린 dict 생성\n",
    "d3 = {k : v*2 for k, v in d2.items()} # d2의 값을 두 배 늘린 dict 생성\n",
    "print(d1)\n",
    "print(d2)\n",
    "print(d3)"
   ]
  },
  {
   "cell_type": "code",
   "execution_count": 13,
   "metadata": {},
   "outputs": [
    {
     "data": {
      "text/plain": [
       "{'a': 1, 'c': 3}"
      ]
     },
     "execution_count": 13,
     "metadata": {},
     "output_type": "execute_result"
    }
   ],
   "source": [
    "# if절 추가\n",
    "d1 = dict(a = 1, b = 2, c = 3, d = 4)\n",
    "d2 = {k : v for k, v in d1.items() if v % 2} # d1에서 값이 홀수인 것만 모은 dict\n",
    "d2"
   ]
  },
  {
   "cell_type": "code",
   "execution_count": 15,
   "metadata": {},
   "outputs": [
    {
     "data": {
      "text/plain": [
       "{'a': 1, 'c': 3}"
      ]
     },
     "execution_count": 15,
     "metadata": {},
     "output_type": "execute_result"
    }
   ],
   "source": [
    "# Dict Comprehension(if절) + Zip()\n",
    "ks = ['a', 'b', 'c', 'd'] # keys\n",
    "vs = [1, 2, 3, 4] # items\n",
    "d = {k : v for k, v in zip(ks, vs) if v % 2} # odds(values) only\n",
    "d"
   ]
  }
 ],
 "metadata": {
  "kernelspec": {
   "display_name": "Python 3",
   "language": "python",
   "name": "python3"
  },
  "language_info": {
   "codemirror_mode": {
    "name": "ipython",
    "version": 3
   },
   "file_extension": ".py",
   "mimetype": "text/x-python",
   "name": "python",
   "nbconvert_exporter": "python",
   "pygments_lexer": "ipython3",
   "version": "3.7.4"
  }
 },
 "nbformat": 4,
 "nbformat_minor": 4
}

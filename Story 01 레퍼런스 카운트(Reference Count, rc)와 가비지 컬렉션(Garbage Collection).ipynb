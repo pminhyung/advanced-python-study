{
 "cells": [
  {
   "cell_type": "markdown",
   "metadata": {},
   "source": [
    "# Story 01 레퍼런스 카운트(Reference Count, rc)와 가비지 컬렉션(Garbage Collection)\n",
    "\n",
    "메모리소모방법  \n",
    "(1) 규칙에 따라 자동으로 소멸 (거의 대부분, 파이썬 해당)  \n",
    "(2) 프로그래머의 명령에 따라 소멸\n",
    "\n",
    "그럼 언제 자동으로 소멸?  \n",
    "=> 레퍼런스 카운트(할당했던 메모리가 언제 해제되어서 쓸 수 있는 상태로 환원이 되는지에 관련)"
   ]
  },
  {
   "cell_type": "code",
   "execution_count": 1,
   "metadata": {},
   "outputs": [
    {
     "data": {
      "text/plain": [
       "'Garbage Collection'"
      ]
     },
     "execution_count": 1,
     "metadata": {},
     "output_type": "execute_result"
    }
   ],
   "source": [
    "# 실제 작동원리:\n",
    "# 'Garbage Collection'라는 str을 메모리에 할당하고 's'(객체명)을 부여하는 방식\n",
    "s='Garbage Collection'\n",
    "s"
   ]
  },
  {
   "cell_type": "markdown",
   "metadata": {},
   "source": [
    "객체 정의에 대한 보편적 이해(그릇) - 코드 분석, 해석에 용이  \n",
    "객체 정의에 작동원리(메모리 관점)\n",
    "\n",
    "모두 알고 있어야함"
   ]
  },
  {
   "cell_type": "code",
   "execution_count": null,
   "metadata": {},
   "outputs": [],
   "source": [
    "# '레퍼런스' = '참조' : 표현 알아두기\n",
    "r=[1,2,3] # 리스트 객체를 변수 'r'이 참조(레퍼런스)한다"
   ]
  },
  {
   "cell_type": "markdown",
   "metadata": {},
   "source": [
    "그럼 언제 소멸?  \n",
    "-> 레퍼런스카운트rc) (이 객체가 참조하는 값을 얼마만큼 참조하고 있는가)  \n",
    "  \n",
    "파이썬의 모든 객체는 레퍼런스 카운트를 가진다  \n",
    "  \n",
    "rc가 0이되면 메모리에서 해당 값이 소멸된다  "
   ]
  },
  {
   "cell_type": "code",
   "execution_count": null,
   "metadata": {},
   "outputs": [],
   "source": [
    "# rc가 0이되는 경우?\n",
    "r=[1,2,3] # rc=1\n",
    "\n",
    "r=10 # rc=0\n",
    "\n",
    "# [1,2,3]에서 10으로 'r'이라는 포스트잇이 이동한 상황, 따라서 이후로 [1,2,3] 불러올 수 없다 -> 소멸대상, 파이썬이 시간적인 여유있을 때 소멸작업함\n",
    "# 이것을 Garbage Collection이라고 한다"
   ]
  },
  {
   "cell_type": "code",
   "execution_count": null,
   "metadata": {},
   "outputs": [],
   "source": [
    "# Garbage Collection 또다른 예제\n",
    "\n",
    "r1=[1,2,3] # 리스트의 rc = 1\n",
    "r2=r1 # 리스트의 rc = 2: r2라는 포스트잇을 r1에 이어 리스트에 한장 더 붙인 상황\n",
    "r1='simple' # 리스트의 rc = 1: r1이라는 포스트잇을 'simple'로 옮긴 상황\n",
    "r2='happy' # 리스트의 rc = 0: r2라는 포스트잇 또한 'simple'로 옮긴 상황, 리스트에 포스트잇이 없음(rc=0)"
   ]
  },
  {
   "cell_type": "markdown",
   "metadata": {},
   "source": [
    "### **파이썬 인터프리터: 코드변환기, 가상머신, 각종라이브러리의 집합체**  \n",
    "파이썬 가상머신(PVM): 실제코드를 실행하는 주체, 객체생성 및 관리 등등 수행  \n",
    "  \n",
    "가상머신에 따라 CPython, Jypthon 등도 있다(나뉘는 기준이 바로 PVM이다)"
   ]
  },
  {
   "cell_type": "code",
   "execution_count": null,
   "metadata": {},
   "outputs": [],
   "source": []
  }
 ],
 "metadata": {
  "kernelspec": {
   "display_name": "Python 3",
   "language": "python",
   "name": "python3"
  },
  "language_info": {
   "codemirror_mode": {
    "name": "ipython",
    "version": 3
   },
   "file_extension": ".py",
   "mimetype": "text/x-python",
   "name": "python",
   "nbconvert_exporter": "python",
   "pygments_lexer": "ipython3",
   "version": "3.7.4"
  }
 },
 "nbformat": 4,
 "nbformat_minor": 4
}

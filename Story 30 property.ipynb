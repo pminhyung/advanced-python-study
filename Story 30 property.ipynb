{
 "cells": [
  {
   "cell_type": "markdown",
   "metadata": {},
   "source": [
    "## Story 30 property"
   ]
  },
  {
   "cell_type": "markdown",
   "metadata": {},
   "source": [
    "### [안전하게 접근하기]  \n",
    "객체의 변수에 직접접근은 오류 확률을 높이므로, 메소드를 통해 간접접근하는 것이 안전하다"
   ]
  },
  {
   "cell_type": "code",
   "execution_count": 1,
   "metadata": {},
   "outputs": [
    {
     "name": "stdout",
     "output_type": "stream",
     "text": [
      "1\n",
      "2\n"
     ]
    }
   ],
   "source": [
    "# getter()와 setter()\n",
    "class Natural:       # 자연수를 표현한 클래스\n",
    "    def __init__(self, n):\n",
    "        if(n < 1): \n",
    "            self.__n = 1 # __변수 : 기능적으로 직접접근 방지\n",
    "        else:\n",
    "            self.__n = n\n",
    "\n",
    "    def getn(self):   # 값을 꺼낼 때 쓰는 메소드 : getter()\n",
    "        return self.__n\n",
    "    \n",
    "    def setn(self, n): # 값을 수정할 때 쓰는 메소드 : setter()\n",
    "        if(n < 1):\n",
    "            self.__n = 1\n",
    "        else:\n",
    "            self.__n = n\n",
    "\n",
    "\n",
    "def main():\n",
    "    n = Natural(-3)\n",
    "    print(n.getn()) # 값을 꺼냄\n",
    "    \n",
    "    n.setn(2)\n",
    "    print(n.getn()) # 값을 수정\n",
    "\n",
    "main()"
   ]
  },
  {
   "cell_type": "code",
   "execution_count": null,
   "metadata": {},
   "outputs": [],
   "source": [
    "# property의 필요성\n",
    "class Natural:       # 자연수를 표현한 클래스\n",
    "    def __init__(self, n):\n",
    "        self.setn(n)       # 아래에 있는 setn 메소드 호출로 중복 제거\n",
    "\n",
    "    def getn(self):\n",
    "        return self.__n\n",
    "    \n",
    "    def setn(self, n):\n",
    "        if(n < 1):\n",
    "            self.__n = 1\n",
    "        else:\n",
    "            self.__n = n\n",
    "\n",
    "\n",
    "def main():\n",
    "    n1 = Natural(1)\n",
    "    n2 = Natural(2)\n",
    "    n3 = Natural(3)\n",
    "    \n",
    "    n1.setn(n2.getn() + n3.getn())     # n1.n = n2.n + n3.n보다 복잡해 보인다\n",
    "    print(n1.getn())\n",
    "    \n",
    "main()"
   ]
  },
  {
   "cell_type": "code",
   "execution_count": null,
   "metadata": {},
   "outputs": [],
   "source": [
    "# n1.n = n2.n + n3.n을 쓸 수 있는 방법 => property 이용\n",
    "class Natural:       # 자연수를 표현한 클래스\n",
    "    def __init__(self, n):\n",
    "        self.setn(n)       # 아래에 있는 setn 메소드 호출\n",
    "\n",
    "    def getn(self):\n",
    "        return self.__n\n",
    "    \n",
    "    def setn(self, n):\n",
    "        if(n < 1):\n",
    "            self.__n = 1\n",
    "        else:\n",
    "            self.__n = n\n",
    "\n",
    "    n = property(getn, setn) # property 설정, 객체 생성\n",
    "# property를 참조하는 n과 위쪽에 있는 변수 n은 다른 객체이다!\n",
    "\n",
    "def main():\n",
    "    n1 = Natural(1)\n",
    "    n2 = Natural(2)\n",
    "    n3 = Natural(3)\n",
    "    \n",
    "    n1.n = n2.n + n3.n     # n2와 n3의 덧셈 결과를 n1에 저장\n",
    "    print(n1.n)\n",
    "    \n",
    "main()"
   ]
  },
  {
   "cell_type": "markdown",
   "metadata": {},
   "source": [
    "n = property(getn, setn)  \n",
    "  \n",
    "n1.n = ~ 일 때는 '저장' 이므로 setn이 실행되어 반환값을 전달하고  \n",
    "~ = n1.n 일 때는 '참조' 이므로 getn이 실행되어 반환값을 전달한다  "
   ]
  },
  {
   "cell_type": "code",
   "execution_count": null,
   "metadata": {},
   "outputs": [],
   "source": [
    "def main():  \n",
    "    num = Natural(7)\n",
    "    num.n = 20  # num.setn(20) 실행\n",
    "    k = num.n   # k = num.getn() 실행\n",
    "    ...."
   ]
  },
  {
   "cell_type": "markdown",
   "metadata": {},
   "source": [
    "### [property]  \n",
    "n = property(getn, setn) : 변수 n에 property 객체를 생성하여 저장한다"
   ]
  },
  {
   "cell_type": "code",
   "execution_count": null,
   "metadata": {},
   "outputs": [],
   "source": [
    "# getn 및 setn 메소드 등록을 별도의 문장에서 진행할 수도 있다\n",
    "class Natural:      \n",
    "    def __init__(self, n):\n",
    "        self.setn(n)       # 아래에 있는 setn 메소드 호출\n",
    "\n",
    "    n = property()       # property 객체 생성\n",
    "    \n",
    "    def getn(self):\n",
    "        return self.__n\n",
    "    n = n.getter(getn)       # getn을 getter로 등록된 새로운 property 객체 생성\n",
    "    \n",
    "    def setn(self, n):\n",
    "        if(n < 1):\n",
    "            self.__n = 1\n",
    "        else:\n",
    "            self.__n = n    \n",
    "    n = n.setter(setn)       # setn을 setter로 등록\n",
    "\n",
    "\n",
    "def main():\n",
    "    n1 = Natural(1)\n",
    "    n2 = Natural(2)\n",
    "    n3 = Natural(3)\n",
    "    \n",
    "    n1.n = n2.n + n3.n     # n2와 n3의 덧셈 결과를 n1에 저장\n",
    "    print(n1.n)\n",
    "    \n",
    "main()\n",
    "\n",
    "# n에 n.getter(getn)을 새로 할당하는 이유 : getn을 getter로 등록된 새로운 property 객체 생성되므로 이를 다시 n이 참조하도록 함"
   ]
  },
  {
   "cell_type": "markdown",
   "metadata": {},
   "source": [
    "n = property(getn)  \n",
    "n = n.setter(setn)  \n",
    "와 같이 따로 지정도 가능하다"
   ]
  },
  {
   "cell_type": "code",
   "execution_count": null,
   "metadata": {},
   "outputs": [],
   "source": [
    "# getter, setter 별도 지정 및 함수 이름(변수) 재사용\n",
    "class Natural:       \n",
    "    def __init__(self, n):\n",
    "        self.n = n       # 프로퍼티 n을 통해 접근\n",
    "\n",
    "    n = property()       # property 객체 생성\n",
    "    \n",
    "    def pm(self):\n",
    "        return self.__n\n",
    "    n = n.getter(pm)       # 위의 pm을 게터로 등록, pm이란 이름 필요 X\n",
    "    \n",
    "    def pm(self, n):      # pm이란 이름 재사용 가능한 변수가 됨, 재사용\n",
    "        if(n < 1):\n",
    "            self.__n = 1\n",
    "        else:\n",
    "            self.__n = n    \n",
    "    n = n.setter(pm)       # 위의 pm을 세터로 등록\n",
    "\n",
    "\n",
    "def main():\n",
    "    n1 = Natural(1)\n",
    "    n2 = Natural(2)\n",
    "    n3 = Natural(3)\n",
    "    \n",
    "    n1.n = n2.n + n3.n     # n2와 n3의 덧셈 결과를 n1에 저장\n",
    "    print(n1.n)\n",
    "    \n",
    "main()\n",
    "\n",
    "# 실제로 변수 이름 재사용은 많이 사용됨"
   ]
  },
  {
   "cell_type": "markdown",
   "metadata": {},
   "source": [
    "### [decorator 기반 property 지정]"
   ]
  },
  {
   "cell_type": "code",
   "execution_count": null,
   "metadata": {},
   "outputs": [],
   "source": [
    "class Natural:       # 자연수를 표현한 클래스\n",
    "    def __init__(self, n):\n",
    "        self.n = n       # 프로퍼티 n을 통해 접근\n",
    "\n",
    "    @property        \n",
    "    def n(self):\n",
    "        return self.__n\n",
    "    # property 객체 만들어서 아래'n'함수를 getter()로 등록\n",
    "    # 이렇게 생성된 property 객체를 변수 n에 저장 : n = property(n)\n",
    "    \n",
    "    @n.setter    \n",
    "    def n(self, n):\n",
    "        if(n < 1):\n",
    "            self.__n = 1\n",
    "        else:\n",
    "            self.__n = n\n",
    "    # 아래 메소드 'n'을 저장된 property 객체의 setter로 등록하고 이를 다시 'n'에 저장\n",
    "\n",
    "\n",
    "def main():\n",
    "    n1 = Natural(1)\n",
    "    n2 = Natural(2)\n",
    "    n3 = Natural(3)\n",
    "    \n",
    "    n1.n = n2.n + n3.n\n",
    "    print(n1.n)\n",
    "    \n",
    "main()"
   ]
  }
 ],
 "metadata": {
  "kernelspec": {
   "display_name": "Python 3",
   "language": "python",
   "name": "python3"
  },
  "language_info": {
   "codemirror_mode": {
    "name": "ipython",
    "version": 3
   },
   "file_extension": ".py",
   "mimetype": "text/x-python",
   "name": "python",
   "nbconvert_exporter": "python",
   "pygments_lexer": "ipython3",
   "version": "3.7.4"
  }
 },
 "nbformat": 4,
 "nbformat_minor": 4
}

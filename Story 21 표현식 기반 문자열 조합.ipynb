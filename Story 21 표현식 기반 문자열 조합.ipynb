{
 "cells": [
  {
   "cell_type": "markdown",
   "metadata": {},
   "source": [
    "## Story 21 표현식 기반 문자열 조합"
   ]
  },
  {
   "cell_type": "markdown",
   "metadata": {},
   "source": [
    "### [문자열조합이란?]: 편집해서 문자열을 만드는 것"
   ]
  },
  {
   "cell_type": "code",
   "execution_count": 1,
   "metadata": {},
   "outputs": [
    {
     "data": {
      "text/plain": [
       "'I am 7 years old'"
      ]
     },
     "execution_count": 1,
     "metadata": {},
     "output_type": "execute_result"
    }
   ],
   "source": [
    "s = \"I am \" + str(7) + ' years old'\n",
    "s"
   ]
  },
  {
   "cell_type": "code",
   "execution_count": null,
   "metadata": {},
   "outputs": [],
   "source": [
    "String formatting expressions # '__%d_%s_%f_'.format(int1, str1, float1)\n",
    "\n",
    "String formatting method calls # '__{}_{}__'.format(value1, value2)"
   ]
  },
  {
   "cell_type": "markdown",
   "metadata": {},
   "source": [
    "### [String formatting expressions] : 표현식 기반 문자열 조합"
   ]
  },
  {
   "cell_type": "code",
   "execution_count": 2,
   "metadata": {},
   "outputs": [
    {
     "data": {
      "text/plain": [
       "'My name is Yoon'"
      ]
     },
     "execution_count": 2,
     "metadata": {},
     "output_type": "execute_result"
    }
   ],
   "source": [
    "# % 왼쪽: 반복패턴, % 오른쪽 : 값 명시\n",
    "# %s: str, %d: int, %f: float : type 을 맞춰줘야.\n",
    "s = 'My name is %s' % 'Yoon'\n",
    "s"
   ]
  },
  {
   "cell_type": "code",
   "execution_count": 4,
   "metadata": {},
   "outputs": [
    {
     "data": {
      "text/plain": [
       "'My friend Jung is 22 years old and 178.500000cm tall.'"
      ]
     },
     "execution_count": 4,
     "metadata": {},
     "output_type": "execute_result"
    }
   ],
   "source": [
    "s = 'My friend %s is %d years old and %fcm tall.' % ('Jung', 22, 178.5)\n",
    "s"
   ]
  },
  {
   "cell_type": "code",
   "execution_count": 5,
   "metadata": {},
   "outputs": [
    {
     "name": "stdout",
     "output_type": "stream",
     "text": [
      "My friend Jung is 22 years old\n",
      "My friend Hong is 23 years old\n",
      "My friend Park is 24 years old\n"
     ]
    }
   ],
   "source": [
    "friends = [('Jung', 22), ('Hong', 23), ('Park', 24)]\n",
    "for f in friends:\n",
    "    print('My friend %s is %d years old' % (f[0], f[1]))"
   ]
  },
  {
   "cell_type": "code",
   "execution_count": 6,
   "metadata": {},
   "outputs": [
    {
     "data": {
      "text/plain": [
       "'My friend Jung is 22 years old and 178.5cm tall.'"
      ]
     },
     "execution_count": 6,
     "metadata": {},
     "output_type": "execute_result"
    }
   ],
   "source": [
    "# 자동 형변환: str -> int, float (역은 성립X)\n",
    "s = 'My friend %s is %s years old and %scm tall.' % ('Jung', 22, 178.5)\n",
    "s # '22', '178.5' str로 형변환"
   ]
  },
  {
   "cell_type": "code",
   "execution_count": 7,
   "metadata": {},
   "outputs": [
    {
     "ename": "TypeError",
     "evalue": "%d format: a number is required, not str",
     "output_type": "error",
     "traceback": [
      "\u001b[1;31m---------------------------------------------------------------------------\u001b[0m",
      "\u001b[1;31mTypeError\u001b[0m                                 Traceback (most recent call last)",
      "\u001b[1;32m<ipython-input-7-dcdcbca253f9>\u001b[0m in \u001b[0;36m<module>\u001b[1;34m\u001b[0m\n\u001b[1;32m----> 1\u001b[1;33m \u001b[0ms\u001b[0m \u001b[1;33m=\u001b[0m \u001b[1;34m'My friend %s is %d years old and %dcm tall.'\u001b[0m \u001b[1;33m%\u001b[0m \u001b[1;33m(\u001b[0m\u001b[1;34m'Jung'\u001b[0m\u001b[1;33m,\u001b[0m \u001b[1;34m'22'\u001b[0m\u001b[1;33m,\u001b[0m\u001b[1;34m'178.5'\u001b[0m\u001b[1;33m)\u001b[0m\u001b[1;33m\u001b[0m\u001b[1;33m\u001b[0m\u001b[0m\n\u001b[0m",
      "\u001b[1;31mTypeError\u001b[0m: %d format: a number is required, not str"
     ]
    }
   ],
   "source": [
    "s = 'My friend %s is %d years old and %dcm tall.' % ('Jung', '22', '178.5')\n",
    "# '22', '178.5' (str)은 int, float로 자동형변환 되지 않는다"
   ]
  },
  {
   "cell_type": "code",
   "execution_count": 8,
   "metadata": {},
   "outputs": [
    {
     "name": "stdout",
     "output_type": "stream",
     "text": [
      "25.000000\n",
      "3\n"
     ]
    }
   ],
   "source": [
    "# int, float 끼리는 자동 형변환O\n",
    "# float -> int의 경우 (3.1 -> 3) 데이터 손실 발생\n",
    "print('%f' % 25)\n",
    "print('%d' % 3.14)"
   ]
  },
  {
   "cell_type": "code",
   "execution_count": 9,
   "metadata": {},
   "outputs": [
    {
     "data": {
      "text/plain": [
       "'Yoon : 22'"
      ]
     },
     "execution_count": 9,
     "metadata": {},
     "output_type": "execute_result"
    }
   ],
   "source": [
    "# dict로 출력대상 지정: '__%(key1)s_%(key2)s__' % {key1 : value1, key2 : value2}\n",
    "# 지금까지는 tuple로 출력대상 지정: '__%s_%s__' % (value1, value2) \n",
    "s = '%(name)s : %(age)d' % {'name': 'Yoon', 'age' : 22}\n",
    "s"
   ]
  },
  {
   "cell_type": "code",
   "execution_count": 2,
   "metadata": {},
   "outputs": [
    {
     "data": {
      "text/plain": [
       "'yo, 2'"
      ]
     },
     "execution_count": 2,
     "metadata": {},
     "output_type": "execute_result"
    }
   ],
   "source": [
    "s = '%(name)s, %(age)d' % {'name':'yo', 'age':2}\n",
    "s"
   ]
  },
  {
   "cell_type": "markdown",
   "metadata": {},
   "source": [
    "### [문자열 조합 지정 detail] : % [flags] [width] [.precision] f"
   ]
  },
  {
   "cell_type": "code",
   "execution_count": 10,
   "metadata": {},
   "outputs": [
    {
     "name": "stdout",
     "output_type": "stream",
     "text": [
      "height : 3.140000입니다.\n",
      "height : 3.140입니다.\n"
     ]
    }
   ],
   "source": [
    "# .precision\n",
    "print('height : %f입니다.' % 3.14) # 기본 출력\n",
    "print('height : %.3f입니다.' % 3.14) # 소숫점 셋째짜리까지 출력"
   ]
  },
  {
   "cell_type": "code",
   "execution_count": 12,
   "metadata": {},
   "outputs": [
    {
     "name": "stdout",
     "output_type": "stream",
     "text": [
      "height :    3.14입니다.\n",
      "height :       3.14입니다.\n"
     ]
    }
   ],
   "source": [
    "# width + .precision\n",
    "print('height : %7.2f입니다.' % 3.14) # 7칸을 확보하고 소솟점 둘째자리까지 출력(7칸중에 텍스트 우측정렬)\n",
    "print('height : %10.2f입니다.' % 3.14) # 10칸을 확보하고 소솟점 둘째자리까지 출력(7칸중에 텍스트 우측정렬)"
   ]
  },
  {
   "cell_type": "code",
   "execution_count": 17,
   "metadata": {},
   "outputs": [
    {
     "name": "stdout",
     "output_type": "stream",
     "text": [
      "height :   +3.14입니다.\n",
      "height :   -3.14입니다.\n",
      "height : 3.14      입니다.\n",
      "height : 0000003.14입니다.\n"
     ]
    }
   ],
   "source": [
    "# flags: 0, +, -\n",
    "print('height : %+7.2f입니다.' % 3.14) # 부호출력(+, -)\n",
    "print('height : %+7.2f입니다.' % -3.14)\n",
    "\n",
    "print('height : %-10.2f입니다.' % 3.14) # 좌측정렬 실행\n",
    "\n",
    "print('height : %010.2f입니다.' % 3.14) # width 중 빈공간 0으로 채움"
   ]
  },
  {
   "cell_type": "code",
   "execution_count": 20,
   "metadata": {},
   "outputs": [
    {
     "name": "stdout",
     "output_type": "stream",
     "text": [
      "height : +3.140    입니다.\n"
     ]
    }
   ],
   "source": [
    "# 부호출력, 좌측정렬, 10칸확보, 소숫점 셋째자리까지 출력\n",
    "print('height : %+-10.3f입니다.' % 3.14)"
   ]
  },
  {
   "cell_type": "code",
   "execution_count": 22,
   "metadata": {},
   "outputs": [
    {
     "data": {
      "text/plain": [
       "'height : +3.140    '"
      ]
     },
     "execution_count": 22,
     "metadata": {},
     "output_type": "execute_result"
    }
   ],
   "source": [
    "# dict + detail\n",
    "s = '%(h)s : %(v)-+10.3f' % {'h': 'height', 'v' : 3.14}\n",
    "s"
   ]
  }
 ],
 "metadata": {
  "kernelspec": {
   "display_name": "Python 3",
   "language": "python",
   "name": "python3"
  },
  "language_info": {
   "codemirror_mode": {
    "name": "ipython",
    "version": 3
   },
   "file_extension": ".py",
   "mimetype": "text/x-python",
   "name": "python",
   "nbconvert_exporter": "python",
   "pygments_lexer": "ipython3",
   "version": "3.7.4"
  }
 },
 "nbformat": 4,
 "nbformat_minor": 4
}

{
 "cells": [
  {
   "cell_type": "markdown",
   "metadata": {},
   "source": [
    "# Story 34 _ _ name _ _ & _ _ main _ _"
   ]
  },
  {
   "cell_type": "markdown",
   "metadata": {},
   "source": [
    "### Python Script File에서는 실행시 자동으로 file 각각 _ _ name _ _ 라는 변수를 만든다"
   ]
  },
  {
   "cell_type": "markdown",
   "metadata": {},
   "source": [
    "### 상황에 따라 _ _ name _ _ 변수에 다른 값이 저장된다\n",
    "- 해당 script파일(.py)에서 실행될 때 : _ _ name _ _ = _ _ main _ _\n",
    "- 다른 script파일에서 실행될 때 : __name__ == '해당변수를 생성한 파일 이름'"
   ]
  },
  {
   "cell_type": "code",
   "execution_count": 2,
   "metadata": {},
   "outputs": [
    {
     "name": "stdout",
     "output_type": "stream",
     "text": [
      "file name: who_are_you.py\n",
      "__name__: __main__\n"
     ]
    }
   ],
   "source": [
    "# who_are_you.py\n",
    "def main():\n",
    "    print('file name: who_are_you.py')\n",
    "    print('__name__: {0}'.format(__name__))\n",
    "\n",
    "main()"
   ]
  },
  {
   "cell_type": "code",
   "execution_count": 3,
   "metadata": {},
   "outputs": [
    {
     "name": "stdout",
     "output_type": "stream",
     "text": [
      "file name: who_are_you.py\n",
      "__name__: who_are_you\n",
      "play importer\n",
      "__name__: __main__\n"
     ]
    }
   ],
   "source": [
    "# importer.py\n",
    "import who_are_you\n",
    "print('play importer')\n",
    "print('__name__: {0}'.format(__name__))\n",
    "\n",
    "# import한 Script file의 __name__ == 파일이름\n",
    "# 작업 Script file의 __name__ = __main__"
   ]
  },
  {
   "cell_type": "code",
   "execution_count": 4,
   "metadata": {},
   "outputs": [
    {
     "name": "stdout",
     "output_type": "stream",
     "text": [
      "7\n",
      "14\n"
     ]
    }
   ],
   "source": [
    "# adder.py\n",
    "def add(n1, n2):\n",
    "    return n1 + n2\n",
    "\n",
    "def main(): \n",
    "    print(add(3, 4))\n",
    "    print(add(5, 9))\n",
    "\n",
    "main()"
   ]
  },
  {
   "cell_type": "markdown",
   "metadata": {},
   "source": [
    "### _ _ name _ _ , _ _ main _ _ 활용\n",
    "\n",
    "- 다른 file에서 import 한 Script file(.py)을 일부만 실행하기를 원할 때,\n",
    "- 원치않는 부분을 if _ _ name _ _ == ' _ _ main _ _ ': 안에 넣어준다.\n",
    "- 따라서 if문 안에 부분은 해당 Script file실행시만 실행가능"
   ]
  },
  {
   "cell_type": "code",
   "execution_count": 5,
   "metadata": {},
   "outputs": [
    {
     "name": "stdout",
     "output_type": "stream",
     "text": [
      "7\n",
      "14\n"
     ]
    }
   ],
   "source": [
    "# adder2.py\n",
    "# Script 자신을 실행하므로 __name__ = __main__ 이 된다.\n",
    "def add(n1, n2):\n",
    "    return n1 + n2\n",
    "\n",
    "if __name__ == '__main__': # 원본에서는 __name__ == __main__ 이므로\n",
    "    def main():           # 다른 파일에서는 재사용 X\n",
    "        print(add(3, 4))\n",
    "        print(add(5, 9))\n",
    "\n",
    "    main()                # 다른 파일에서는 재사용 X"
   ]
  },
  {
   "cell_type": "markdown",
   "metadata": {},
   "source": [
    "### 아래 divider.py에서, import adder2 시, adder2안에 _ _ name _ _ =='adder2'"
   ]
  },
  {
   "cell_type": "code",
   "execution_count": 6,
   "metadata": {},
   "outputs": [
    {
     "name": "stdout",
     "output_type": "stream",
     "text": [
      "2.0\n",
      "3.0\n",
      "5\n"
     ]
    }
   ],
   "source": [
    "# divider.py\n",
    "import adder2 as ad\n",
    "\n",
    "def divide(n1, n2):\n",
    "    return n1 / n2\n",
    "\n",
    "def main():\n",
    "    print(divide(4, 2))\n",
    "    print(divide(9, 3))\n",
    "    print(ad.add(2, 3))\n",
    "\n",
    "main()"
   ]
  },
  {
   "cell_type": "code",
   "execution_count": null,
   "metadata": {},
   "outputs": [],
   "source": []
  }
 ],
 "metadata": {
  "kernelspec": {
   "display_name": "Python 3",
   "language": "python",
   "name": "python3"
  },
  "language_info": {
   "codemirror_mode": {
    "name": "ipython",
    "version": 3
   },
   "file_extension": ".py",
   "mimetype": "text/x-python",
   "name": "python",
   "nbconvert_exporter": "python",
   "pygments_lexer": "ipython3",
   "version": "3.7.4"
  }
 },
 "nbformat": 4,
 "nbformat_minor": 4
}

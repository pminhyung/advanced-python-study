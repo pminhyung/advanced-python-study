{
 "cells": [
  {
   "cell_type": "markdown",
   "metadata": {},
   "source": [
    "## Story 22 메소드 기반 문자열 조합"
   ]
  },
  {
   "cell_type": "markdown",
   "metadata": {},
   "source": [
    "### [기본 사용방법]"
   ]
  },
  {
   "cell_type": "markdown",
   "metadata": {},
   "source": [
    "String formatting method calls: '메소드 호출'을 통해 문자열 조합하기  \n",
    "    \n",
    "    '__{}_{}'.format(value1, value2)"
   ]
  },
  {
   "cell_type": "code",
   "execution_count": 1,
   "metadata": {},
   "outputs": [
    {
     "data": {
      "text/plain": [
       "'Robot...125...Box'"
      ]
     },
     "execution_count": 1,
     "metadata": {},
     "output_type": "execute_result"
    }
   ],
   "source": [
    "# '__{}_{}'.format(value1, value2)\n",
    "fs = '{0}...{1}...{2}'\n",
    "ms = fs.format('Robot', 125, 'Box')\n",
    "ms"
   ]
  },
  {
   "cell_type": "code",
   "execution_count": 2,
   "metadata": {},
   "outputs": [
    {
     "data": {
      "text/plain": [
       "'Box...Robot...125'"
      ]
     },
     "execution_count": 2,
     "metadata": {},
     "output_type": "execute_result"
    }
   ],
   "source": [
    "# 순서를 바꿀수도 있다\n",
    "fs = '{2}...{0}...{1}'\n",
    "ms = fs.format('Robot', 125, 'Box')\n",
    "ms"
   ]
  },
  {
   "cell_type": "code",
   "execution_count": null,
   "metadata": {},
   "outputs": [],
   "source": [
    "# 전달인자 순서대로 원한다면 {}에 '숫자생략' 가능\n",
    "fs = '{}...{}...{}'\n",
    "ms = fs.format('Robot', 125, 'Box')\n",
    "ms"
   ]
  },
  {
   "cell_type": "code",
   "execution_count": 3,
   "metadata": {},
   "outputs": [
    {
     "data": {
      "text/plain": [
       "'Robot...125...Box'"
      ]
     },
     "execution_count": 3,
     "metadata": {},
     "output_type": "execute_result"
    }
   ],
   "source": [
    "# 이름으로 대상 지정\n",
    "fs = '{toy}...{num}...{item}'\n",
    "ms = fs.format(toy = 'Robot', num = 125, item = 'Box')\n",
    "ms"
   ]
  },
  {
   "cell_type": "markdown",
   "metadata": {},
   "source": [
    "### [인덱싱 연산 추가: Indexing]"
   ]
  },
  {
   "cell_type": "code",
   "execution_count": 4,
   "metadata": {},
   "outputs": [
    {
     "data": {
      "text/plain": [
       "'Robot...125...Box'"
      ]
     },
     "execution_count": 4,
     "metadata": {},
     "output_type": "execute_result"
    }
   ],
   "source": [
    "# unpacking 사용\n",
    "my = ['Robot', 125, 'Box']\n",
    "'{0}...{1}...{2}'.format(*my) # 인자 전달 과정에서 list unpacking"
   ]
  },
  {
   "cell_type": "code",
   "execution_count": null,
   "metadata": {},
   "outputs": [],
   "source": [
    "# indexing(str, tuple) + unpacking 사용\n",
    "my = ['Box', (24, 31)]\n",
    "'{0[0]...{0[1]}..{1[0]...{1[1]}}'.format(*my) # {0}은 'Box'이고 {1}은 (24, 31)이다.\n",
    "\n",
    "# {0}은 'Box'이므로 {0[0]}은 'B', {0[1]}은 'o'\n",
    "# {1}은 (24, 31)이므로 {1[0]}은 24, {1[1]}은 31"
   ]
  },
  {
   "cell_type": "code",
   "execution_count": 5,
   "metadata": {},
   "outputs": [
    {
     "data": {
      "text/plain": [
       "'toy = Robot, price = 3500'"
      ]
     },
     "execution_count": 5,
     "metadata": {},
     "output_type": "execute_result"
    }
   ],
   "source": [
    "# dict - value 사용\n",
    "d = {'toy': 'Robot', 'price' : 3500}\n",
    "'toy = {0[toy]}, price = {0[price]}'.format(d) # d[key]를 통한 dict sindexing\n",
    "\n",
    "# {0}은 d이므로 {0[toy]}는 d[toy]의 결과인 'Robot'이다.\n",
    "# {0}은 d이므로 {0[price]}는 d[price]의 결과인 3500이다."
   ]
  },
  {
   "cell_type": "markdown",
   "metadata": {},
   "source": [
    "### [보다 세밀한 문자열 구성 지정]\n",
    "% [flags][width][.precision]f"
   ]
  },
  {
   "cell_type": "code",
   "execution_count": 18,
   "metadata": {},
   "outputs": [
    {
     "name": "stdout",
     "output_type": "stream",
     "text": [
      "height : 3.140000입니다.\n",
      "height : 3.140000입니다.\n",
      "height : 3입니다.\n"
     ]
    }
   ],
   "source": [
    "# .precision\n",
    "print('height : {0:f}입니다.'.format(3.14)) # 0 -> 0:f (실수라는 것을 알려줌 - 6자리 확보)\n",
    "print('height : {0:d}입니다.'.format(3)) # d는 값의 종류가 정수임을 명시"
   ]
  },
  {
   "cell_type": "code",
   "execution_count": 16,
   "metadata": {},
   "outputs": [
    {
     "name": "stdout",
     "output_type": "stream",
     "text": [
      "3.140000\n",
      "3.140000\n",
      "3.1400\n",
      "3.1400\n"
     ]
    }
   ],
   "source": [
    "# 표현식 기반 vs 메소드 기반 (실수 지정 출력)\n",
    "\n",
    "\n",
    "# 출력 자리수 지정(%.?f, :.?f) - 소수점 뒤 ?자리까지 출력\n",
    "print('%f' % 3.14) # 기본 출력\n",
    "print('{0:f}'.format(3.14))\n",
    "\n",
    "print('%.4f' % 3.14) # %뒤에 .4f, 소수점 뒤 넷째자리까지 출력\n",
    "print('{0:.4f}'.format(3.14)) # :뒤에 .4f, 소수점 뒤 넷째자리까지 출력\n",
    "\n",
    "# ?칸 출력확보 (%?.4f, 0:?.4f)\n",
    "print('%9.4f' % 3.14) # %와 .4f 사이에 9 - 9칸 출력 확보\n",
    "print('{0:9.4f}'.format(3.14)) # :과 .4f 사이에 9 - 9칸 출력 확보"
   ]
  },
  {
   "cell_type": "code",
   "execution_count": 20,
   "metadata": {},
   "outputs": [
    {
     "name": "stdout",
     "output_type": "stream",
     "text": [
      "3.1400    \n",
      "    3.1400\n",
      "  3.1400  \n"
     ]
    }
   ],
   "source": [
    "# 정렬(<, >, ^)\n",
    "print('{0:<10.4f}'.format(3.14)) # <은 왼쪽정렬\n",
    "print('{0:>10.4f}'.format(3.14)) # >은 오른쪽 정렬\n",
    "print('{0:^10.4f}'.format(3.14)) # ^은 가운데정렬"
   ]
  },
  {
   "cell_type": "code",
   "execution_count": null,
   "metadata": {},
   "outputs": [],
   "source": [
    "# 부호 출력\n",
    "'%+d, %+d' % (5, -5) # 부호 출력의 의미로 % 뒤에 + 넣어줌\n",
    "'{0:+d}, {1:+d}'.format(5, -5) # 부호 출력의 의미로 : 뒤에 + 넣어줌\n",
    "\n",
    "# 위의 문장에서 d는 생력 가능, 즉 '{0:+}. {1:+}.format(5, -5)'과 같음\n",
    "# 순서대로 출력 -> 0,1 생략 가능: '{:+d}, {:+d}'.format(5, -5) 도 가능"
   ]
  },
  {
   "cell_type": "code",
   "execution_count": 22,
   "metadata": {},
   "outputs": [
    {
     "name": "stdout",
     "output_type": "stream",
     "text": [
      "**3.1400**\n",
      "7+++++++++\n",
      "^^^^hi^^^^\n"
     ]
    }
   ],
   "source": [
    "# 빈공간 채우기\n",
    "print('{0:*^10.4f}'.format(3.14)) # :과 ^ 사이에 등장한 '*'로 빈공간 채움\n",
    "print('{0:+<10}'.format(7)) # :과 > 사이에 등장한 '+'로 빈공간 채움\n",
    "print('{0:^^10}'.format('hi')) # :과 ^ 사이에 등장한 '^'로 빈공간 채움\n",
    "\n",
    "# '{0:*^10.4f}'.format(3.14) - 소수점뒤 4째자리까지 출력, 총 10칸 확보, 값 가운데정렬, 빈칸 '*'로 채움"
   ]
  },
  {
   "cell_type": "code",
   "execution_count": null,
   "metadata": {},
   "outputs": [],
   "source": []
  }
 ],
 "metadata": {
  "kernelspec": {
   "display_name": "Python 3",
   "language": "python",
   "name": "python3"
  },
  "language_info": {
   "codemirror_mode": {
    "name": "ipython",
    "version": 3
   },
   "file_extension": ".py",
   "mimetype": "text/x-python",
   "name": "python",
   "nbconvert_exporter": "python",
   "pygments_lexer": "ipython3",
   "version": "3.7.4"
  }
 },
 "nbformat": 4,
 "nbformat_minor": 4
}

{
 "cells": [
  {
   "cell_type": "markdown",
   "metadata": {},
   "source": [
    "# Story 03 깊은 복사와 얕은 복사 "
   ]
  },
  {
   "cell_type": "markdown",
   "metadata": {},
   "source": [
    "### [두 객체의 비교와 복사]"
   ]
  },
  {
   "cell_type": "code",
   "execution_count": null,
   "metadata": {},
   "outputs": [],
   "source": [
    "v1==v2 # 변수 v1과 v2가 참조하는 객체의 내용이 같은가? (내용비교)\n",
    "v1 is v2 # 변수 v1과 v2가 참조하는 객체는 동일 객체인가? (동등비교)"
   ]
  },
  {
   "cell_type": "code",
   "execution_count": 2,
   "metadata": {},
   "outputs": [
    {
     "name": "stdout",
     "output_type": "stream",
     "text": [
      "False\n",
      "True\n"
     ]
    }
   ],
   "source": [
    "r1=[1,2,3]\n",
    "r2=[1,2,3]\n",
    "\n",
    "print(r1 is r2)\n",
    "print(r1==r2)"
   ]
  },
  {
   "cell_type": "code",
   "execution_count": 3,
   "metadata": {},
   "outputs": [
    {
     "data": {
      "text/plain": [
       "True"
      ]
     },
     "execution_count": 3,
     "metadata": {},
     "output_type": "execute_result"
    }
   ],
   "source": [
    "r1=[1,2,3] # rc=1\n",
    "r2=r1 # r1이 참조하는 리스트를 r2도 참조한다 (rc=2)\n",
    "r1 is r2"
   ]
  },
  {
   "cell_type": "markdown",
   "metadata": {},
   "source": [
    "예제)"
   ]
  },
  {
   "cell_type": "code",
   "execution_count": 4,
   "metadata": {},
   "outputs": [
    {
     "name": "stdout",
     "output_type": "stream",
     "text": [
      "False\n",
      "True\n",
      "True\n",
      "True\n"
     ]
    }
   ],
   "source": [
    "r1=['John',('man','USA'),[175,23]]\n",
    "# John은 미국 남자로 175 cm로 23세\n",
    "# str, tuple, list 값을 가진 객체 세개를 r1이 각각 참조하여 저장하고 있는 것(세개의 값의 rc가 각각 1이다)\n",
    "# 복사가 되었을 때 세개의 값의 객체를 또다른 리스트가 참조하게 되어 각 값의 rc가 2가 된다 - 얕은 복사\n",
    "\n",
    "r2=list(r1) # r1의 내용으로 새로운 리스트 만듦\n",
    "\n",
    "print(r1 is r2)\n",
    "print(r1[0] is r2[0]) # r1과 r2의 'John'은 동일 객체인가?\n",
    "print(r1[1] is r2[1]) # r1과 r2의 ('man','USA')은 동일 객체인가?\n",
    "print(r1[2] is r2[2]) # r1과 r2의 [175, 23]은 동일 객체인가?"
   ]
  },
  {
   "cell_type": "markdown",
   "metadata": {},
   "source": [
    "**시간표 예시:**   \n",
    "불변인 값들은 내용을 복사하는 대신 ***참조만 복사***하게 하면 된다   - '얕은복사'  (메모리, 성능, 속도 효율적)\n",
    "그러나 가변인 값들은 독립적으로 내용을 가지게 해야한다(각각 내용의 수정삭제가 이루어질 수 있기 때문에): 내용을 새로복사를 해서 새로이 참조하도록 - '깊은복사'"
   ]
  },
  {
   "cell_type": "markdown",
   "metadata": {},
   "source": [
    "### [깊은복사]"
   ]
  },
  {
   "cell_type": "code",
   "execution_count": 6,
   "metadata": {},
   "outputs": [
    {
     "data": {
      "text/plain": [
       "['John', ('man', 'USA'), [175, 24]]"
      ]
     },
     "execution_count": 6,
     "metadata": {},
     "output_type": "execute_result"
    }
   ],
   "source": [
    "J2021=['John',('man','USA'),[175,23]] # 2021년도 John의 정보\n",
    "J2022=list(J2021) # 필요에 의해 John의 정보를 하나 복사했다.\n",
    "J2022[2][1]+=1 # 2022년 John의 정보, 나이 한살 더 먹음\n",
    "J2021 # 2021년도 John의 정보 출력"
   ]
  },
  {
   "cell_type": "code",
   "execution_count": 11,
   "metadata": {},
   "outputs": [
    {
     "name": "stdout",
     "output_type": "stream",
     "text": [
      "['John', ('man', 'USA'), [175, 23]]\n",
      "['John', ('man', 'USA'), [175, 24]]\n"
     ]
    }
   ],
   "source": [
    "import copy\n",
    "\n",
    "J2021=['John',('man','USA'),[175,23]] \n",
    "J2022=copy.deepcopy(J2021) # 앞의 두개원소(불변)은 얕은복사, 리스트(가변원소)는 깊은복사를 자동으로 해준다: copy모듈의 deepcopy\n",
    "J2022[2][1]+=1 \n",
    "print(J2021)\n",
    "print(J2022) # 마지막 리스트만 깊은복사 된 것을 알 수 있다"
   ]
  },
  {
   "cell_type": "markdown",
   "metadata": {},
   "source": [
    "### [얕은복사]"
   ]
  },
  {
   "cell_type": "code",
   "execution_count": 12,
   "metadata": {},
   "outputs": [
    {
     "data": {
      "text/plain": [
       "True"
      ]
     },
     "execution_count": 12,
     "metadata": {},
     "output_type": "execute_result"
    }
   ],
   "source": [
    "(J2021[0] is J2022[0]) and (J2021[1] is J2022[1])\n",
    "# is: 서로 참조하는 대상이 같은 객체인가? Yes -> 얕은복사를 의미"
   ]
  },
  {
   "cell_type": "code",
   "execution_count": 13,
   "metadata": {},
   "outputs": [
    {
     "data": {
      "text/plain": [
       "False"
      ]
     },
     "execution_count": 13,
     "metadata": {},
     "output_type": "execute_result"
    }
   ],
   "source": [
    "J2021[2] is J2022[2]"
   ]
  },
  {
   "cell_type": "code",
   "execution_count": 9,
   "metadata": {},
   "outputs": [
    {
     "name": "stdout",
     "output_type": "stream",
     "text": [
      "True\n",
      "True\n"
     ]
    }
   ],
   "source": [
    "d1=(1,2,3)\n",
    "d2='Please'\n",
    "\n",
    "c1=tuple(d1)\n",
    "c2=str(d2)\n",
    "\n",
    "print(d1 is c1) # d1, c1이 참조하는 대상이 같은 객체인가? Yes -> 얕은복사됨을 의미\n",
    "print(d2 is c2) # d2, c2이 참조하는 대상이 같은 객체인가? Yes -> 얕은복사됨을 의미"
   ]
  },
  {
   "cell_type": "code",
   "execution_count": null,
   "metadata": {},
   "outputs": [],
   "source": []
  }
 ],
 "metadata": {
  "kernelspec": {
   "display_name": "Python 3",
   "language": "python",
   "name": "python3"
  },
  "language_info": {
   "codemirror_mode": {
    "name": "ipython",
    "version": 3
   },
   "file_extension": ".py",
   "mimetype": "text/x-python",
   "name": "python",
   "nbconvert_exporter": "python",
   "pygments_lexer": "ipython3",
   "version": "3.7.4"
  }
 },
 "nbformat": 4,
 "nbformat_minor": 4
}

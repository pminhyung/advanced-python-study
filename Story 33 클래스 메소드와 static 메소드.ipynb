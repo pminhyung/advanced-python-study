{
 "cells": [
  {
   "cell_type": "markdown",
   "metadata": {},
   "source": [
    "# Story 33 클래스 메소드와 static 메소드"
   ]
  },
  {
   "cell_type": "markdown",
   "metadata": {},
   "source": [
    "## [class 메소드]"
   ]
  },
  {
   "cell_type": "code",
   "execution_count": 6,
   "metadata": {},
   "outputs": [
    {
     "data": {
      "text/plain": [
       "10"
      ]
     },
     "execution_count": 6,
     "metadata": {},
     "output_type": "execute_result"
    }
   ],
   "source": [
    "class Simple:\n",
    "    def __init__(self):\n",
    "        self.iv = 10 # iv는 인스턴스 변수 : 객체별로 존재하는 변수\n",
    "s = Simple()\n",
    "s.iv"
   ]
  },
  {
   "cell_type": "code",
   "execution_count": 9,
   "metadata": {},
   "outputs": [
    {
     "name": "stdout",
     "output_type": "stream",
     "text": [
      "20\n",
      "20 10\n"
     ]
    }
   ],
   "source": [
    "# 파이썬에서 클래스도 객체이므로 변수를 가질수 있다\n",
    "class Simple:\n",
    "    cv = 20 # 클래스 내에 정의한 '클래스 변수' \n",
    "    def __init__(self):\n",
    "        self.iv = 10\n",
    "\n",
    "print(Simple.cv) # 클래스 변수는 클래스 이름으로 접근 가능\n",
    "\n",
    "s = Simple()\n",
    "print(s.cv, s.iv) # 클래스변수는 객체를 통해서도 접근가능(해당 class 기반이므로)"
   ]
  },
  {
   "cell_type": "markdown",
   "metadata": {},
   "source": [
    "### 클래스 변수 활용 - 객체의 개수를 count"
   ]
  },
  {
   "cell_type": "code",
   "execution_count": 11,
   "metadata": {},
   "outputs": [
    {
     "name": "stdout",
     "output_type": "stream",
     "text": [
      "1\n",
      "s1.get_count():  2\n",
      "s2.get_count():  2\n",
      "s1.get_count():  3\n",
      "s3.get_count():  3\n"
     ]
    }
   ],
   "source": [
    "# count_instance.py\n",
    "class Simple:\n",
    "    count = 0             # Simple의 클래스변수 - 생성된 객체 수를 저장\n",
    "    def __init__(self):\n",
    "        Simple.count += 1  # 객체생성시 count+1\n",
    "    def get_count(self):\n",
    "        return Simple.count # 객체개수 반환\n",
    "\n",
    "\n",
    "def main():\n",
    "    s1 = Simple() # class변수인 count값이 1이 됨\n",
    "    print(s1.get_count())\n",
    "    s2 = Simple()\n",
    "    print('s1.get_count(): ', s1.get_count()) # Simple.count == 2\n",
    "    print('s2.get_count(): ', s2.get_count())\n",
    "    s3 = Simple()\n",
    "    print('s1.get_count(): ', s1.get_count()) # Simple.count == 3\n",
    "    print('s3.get_count(): ', s2.get_count())\n",
    "\n",
    "main()\n",
    "# class변수 접근시 객체(같은 class 기반)가 달라도 상관없다."
   ]
  },
  {
   "cell_type": "markdown",
   "metadata": {},
   "source": [
    "## [static 메소드]\n",
    "- 필요성: 객체를 통해서만 메소드를 호출 가능한 문제점 해결\n",
    "- 위에서 get_count가 인스턴스 메소드이므로 이를 개선."
   ]
  },
  {
   "cell_type": "code",
   "execution_count": 12,
   "metadata": {},
   "outputs": [
    {
     "name": "stdout",
     "output_type": "stream",
     "text": [
      "static method!\n",
      "static method!\n"
     ]
    }
   ],
   "source": [
    "# static_method.py\n",
    "# self인자: 속한 객체를 반환\n",
    "\n",
    "class Simple:\n",
    "    # @staticmethod\n",
    "    def sm(): # self가 없다: 인스턴스 메소드가 아니므로\n",
    "        print('static method!')\n",
    "\n",
    "    sm = staticmethod(sm)\n",
    "\n",
    "\n",
    "def main():\n",
    "    Simple.sm() # 클래스로 호출 - static method\n",
    "    s = Simple()\n",
    "    s.sm() # 객체로 호출 권한 존재\n",
    "\n",
    "main()"
   ]
  },
  {
   "cell_type": "code",
   "execution_count": null,
   "metadata": {},
   "outputs": [],
   "source": [
    "# decorator 이용 -> static method 정의\n",
    "class Simple:\n",
    "    @staticmethod\n",
    "    def sm(): \n",
    "        print('static method!')"
   ]
  },
  {
   "cell_type": "code",
   "execution_count": 18,
   "metadata": {},
   "outputs": [
    {
     "name": "stdout",
     "output_type": "stream",
     "text": [
      "0\n",
      "1\n"
     ]
    }
   ],
   "source": [
    "class Simple:\n",
    "    count = 0             \n",
    "    def __init__(self):\n",
    "        Simple.count += 1  \n",
    "    \n",
    "    @staticmethod\n",
    "    def get_count():\n",
    "        return Simple.count\n",
    "    \n",
    "def main():\n",
    "    print(Simple.get_count()) # 클래스로 호출 - static method\n",
    "    s = Simple()\n",
    "    print(Simple.get_count())\n",
    "    \n",
    "main()"
   ]
  },
  {
   "cell_type": "markdown",
   "metadata": {},
   "source": [
    "## [class 메소드]"
   ]
  },
  {
   "cell_type": "code",
   "execution_count": 19,
   "metadata": {},
   "outputs": [
    {
     "name": "stdout",
     "output_type": "stream",
     "text": [
      "st~ 5 + 3 = 8\n",
      "cl~ 5 + 3 = 8\n",
      "st~ 5 + 4 = 9\n",
      "cl~ 5 + 4 = 9\n"
     ]
    }
   ],
   "source": [
    "# static method와 차이: 인자로 파이썬이 class이름을 자동전달\n",
    "# class_method.py\n",
    "\n",
    "class Simple:\n",
    "    num = 5\n",
    "    \n",
    "    @staticmethod\n",
    "    def sm(i):        \n",
    "        print('st~ 5 + {0} = {1}'.format(i, Simple.num + i))\n",
    "\n",
    "    @classmethod\n",
    "    def cm(cls, i): # cls와 같은 클래스이름 인자가 들어간다.\n",
    "        print('cl~ 5 + {0} = {1}'.format(i, Simple.num + i))\n",
    "        \n",
    "def main():\n",
    "    Simple.sm(3) # class로 static, class method 호출\n",
    "    Simple.cm(3)\n",
    "    \n",
    "    s = Simple() # 객체로 static, class method 호출\n",
    "    s.sm(4)\n",
    "    s.cm(4)\n",
    "\n",
    "main()"
   ]
  },
  {
   "cell_type": "code",
   "execution_count": 20,
   "metadata": {},
   "outputs": [
    {
     "name": "stdout",
     "output_type": "stream",
     "text": [
      "0\n",
      "1\n"
     ]
    }
   ],
   "source": [
    "# class_method2.py\n",
    "\n",
    "class Simple:\n",
    "    count = 0\n",
    "\n",
    "    def __init__(self):\n",
    "        Simple.count += 1\n",
    "\n",
    "    @classmethod\n",
    "    def get_count(cls): # cls <- Simple(class명)이 들어감\n",
    "        return cls.count\n",
    "        \n",
    "def main():\n",
    "    print(Simple.get_count())\n",
    "    s = Simple()\n",
    "    print(Simple.get_count())\n",
    "    \n",
    "\n",
    "main()"
   ]
  },
  {
   "cell_type": "code",
   "execution_count": null,
   "metadata": {},
   "outputs": [],
   "source": [
    "# class_method3.py\n",
    "\n",
    "class Natural:\n",
    "    def __init__(self, n):\n",
    "        self.n = n\n",
    "\n",
    "    def getn(self):\n",
    "        return self.n\n",
    "    \n",
    "\n",
    "    @classmethod\n",
    "    def add(cls, n1, n2): # cls <- Natural\n",
    "        return cls(n1.getn() + n2.getn()) # cls <- Natural\n",
    "        \n",
    "def main():\n",
    "    n1 = Natural(1)\n",
    "    n2 = Natural(2)\n",
    "    n3 = Natural.add(n1, n2)\n",
    "    print('{0} + {1} = {2}'.format(n1.getn(), n2.getn(), n3.getn()))\n",
    "\n",
    "main()"
   ]
  },
  {
   "cell_type": "markdown",
   "metadata": {},
   "source": [
    "여기까지는 cls 대신 Class명을 넣어도 되는 사례이므로 필요성을 체감하기 어려울 수 있다. \n",
    "  \n",
    "아래를 보자"
   ]
  },
  {
   "cell_type": "markdown",
   "metadata": {},
   "source": [
    "## [static 메소드보다 class메소드가 더 필요한 경우]"
   ]
  },
  {
   "cell_type": "code",
   "execution_count": null,
   "metadata": {},
   "outputs": [],
   "source": [
    "# date.py\n",
    "\n",
    "class Date: # 날짜표현\n",
    "    def __init__(self, y, m, d):\n",
    "        self.y = y\n",
    "        self.m = m\n",
    "        self.d = d\n",
    "\n",
    "    def show(self):\n",
    "        print('{0}, {1}, {2}'.format(self.y, self.m, self.d))\n",
    "    \n",
    "\n",
    "    @classmethod\n",
    "    def next_day(cls, today): # today 다음날에 대해 객체 생성 및 반환\n",
    "        return cls(today.y, today.m, today.d + 1)\n",
    "        \n",
    "def main():\n",
    "    d1 = Date(2025, 4, 5)\n",
    "    d1.show()\n",
    "    d2 = Date.next_day(d1)\n",
    "    d2.show()\n",
    "\n",
    "main()"
   ]
  },
  {
   "cell_type": "markdown",
   "metadata": {},
   "source": [
    "### class메소드는 인자에 class정보를 받고, 이 정보는 호출 경로에 따라 유동적이다. *** (아주중요)  \n",
    "- 자식class의 객체가 부모 class의 classmethod를 사용할 때 필요\n",
    "- 객체의 기반 class에 따라 cls가 달라짐(호출경로에 따라 유동적)\n",
    "- class method를 본다면: '자식class기반 객체가 이 method를 쓰겠구나'"
   ]
  },
  {
   "cell_type": "markdown",
   "metadata": {},
   "source": [
    "### '하나의 메소드 정의를 통해 다양한 객체가 만들어져 반환되는 장점'(static method로 불가)"
   ]
  },
  {
   "cell_type": "code",
   "execution_count": 21,
   "metadata": {},
   "outputs": [
    {
     "name": "stdout",
     "output_type": "stream",
     "text": [
      "KOR: 2025, 4, 12\n",
      "KOR: 2025, 4, 13\n",
      "JPN: 2027, 5, 19\n",
      "JPN: 2027, 5, 20\n"
     ]
    }
   ],
   "source": [
    "# international_date.py\n",
    "\n",
    "class Date:\n",
    "    def __init__(self, y, m, d):\n",
    "        self.y = y\n",
    "        self.m = m\n",
    "        self.d = d\n",
    "\n",
    "    def show(self):\n",
    "        print('{0}, {1}, {2}'.format(self.y, self.m, self.d))\n",
    "    \n",
    "\n",
    "    @classmethod\n",
    "    def next_day(cls, today):\n",
    "        return cls(today.y, today.m, today.d + 1)\n",
    "\n",
    "class KDate(Date):\n",
    "    def show(self):\n",
    "        print('KOR: {0}, {1}, {2}'.format(self.y, self.m, self.d))\n",
    "\n",
    "class JDate(Date):\n",
    "    def show(self):\n",
    "        print('JPN: {0}, {1}, {2}'.format(self.y, self.m, self.d))\n",
    "\n",
    "\n",
    "def main():\n",
    "    kd1 = KDate(2025, 4, 12)\n",
    "    kd1.show()\n",
    "    kd2 = KDate.next_day(kd1) # Kdate class객체 생성\n",
    "    kd2.show()\n",
    "\n",
    "    jd1 = JDate(2027, 5, 19)\n",
    "    jd1.show()\n",
    "    jd2 = JDate.next_day(jd1) # Jdate class객체 생성\n",
    "    jd2.show()\n",
    "    \n",
    " \n",
    "main()"
   ]
  },
  {
   "cell_type": "code",
   "execution_count": null,
   "metadata": {},
   "outputs": [],
   "source": []
  }
 ],
 "metadata": {
  "kernelspec": {
   "display_name": "Python 3",
   "language": "python",
   "name": "python3"
  },
  "language_info": {
   "codemirror_mode": {
    "name": "ipython",
    "version": 3
   },
   "file_extension": ".py",
   "mimetype": "text/x-python",
   "name": "python",
   "nbconvert_exporter": "python",
   "pygments_lexer": "ipython3",
   "version": "3.7.4"
  }
 },
 "nbformat": 4,
 "nbformat_minor": 4
}

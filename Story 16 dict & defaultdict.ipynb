{
 "cells": [
  {
   "cell_type": "markdown",
   "metadata": {},
   "source": [
    "## Story 16 Dict & Defaultdict"
   ]
  },
  {
   "cell_type": "markdown",
   "metadata": {},
   "source": [
    "### [key O, key X]"
   ]
  },
  {
   "cell_type": "code",
   "execution_count": 1,
   "metadata": {},
   "outputs": [
    {
     "data": {
      "text/plain": [
       "{'red': 1, 'white': 2, 'blue': 4}"
      ]
     },
     "execution_count": 1,
     "metadata": {},
     "output_type": "execute_result"
    }
   ],
   "source": [
    "# key 존재할 때 - 대입연산 : 내용 수정\n",
    "d = {'red' : 3, 'white' : 2, 'blue' : 4}\n",
    "d['red'] = 1 # 키 'red'의 값을 1로 변경\n",
    "d"
   ]
  },
  {
   "cell_type": "code",
   "execution_count": 2,
   "metadata": {},
   "outputs": [
    {
     "data": {
      "text/plain": [
       "{'white': 2, 'blue': 4, 'red': 1}"
      ]
     },
     "execution_count": 2,
     "metadata": {},
     "output_type": "execute_result"
    }
   ],
   "source": [
    "# key 존재하지 않을 때 - 대입연산 : 내용 추가 \n",
    "d = {'white' : 2, 'blue' : 4}\n",
    "d['red'] = 1 # 'red' : 1 추가\n",
    "d"
   ]
  },
  {
   "cell_type": "code",
   "execution_count": 3,
   "metadata": {},
   "outputs": [
    {
     "data": {
      "text/plain": [
       "{'red': 4, 'white': 2, 'blue': 4}"
      ]
     },
     "execution_count": 3,
     "metadata": {},
     "output_type": "execute_result"
    }
   ],
   "source": [
    "# key 존재할 때 - 저장된 값 참조: 수정\n",
    "d = {'red' : 3, 'white' : 2, 'blue' : 4}\n",
    "d['red'] += 1 # 키 'red'의 값을 1로 변경\n",
    "d"
   ]
  },
  {
   "cell_type": "code",
   "execution_count": 4,
   "metadata": {},
   "outputs": [
    {
     "ename": "KeyError",
     "evalue": "'red'",
     "output_type": "error",
     "traceback": [
      "\u001b[1;31m---------------------------------------------------------------------------\u001b[0m",
      "\u001b[1;31mKeyError\u001b[0m                                  Traceback (most recent call last)",
      "\u001b[1;32m<ipython-input-4-655f14dfdb63>\u001b[0m in \u001b[0;36m<module>\u001b[1;34m\u001b[0m\n\u001b[0;32m      1\u001b[0m \u001b[1;31m# key 존재하지 않을 때 - 추가 실행\u001b[0m\u001b[1;33m\u001b[0m\u001b[1;33m\u001b[0m\u001b[1;33m\u001b[0m\u001b[0m\n\u001b[0;32m      2\u001b[0m \u001b[0md\u001b[0m \u001b[1;33m=\u001b[0m \u001b[1;33m{\u001b[0m\u001b[1;34m'white'\u001b[0m \u001b[1;33m:\u001b[0m \u001b[1;36m2\u001b[0m\u001b[1;33m,\u001b[0m \u001b[1;34m'blue'\u001b[0m \u001b[1;33m:\u001b[0m \u001b[1;36m4\u001b[0m\u001b[1;33m}\u001b[0m\u001b[1;33m\u001b[0m\u001b[1;33m\u001b[0m\u001b[0m\n\u001b[1;32m----> 3\u001b[1;33m \u001b[0md\u001b[0m\u001b[1;33m[\u001b[0m\u001b[1;34m'red'\u001b[0m\u001b[1;33m]\u001b[0m \u001b[1;33m+=\u001b[0m \u001b[1;36m1\u001b[0m \u001b[1;31m# 'red' : 1 추가\u001b[0m\u001b[1;33m\u001b[0m\u001b[1;33m\u001b[0m\u001b[0m\n\u001b[0m\u001b[0;32m      4\u001b[0m \u001b[0md\u001b[0m\u001b[1;33m\u001b[0m\u001b[1;33m\u001b[0m\u001b[0m\n",
      "\u001b[1;31mKeyError\u001b[0m: 'red'"
     ]
    }
   ],
   "source": [
    "# key 존재하지 않을 때 - 저장된 값 참조: 예외발생\n",
    "d = {'white' : 2, 'blue' : 4}\n",
    "d['red'] += 1 # 'red' : 1 추가\n",
    "d"
   ]
  },
  {
   "cell_type": "code",
   "execution_count": 6,
   "metadata": {},
   "outputs": [
    {
     "data": {
      "text/plain": [
       "{'r': 1, 'a': 1, 'b': 2, 'i': 1, 't': 1}"
      ]
     },
     "execution_count": 6,
     "metadata": {},
     "output_type": "execute_result"
    }
   ],
   "source": [
    "# 예외 발생하지 않고 dict 값추가, 수정 연산을 하는 방법 (1) - if, else\n",
    "s = 'rabbit'\n",
    "d = {}\n",
    "for k in s:\n",
    "    if k in d: # key가 존재하면,\n",
    "        d[k] += 1 \n",
    "    else: # key 존재하지 않으면,\n",
    "        d[k] = 1 # 해당 key 값을 1로 해서 새로 추가\n",
    "d"
   ]
  },
  {
   "cell_type": "markdown",
   "metadata": {},
   "source": [
    "### [setdefault] method"
   ]
  },
  {
   "cell_type": "code",
   "execution_count": 7,
   "metadata": {},
   "outputs": [
    {
     "data": {
      "text/plain": [
       "{'r': 1, 'a': 1, 'b': 2, 'i': 1, 't': 1}"
      ]
     },
     "execution_count": 7,
     "metadata": {},
     "output_type": "execute_result"
    }
   ],
   "source": [
    "# 예외 발생하지 않고 dict 값추가, 수정 연산을 하는 방법 (2) - setdefault\n",
    "s = 'rabbit'\n",
    "d = {}\n",
    "for k in s:\n",
    "    d[k] = d.setdefault(k,0) + 1 # key k의 값 존재할 때 해당값 반환, 그렇지않으면 0을 반환\n",
    "d"
   ]
  },
  {
   "cell_type": "markdown",
   "metadata": {},
   "source": [
    "### [defaultdict]"
   ]
  },
  {
   "cell_type": "code",
   "execution_count": 8,
   "metadata": {},
   "outputs": [
    {
     "data": {
      "text/plain": [
       "defaultdict(int, {'r': 1, 'a': 1, 'b': 2, 'i': 1, 't': 1})"
      ]
     },
     "execution_count": 8,
     "metadata": {},
     "output_type": "execute_result"
    }
   ],
   "source": [
    "# 예외 발생하지 않고 dict 값추가, 수정 연산을 하는 방법 (3) - defaultdict\n",
    "# key 존재하지 않을 때 해당 key를 추가, 등록한 함수의 default값을 value로 저장\n",
    "from collections import defaultdict\n",
    "s = 'rabbit'\n",
    "d = defaultdict(int) # int함수의 default 값은 0을 반환\n",
    "for k in s:\n",
    "    d[k] += 1\n",
    "d"
   ]
  },
  {
   "cell_type": "code",
   "execution_count": 9,
   "metadata": {},
   "outputs": [
    {
     "name": "stdout",
     "output_type": "stream",
     "text": [
      "1, 2\n"
     ]
    }
   ],
   "source": [
    "print(d['r'], d['b'], sep = ', ') # 참조방법 일반 dict와 동일"
   ]
  },
  {
   "cell_type": "code",
   "execution_count": 10,
   "metadata": {},
   "outputs": [
    {
     "data": {
      "text/plain": [
       "36"
      ]
     },
     "execution_count": 10,
     "metadata": {},
     "output_type": "execute_result"
    }
   ],
   "source": [
    "# int함수\n",
    "int('36')"
   ]
  },
  {
   "cell_type": "code",
   "execution_count": 12,
   "metadata": {},
   "outputs": [
    {
     "data": {
      "text/plain": [
       "defaultdict(<function __main__.ret_zero()>, {'a': 0})"
      ]
     },
     "execution_count": 12,
     "metadata": {},
     "output_type": "execute_result"
    }
   ],
   "source": [
    "# 임의의 함수 + defaultdict\n",
    "from collections import defaultdict\n",
    "\n",
    "def ret_zero(): \n",
    "    return 0\n",
    "\n",
    "d = defaultdict(ret_zero) # default 함수 : ret_zero\n",
    "\n",
    "d['a'] # 키 'a'와 value 0(ret_zero default값 - 0) 이 저장됨\n",
    "d"
   ]
  },
  {
   "cell_type": "code",
   "execution_count": 13,
   "metadata": {},
   "outputs": [
    {
     "data": {
      "text/plain": [
       "defaultdict(<function __main__.<lambda>()>, {'z': 7})"
      ]
     },
     "execution_count": 13,
     "metadata": {},
     "output_type": "execute_result"
    }
   ],
   "source": [
    "# 임의의 함수(lambda) + defaultdict\n",
    "d = defaultdict(lambda : 7)\n",
    "d['z']\n",
    "d"
   ]
  },
  {
   "cell_type": "code",
   "execution_count": null,
   "metadata": {},
   "outputs": [],
   "source": []
  }
 ],
 "metadata": {
  "kernelspec": {
   "display_name": "Python 3",
   "language": "python",
   "name": "python3"
  },
  "language_info": {
   "codemirror_mode": {
    "name": "ipython",
    "version": 3
   },
   "file_extension": ".py",
   "mimetype": "text/x-python",
   "name": "python",
   "nbconvert_exporter": "python",
   "pygments_lexer": "ipython3",
   "version": "3.7.4"
  }
 },
 "nbformat": 4,
 "nbformat_minor": 4
}

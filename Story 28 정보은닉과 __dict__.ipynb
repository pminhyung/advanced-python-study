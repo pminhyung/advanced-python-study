{
 "cells": [
  {
   "cell_type": "markdown",
   "metadata": {},
   "source": [
    "## Story 28 정보은닉과 __dict__"
   ]
  },
  {
   "cell_type": "markdown",
   "metadata": {},
   "source": [
    "클래스의 변수에 직접 접근(ex - Simple.n) : 직접접근   \n",
    "메소드를 통한 변수 접근 : 간접접근 (안전성 UP)  \n",
    "    \n",
    "직접접근을 막고 코드의 안정성을 높이는 것이 '정보은닉'"
   ]
  },
  {
   "cell_type": "code",
   "execution_count": 2,
   "metadata": {},
   "outputs": [
    {
     "name": "stdout",
     "output_type": "stream",
     "text": [
      "James: 22\n",
      "James: 21\n"
     ]
    }
   ],
   "source": [
    "class Person:\n",
    "    def __init__(self, n, a):\n",
    "        self.name = n       # 이름 정보\n",
    "        self.age = a       # 나이 정보\n",
    "\n",
    "    def __str__(self):\n",
    "        return '{0}: {1}'.format(self.name, self.age)\n",
    "\n",
    "\n",
    "def main():\n",
    "    p = Person('James', 22)       # 22살의 James\n",
    "    print(p)\n",
    "    p.age -= 1    # += 대신 -=를 작성한 오류\n",
    "    print(p)\n",
    "\n",
    "main()\n",
    "\n",
    "# 위와 같은 코드의 문제점 :\n",
    "# (1) 오류 발생원인을 찾기 힘든코드\n",
    "# (2) 클래스 변수 직접접근을 허용함으로써 생긴 오류발생의 여지"
   ]
  },
  {
   "cell_type": "code",
   "execution_count": null,
   "metadata": {},
   "outputs": [],
   "source": [
    "# 코드개선(메소드 추가 -> 변수 직접접근 필요성과, 오류발생가능성 제거)\n",
    "# 메소드 추가 => 간접접근 (정보 은닉)\n",
    "class Person:\n",
    "    def __init__(self, n, a):\n",
    "        self.name = n       # 이름 정보\n",
    "        self.age = a       # 나이 정보\n",
    "\n",
    "    def add_age(self, a): # 직접접근을 막기위한 메소드 추가\n",
    "        if(a < 0):\n",
    "            print('나이 정보 오류')\n",
    "        else:\n",
    "            self.age += a\n",
    "\n",
    "    def __str__(self):\n",
    "        return '{0}: {1}'.format(self.name, self.age)\n",
    "\n",
    "\n",
    "def main():\n",
    "    p = Person('James', 22)       # 22살의 James\n",
    "    p.add_age(1) # 나이 감소와 같은 오류발생 가능성 제거\n",
    "    print(p)\n",
    "\n",
    "main()"
   ]
  },
  {
   "cell_type": "code",
   "execution_count": null,
   "metadata": {},
   "outputs": [],
   "source": [
    "# 직접접근을 기능적으로 방지한 코드 (self.__변수이름)\n",
    "# 객체에서 변수접근이 불가능해짐\n",
    "# '완벽한 정보은닉'\n",
    "class Person:\n",
    "    def __init__(self, n, a):\n",
    "        self.__name = n       # 이름 정보\n",
    "        self.__age = a       # 나이 정보\n",
    "\n",
    "    def add_age(self, a):\n",
    "        if(a < 0):\n",
    "            print('나이 정보 오류')\n",
    "        else:\n",
    "            self.__age += a\n",
    "\n",
    "    def __str__(self):\n",
    "        return '{0}: {1}'.format(self.__name, self.__age)\n",
    "\n",
    "\n",
    "def main():\n",
    "    p = Person('James', 22)       # 22살의 James\n",
    "    # p.__age += 1     # 이 문장을 실행하면 오류가 발생함\n",
    "    p.add_age(1)\n",
    "    print(p)\n",
    "\n",
    "main()"
   ]
  },
  {
   "cell_type": "markdown",
   "metadata": {},
   "source": [
    "'_ _ 변수이름': special method와 유사한 이름정의 style 때문에 일부에서 부정적 시각  \n",
    "  \n",
    "일종의 규칙 존재 : '_ 변수이름' 사용 ('직접 접근하지마라' 암시, 기능적으로는 접근 가능)  \n",
    "  \n",
    "코드 해석 과정에서 클래스의 '_ 변수이름' 발견 시, 메소드추가를 통한 간접접근도 예상할 수 있음"
   ]
  },
  {
   "cell_type": "code",
   "execution_count": 3,
   "metadata": {},
   "outputs": [
    {
     "name": "stdout",
     "output_type": "stream",
     "text": [
      "James: 23\n"
     ]
    }
   ],
   "source": [
    "# 일종의 약속 :\n",
    "# 직접접근 원하지 않는 변수에 '_ 변수이름' 사용\n",
    "class Person:\n",
    "    def __init__(self, n, a):\n",
    "        self._name = n       # 직접접근 지양\n",
    "        self._age = a       # 직접접근 지양\n",
    "\n",
    "    def add_age(self, a):\n",
    "        if(a < 0):\n",
    "            print('나이 정보 오류')\n",
    "        else:\n",
    "            self._age += a\n",
    "\n",
    "    def __str__(self):\n",
    "        return '{0}: {1}'.format(self._name, self._age)\n",
    "\n",
    "\n",
    "def main():\n",
    "    p = Person('James', 22)       # 22살의 James\n",
    "    # p._age += 1     # 이렇게 안쓰기로 약속했다.\n",
    "    p.add_age(1)\n",
    "    print(p)\n",
    "\n",
    "main()"
   ]
  },
  {
   "cell_type": "markdown",
   "metadata": {},
   "source": [
    "### [ _ _ dict _ _ ]  \n",
    "- 객체의 변수(Attr) 정보\n",
    "- 저장객체당 1개 존재"
   ]
  },
  {
   "cell_type": "code",
   "execution_count": 4,
   "metadata": {},
   "outputs": [
    {
     "name": "stdout",
     "output_type": "stream",
     "text": [
      "{'_name': 'James', '_age': 22}\n"
     ]
    }
   ],
   "source": [
    "# __dict__ 출력 예시\n",
    "class Person:\n",
    "    def __init__(self, n, a):\n",
    "        self._name = n       # 이름 정보\n",
    "        self._age = a       # 나이 정보\n",
    "\n",
    "def main():\n",
    "    p = Person('James', 22)       # 22살의 James\n",
    "    print(p.__dict__) # 객체 p 내에 있는 변수 정보 출력 - 변수정보 추가, 수정도 가능\n",
    "\n",
    "main()"
   ]
  },
  {
   "cell_type": "code",
   "execution_count": 5,
   "metadata": {},
   "outputs": [
    {
     "name": "stdout",
     "output_type": "stream",
     "text": [
      "{'_name': 'James', '_age': 22}\n",
      "{'_name': 'James', '_age': 22, 'len': 178, 'adr': 'Korea'}\n"
     ]
    }
   ],
   "source": [
    "# __dict__ 사용한 객체의 변수정보 추가\n",
    "# __dict__ 내용은 가변적\n",
    "class Person:\n",
    "    def __init__(self, n, a):\n",
    "        self._name = n       # 이름 정보\n",
    "        self._age = a       # 나이 정보\n",
    "\n",
    "def main():\n",
    "    p = Person('James', 22)       # n = 'James', s = '22'\n",
    "    print(p.__dict__)\n",
    "    p.len = 178             # len이라는 변수(값은 178)를 객체 p에 추가\n",
    "    p.adr = 'Korea'         # adr 변수(값은 'Korea')를 객체 p에 추가\n",
    "    print(p.__dict__)\n",
    "\n",
    "main()"
   ]
  },
  {
   "cell_type": "code",
   "execution_count": null,
   "metadata": {},
   "outputs": [],
   "source": [
    "# __dict__ 사용한 객체의 변수정보 수정\n",
    "class Simple:\n",
    "    def __init__(self, n, s):\n",
    "        self._n = n       # 단순 정수\n",
    "        self._s = s       # 단순 문자열\n",
    "\n",
    "    def __str__(self):\n",
    "        return '{0}: {1}'.format(self._n, self._s)\n",
    "\n",
    "\n",
    "def main():\n",
    "    sp = Simple(10, 'my') # n = 10, s = 'my'\n",
    "    print(sp) # __dict__ 변경 전\n",
    "\n",
    "    sp.__dict__['_n'] += 10   # __dict__ 직접 접근하는 것 권장 X\n",
    "    sp.__dict__['_s'] = 'your'\n",
    "    print(sp) # __dict__ 변경 후\n",
    "\n",
    "main()"
   ]
  },
  {
   "cell_type": "code",
   "execution_count": null,
   "metadata": {},
   "outputs": [],
   "source": [
    "# 직접접근 불가 변수(__변수)와 __dict__\n",
    "# __dict__에서의 이름 변경: _ClassName_AttrName\n",
    "\n",
    "class Person:\n",
    "    def __init__(self, n, a):\n",
    "        self.__name = n       # 직접접근 불가\n",
    "        self.__age = a       # 직접접근 불가\n",
    "\n",
    "def main():\n",
    "    p = Person('James', 22)       # 22살의 James\n",
    "    print(p.__dict__)\n",
    "\n",
    "main()\n",
    "\n",
    "# __변수 직접 접근 시 파이썬은 __dict__에서 key를 찾지만 없으므로 출력 X\n",
    "# 그러나 동일한 경우 __dict__ 접근 시,\n",
    "# 직접접근 허용하지 않도록 해당 변수들 이름을 일정한 패턴으로 변경하고 출력한다\n",
    "# 변경된 이름을 통해 직접접근은 가능은 하다"
   ]
  }
 ],
 "metadata": {
  "kernelspec": {
   "display_name": "Python 3",
   "language": "python",
   "name": "python3"
  },
  "language_info": {
   "codemirror_mode": {
    "name": "ipython",
    "version": 3
   },
   "file_extension": ".py",
   "mimetype": "text/x-python",
   "name": "python",
   "nbconvert_exporter": "python",
   "pygments_lexer": "ipython3",
   "version": "3.7.4"
  }
 },
 "nbformat": 4,
 "nbformat_minor": 4
}

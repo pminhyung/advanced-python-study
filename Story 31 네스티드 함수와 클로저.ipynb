{
 "cells": [
  {
   "cell_type": "markdown",
   "metadata": {},
   "source": [
    "## Story 31 네스티드 함수와 클로저"
   ]
  },
  {
   "cell_type": "markdown",
   "metadata": {},
   "source": [
    "### [함수를 만들어 반환하는 함수]"
   ]
  },
  {
   "cell_type": "code",
   "execution_count": 2,
   "metadata": {},
   "outputs": [
    {
     "name": "stdout",
     "output_type": "stream",
     "text": [
      "14\n",
      "21\n"
     ]
    }
   ],
   "source": [
    "# maker함수 내에 inner라는 (함수인)'객체'가 생성됨\n",
    "def maker(m):\n",
    "    def inner(n): # 함수 안에서 정의된 함수 : 'nested 함수'\n",
    "        return m * n\n",
    "    return inner # inner 객체(nested함수)를 반환함 - '파이썬에서 함수는 객체이므로'\n",
    "\n",
    "f1 = maker(2) # return 2 * n \n",
    "f2 = maker(3) # return 3 * n \n",
    "print(f1(7))\n",
    "print(f2(7))\n",
    "\n",
    "# inner 함수의 생성 시점은 maker함수가 call 될 때\n",
    "# func1(func2) 처럼 인자로 함수전달도 가능하다 - '파이썬에서 함수는 객체이다'"
   ]
  },
  {
   "cell_type": "markdown",
   "metadata": {},
   "source": [
    "### [클로저(Closure)] : 문법상의 특정 상황을 해결하는 파이썬의 기술 중 하나"
   ]
  },
  {
   "cell_type": "code",
   "execution_count": null,
   "metadata": {},
   "outputs": [],
   "source": [
    "def maker(m): # m은 maker 함수 안에서만 존재하는 변수\n",
    "    def inner(n): # maker 밖에서도 m이 유효할까?\n",
    "        return m * n\n",
    "    return inner\n",
    "\n",
    "f1 = maker(2) # 이후 2 * n이 return 되고 m은 사라진다\n",
    "f2 = maker(3) # 이후 3 * n이 return 되고 m은 사라진다\n",
    "\n",
    "# 변수 m은 maker 함수를 벗어나면 사라져버린다"
   ]
  },
  {
   "cell_type": "code",
   "execution_count": null,
   "metadata": {},
   "outputs": [],
   "source": [
    "print(f1(7)) # 이 때 객체에서 실제 변수 m을 참조하게 되는 순간, maker 함수의 밖이다\n",
    "print(f2(7))\n",
    "\n",
    "# 그러나 maker() call 당시, m의 값을 inner함수가 저장해놓는다"
   ]
  },
  {
   "cell_type": "code",
   "execution_count": 3,
   "metadata": {},
   "outputs": [
    {
     "name": "stdout",
     "output_type": "stream",
     "text": [
      "101\n",
      "75\n"
     ]
    }
   ],
   "source": [
    "# 클로저(Closure) 확인\n",
    "def maker(m): \n",
    "    def inner(n): \n",
    "        return m * n\n",
    "    return inner\n",
    "\n",
    "f1 = maker(101)\n",
    "f2 = maker(75)\n",
    "print(f1.__closure__[0].cell_contents) # 변수 m의 값을 저장한 위치\n",
    "print(f2.__closure__[0].cell_contents)"
   ]
  },
  {
   "cell_type": "code",
   "execution_count": null,
   "metadata": {},
   "outputs": [],
   "source": []
  }
 ],
 "metadata": {
  "kernelspec": {
   "display_name": "Python 3",
   "language": "python",
   "name": "python3"
  },
  "language_info": {
   "codemirror_mode": {
    "name": "ipython",
    "version": 3
   },
   "file_extension": ".py",
   "mimetype": "text/x-python",
   "name": "python",
   "nbconvert_exporter": "python",
   "pygments_lexer": "ipython3",
   "version": "3.7.4"
  }
 },
 "nbformat": 4,
 "nbformat_minor": 4
}
